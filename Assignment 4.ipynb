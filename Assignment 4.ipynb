{
 "cells": [
  {
   "cell_type": "code",
   "execution_count": 27,
   "id": "1258dc6c",
   "metadata": {},
   "outputs": [],
   "source": [
    "# Q1: What exactly is []?\n",
    "# [] is an empty list. It is similar to l = list() which is another way of creating a variable of list type"
   ]
  },
  {
   "cell_type": "code",
   "execution_count": 28,
   "id": "c3af9037",
   "metadata": {},
   "outputs": [
    {
     "data": {
      "text/plain": [
       "[2, 4, 'hello', 6, 8, 10]"
      ]
     },
     "execution_count": 28,
     "metadata": {},
     "output_type": "execute_result"
    }
   ],
   "source": [
    "# Q2: In a list of values stored in a variable called spam, how would you assign the value hello as the third value? (Assume [2, 4, 6, 8, 10] are in spam.)\n",
    "\n",
    "spam =  [2, 4, 6, 8, 10]\n",
    "spam.insert(2,\"hello\") #inserting \"hello\" as the third value(index would be 2)\n",
    "spam"
   ]
  },
  {
   "cell_type": "markdown",
   "id": "53ee9e4c",
   "metadata": {},
   "source": [
    "# Let's pretend the spam includes the list ['a','b','c','d'] for the next three queries."
   ]
  },
  {
   "cell_type": "code",
   "execution_count": 29,
   "id": "e801a5f9",
   "metadata": {},
   "outputs": [],
   "source": [
    "# Q3: What is the value of spam[int(int('3'* 2) / 11)]?\n",
    "# Answer: \"d\""
   ]
  },
  {
   "cell_type": "code",
   "execution_count": 31,
   "id": "4dde93c8",
   "metadata": {},
   "outputs": [
    {
     "data": {
      "text/plain": [
       "'d'"
      ]
     },
     "execution_count": 31,
     "metadata": {},
     "output_type": "execute_result"
    }
   ],
   "source": [
    "spam = ['a','b','c','d']\n",
    "spam[int(int('3'* 2) / 11)]"
   ]
  },
  {
   "cell_type": "code",
   "execution_count": 32,
   "id": "c19fad00",
   "metadata": {},
   "outputs": [
    {
     "data": {
      "text/plain": [
       "'a'"
      ]
     },
     "execution_count": 32,
     "metadata": {},
     "output_type": "execute_result"
    }
   ],
   "source": [
    "# Q4: What is the value of spam[-1]?\n",
    "# Answer: \"a\"\n",
    "spam[-4]"
   ]
  },
  {
   "cell_type": "code",
   "execution_count": 34,
   "id": "c4fe5014",
   "metadata": {},
   "outputs": [
    {
     "data": {
      "text/plain": [
       "['a', 'b']"
      ]
     },
     "execution_count": 34,
     "metadata": {},
     "output_type": "execute_result"
    }
   ],
   "source": [
    "# Q5: What is the value of spam[:2]?\n",
    "# Answer: ['a', 'b']\n",
    "spam[:2]"
   ]
  },
  {
   "cell_type": "markdown",
   "id": "f5c24b21",
   "metadata": {},
   "source": [
    "# Let's pretend  bacon has the list [3.14, 'cat', 11, 'cat', True]  for the next three queries."
   ]
  },
  {
   "cell_type": "code",
   "execution_count": 41,
   "id": "a83da61f",
   "metadata": {},
   "outputs": [
    {
     "data": {
      "text/plain": [
       "1"
      ]
     },
     "execution_count": 41,
     "metadata": {},
     "output_type": "execute_result"
    }
   ],
   "source": [
    "bacon = [3.14, 'cat', 11, 'cat', True]\n",
    "# Q6: what is the value of bacon.index('cat')?\n",
    "# Answer: 1\n",
    "bacon.index('cat')"
   ]
  },
  {
   "cell_type": "code",
   "execution_count": 42,
   "id": "5e16f1d4",
   "metadata": {},
   "outputs": [
    {
     "data": {
      "text/plain": [
       "[3.14, 'cat', 11, 'cat', True, 99]"
      ]
     },
     "execution_count": 42,
     "metadata": {},
     "output_type": "execute_result"
    }
   ],
   "source": [
    "# Q7: How does bacon.append(99) change the look of the list value in bacon?\n",
    "# Answer: bacon.append(99) appends the list with the value 99. The list will then have 1 more element than it had before\n",
    "bacon.append(99)\n",
    "bacon"
   ]
  },
  {
   "cell_type": "code",
   "execution_count": null,
   "id": "f6517ef1",
   "metadata": {},
   "outputs": [],
   "source": [
    "# Q8: How does bacon.remove('cat') change the look of the list in bacon?\n",
    "# Answer: bacon.remove('cat') will remove one of the \"cat\" elements from the list. Instead of 2 \"cat\" elements, the list will now have only 1\n",
    "bacon.remove('cat')\n",
    "bacon"
   ]
  },
  {
   "cell_type": "code",
   "execution_count": 47,
   "id": "e19c4db3",
   "metadata": {},
   "outputs": [],
   "source": [
    "# Q9: What are the list concatenation and list replication operators?\n",
    "# Answer: List concatenation is done using \"+\" operator and list replication is done using \"*\" operator"
   ]
  },
  {
   "cell_type": "code",
   "execution_count": null,
   "id": "462374d6",
   "metadata": {},
   "outputs": [],
   "source": [
    "# Q10: What is difference between the list methods append() and insert()?\n",
    "\"\"\"Answer: Either of the methods could be used for adding an element in a list. However, with append()\n",
    "the element will be added at the end only where as the insert() method allows for adding an element \n",
    "at any index we choose\"\"\""
   ]
  },
  {
   "cell_type": "code",
   "execution_count": 48,
   "id": "a961ea87",
   "metadata": {},
   "outputs": [],
   "source": [
    "# Q11: What are the two methods for removing items from a list?\n",
    "# Answer: remove(), pop(), del(). These methods could be used for removing an item from the list"
   ]
  },
  {
   "cell_type": "code",
   "execution_count": 50,
   "id": "3edecfc3",
   "metadata": {},
   "outputs": [],
   "source": [
    "# Q12: Describe how list values and string values are identical.\n",
    "# Answer: A string is a sequence of characters. A list is a sequence of values which can be characters, integers or even another list"
   ]
  },
  {
   "cell_type": "code",
   "execution_count": 51,
   "id": "251db674",
   "metadata": {},
   "outputs": [],
   "source": [
    "# Q13: What's the difference between tuples and lists?\n",
    "# Answer: Lists are mutable and Tuples are immutable"
   ]
  },
  {
   "cell_type": "code",
   "execution_count": 52,
   "id": "41054b00",
   "metadata": {},
   "outputs": [],
   "source": [
    "# Q14: How do you type a tuple value that only contains the integer 42?\n",
    "# Answer: t = (42,)"
   ]
  },
  {
   "cell_type": "code",
   "execution_count": 76,
   "id": "7d81a6bf",
   "metadata": {},
   "outputs": [
    {
     "name": "stdout",
     "output_type": "stream",
     "text": [
      "<class 'tuple'> <class 'list'>\n"
     ]
    }
   ],
   "source": [
    "# Q15: How do you get a list value's tuple form? How do you get a tuple value&#39;s list form?\n",
    "# Answer: \n",
    "l1 = [1,2,3]\n",
    "t1 = (1,2,3)\n",
    "l1 =tuple(l1)\n",
    "t1 = list(t1)\n",
    "print(type(l1), type(t1))"
   ]
  },
  {
   "cell_type": "code",
   "execution_count": 77,
   "id": "18b76817",
   "metadata": {},
   "outputs": [],
   "source": [
    "# Q16: Variables that \"contain\" list values are not necessarily lists themselves. Instead, what do they contain?\n",
    "# Answer: A list variable contains the reference to the list values but not the values themselves"
   ]
  },
  {
   "cell_type": "code",
   "execution_count": null,
   "id": "b67b1852",
   "metadata": {},
   "outputs": [],
   "source": [
    "# Q17: How do you distinguish between copy.copy() and copy.deepcopy()?\n",
    "\"\"\" \n",
    "Answer: copy() create reference to original object. If you change copied object - you change the original object. \n",
    ". deepcopy() creates new object and does real copying of original object to new one. \n",
    "Changing new deepcopied object doesn't affect original object.\"\"\""
   ]
  },
  {
   "cell_type": "code",
   "execution_count": null,
   "id": "c2ddbb34",
   "metadata": {},
   "outputs": [],
   "source": []
  },
  {
   "cell_type": "code",
   "execution_count": null,
   "id": "8a09ee4f",
   "metadata": {},
   "outputs": [],
   "source": []
  }
 ],
 "metadata": {
  "kernelspec": {
   "display_name": "Python 3 (ipykernel)",
   "language": "python",
   "name": "python3"
  },
  "language_info": {
   "codemirror_mode": {
    "name": "ipython",
    "version": 3
   },
   "file_extension": ".py",
   "mimetype": "text/x-python",
   "name": "python",
   "nbconvert_exporter": "python",
   "pygments_lexer": "ipython3",
   "version": "3.9.12"
  }
 },
 "nbformat": 4,
 "nbformat_minor": 5
}
