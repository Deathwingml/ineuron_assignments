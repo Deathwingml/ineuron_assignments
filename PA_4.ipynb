{
  "nbformat": 4,
  "nbformat_minor": 0,
  "metadata": {
    "colab": {
      "provenance": [],
      "authorship_tag": "ABX9TyMa9HWL+zS6c1lgdTa/cmQP",
      "include_colab_link": true
    },
    "kernelspec": {
      "name": "python3",
      "display_name": "Python 3"
    },
    "language_info": {
      "name": "python"
    }
  },
  "cells": [
    {
      "cell_type": "markdown",
      "metadata": {
        "id": "view-in-github",
        "colab_type": "text"
      },
      "source": [
        "<a href=\"https://colab.research.google.com/github/Deathwingml/ineuron_assignments/blob/main/PA_4.ipynb\" target=\"_parent\"><img src=\"https://colab.research.google.com/assets/colab-badge.svg\" alt=\"Open In Colab\"/></a>"
      ]
    },
    {
      "cell_type": "code",
      "execution_count": null,
      "metadata": {
        "colab": {
          "base_uri": "https://localhost:8080/"
        },
        "id": "tJG2GLSVFVmM",
        "outputId": "8b0aa009-e754-42d4-efd6-33713e7255bd"
      },
      "outputs": [
        {
          "output_type": "stream",
          "name": "stdout",
          "text": [
            "The factorial of 10 is 3628800.\n"
          ]
        }
      ],
      "source": [
        "#1. Write a Python Program to Find the Factorial of a Number?\n",
        "\n",
        "def factorial(number):\n",
        "    if number == 0:\n",
        "        return 1\n",
        "    else:\n",
        "        return number * factorial(number - 1)\n",
        "\n",
        "# can Take input from the user\n",
        "num = 10\n",
        "\n",
        "# Check if the number is negative\n",
        "if num < 0:\n",
        "    print(\"Factorial does not exist for negative numbers.\")\n",
        "elif num == 0:\n",
        "    print(\"The factorial of 0 is 1.\")\n",
        "else:\n",
        "    result = factorial(num)\n",
        "    print(f\"The factorial of {num} is {result}.\")\n"
      ]
    },
    {
      "cell_type": "code",
      "source": [
        "#2. Write a Python Program to Display the multiplication Table?\n",
        "\n",
        "def multiplication_table(num):\n",
        "    for i in range(1, 11):\n",
        "        print(f\"{num} x {i} = {num * i}\")\n",
        "\n",
        "# can Take input from the user\n",
        "num = 5\n",
        "\n",
        "print(f\"Multiplication Table for {num}:\")\n",
        "multiplication_table(num)\n"
      ],
      "metadata": {
        "id": "-Dytr12gFlur",
        "colab": {
          "base_uri": "https://localhost:8080/"
        },
        "outputId": "d1403fea-c3f1-4984-99f8-3e803e266291"
      },
      "execution_count": 1,
      "outputs": [
        {
          "output_type": "stream",
          "name": "stdout",
          "text": [
            "Multiplication Table for 5:\n",
            "5 x 1 = 5\n",
            "5 x 2 = 10\n",
            "5 x 3 = 15\n",
            "5 x 4 = 20\n",
            "5 x 5 = 25\n",
            "5 x 6 = 30\n",
            "5 x 7 = 35\n",
            "5 x 8 = 40\n",
            "5 x 9 = 45\n",
            "5 x 10 = 50\n"
          ]
        }
      ]
    },
    {
      "cell_type": "code",
      "source": [
        "#3. Write a Python Program to Print the Fibonacci sequence?\n",
        "\n",
        "def fibonacci_sequence(n):\n",
        "    sequence = [0, 1]  # Initialize the sequence with the first two numbers\n",
        "\n",
        "    if n <= 0:\n",
        "        return []\n",
        "\n",
        "    elif n == 1:\n",
        "        return [0]\n",
        "\n",
        "    elif n == 2:\n",
        "        return sequence\n",
        "\n",
        "    else:\n",
        "        while len(sequence) < n:\n",
        "            next_number = sequence[-1] + sequence[-2]\n",
        "            sequence.append(next_number)\n",
        "\n",
        "    return sequence\n",
        "\n",
        "\n",
        "# Take input from the user\n",
        "terms = 8  #Enter the number of terms in the Fibonacci sequence\n",
        "\n",
        "# Print the Fibonacci sequence\n",
        "print(\"Fibonacci Sequence:\")\n",
        "fib_sequence = fibonacci_sequence(terms)\n",
        "for num in fib_sequence:\n",
        "    print(num, end=\" \")\n"
      ],
      "metadata": {
        "colab": {
          "base_uri": "https://localhost:8080/"
        },
        "id": "04j1SfNefkP1",
        "outputId": "d6ecc669-a14b-43f5-a801-59e01b97d044"
      },
      "execution_count": 2,
      "outputs": [
        {
          "output_type": "stream",
          "name": "stdout",
          "text": [
            "Fibonacci Sequence:\n",
            "0 1 1 2 3 5 8 13 "
          ]
        }
      ]
    },
    {
      "cell_type": "code",
      "source": [
        "#4. Write a Python Program to Check Armstrong Number?\n",
        "\n",
        "def is_armstrong_number(num):\n",
        "    # Convert the number to a string to calculate the length\n",
        "    num_str = str(num)\n",
        "    # Calculate the length of the number\n",
        "    num_len = len(num_str)\n",
        "    \n",
        "    # Initialize the sum variable\n",
        "    armstrong_sum = 0\n",
        "    \n",
        "    # Calculate the sum of the cubes of each digit\n",
        "    for digit in num_str:\n",
        "        armstrong_sum += int(digit) ** num_len\n",
        "    \n",
        "    # Check if the sum is equal to the original number\n",
        "    if armstrong_sum == num:\n",
        "        return True\n",
        "    else:\n",
        "        return False\n",
        "\n",
        "\n",
        "# Take input from the user\n",
        "number = 8\n",
        "\n",
        "# Check if the number is an Armstrong number\n",
        "if is_armstrong_number(number):\n",
        "    print(number, \"is an Armstrong number.\")\n",
        "else:\n",
        "    print(number, \"is not an Armstrong number.\")\n"
      ],
      "metadata": {
        "colab": {
          "base_uri": "https://localhost:8080/"
        },
        "id": "hhaskVrBkg1a",
        "outputId": "0980f6ff-4916-4f8d-d2a1-48dca0dd8a2c"
      },
      "execution_count": 3,
      "outputs": [
        {
          "output_type": "stream",
          "name": "stdout",
          "text": [
            "8 is an Armstrong number.\n"
          ]
        }
      ]
    },
    {
      "cell_type": "code",
      "source": [
        "#5. Write a Python Program to Find Armstrong Number in an Interval?\n",
        "\n",
        "def is_armstrong_number(num):\n",
        "    # Convert the number to a string to calculate the length\n",
        "    num_str = str(num)\n",
        "    # Calculate the length of the number\n",
        "    num_len = len(num_str)\n",
        "    \n",
        "    # Initialize the sum variable\n",
        "    armstrong_sum = 0\n",
        "    \n",
        "    # Calculate the sum of the cubes of each digit\n",
        "    for digit in num_str:\n",
        "        armstrong_sum += int(digit) ** num_len\n",
        "    \n",
        "    # Check if the sum is equal to the original number\n",
        "    if armstrong_sum == num:\n",
        "        return True\n",
        "    else:\n",
        "        return False\n",
        "\n",
        "\n",
        "# Take input from the user for the interval\n",
        "start = 5\n",
        "end = 9\n",
        "\n",
        "# Iterate through the interval and check for Armstrong numbers\n",
        "print(\"Armstrong numbers in the interval\", start, \"to\", end, \"are:\")\n",
        "for number in range(start, end + 1):\n",
        "    if is_armstrong_number(number):\n",
        "        print(number)\n"
      ],
      "metadata": {
        "colab": {
          "base_uri": "https://localhost:8080/"
        },
        "id": "TlbyDpSNkyRX",
        "outputId": "eddb4ace-d21a-4586-851f-f3b2de4c8dd2"
      },
      "execution_count": 4,
      "outputs": [
        {
          "output_type": "stream",
          "name": "stdout",
          "text": [
            "Armstrong numbers in the interval 5 to 9 are:\n",
            "5\n",
            "6\n",
            "7\n",
            "8\n",
            "9\n"
          ]
        }
      ]
    },
    {
      "cell_type": "code",
      "source": [
        "#6. Write a Python Program to Find the Sum of Natural Numbers?\n",
        "\n",
        "def find_sum_of_natural_numbers(limit):\n",
        "    sum = 0\n",
        "    \n",
        "    # Iterate through numbers from 1 to the given limit\n",
        "    for num in range(1, limit + 1):\n",
        "        sum += num\n",
        "    \n",
        "    return sum\n",
        "\n",
        "\n",
        "# Take input from the user for the limit\n",
        "limit = 4\n",
        "\n",
        "# Find the sum of natural numbers up to the given limit\n",
        "sum_of_numbers = find_sum_of_natural_numbers(limit)\n",
        "\n",
        "# Print the sum\n",
        "print(\"Sum of natural numbers up to\", limit, \"is:\", sum_of_numbers)\n"
      ],
      "metadata": {
        "colab": {
          "base_uri": "https://localhost:8080/"
        },
        "id": "NirPso89lVhJ",
        "outputId": "79d096b8-bf60-487f-ed62-39f85efe433b"
      },
      "execution_count": 5,
      "outputs": [
        {
          "output_type": "stream",
          "name": "stdout",
          "text": [
            "Sum of natural numbers up to 4 is: 10\n"
          ]
        }
      ]
    },
    {
      "cell_type": "code",
      "source": [],
      "metadata": {
        "id": "Y7wPPbUeliP4"
      },
      "execution_count": null,
      "outputs": []
    }
  ]
}