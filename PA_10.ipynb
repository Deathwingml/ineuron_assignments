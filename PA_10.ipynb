{
  "nbformat": 4,
  "nbformat_minor": 0,
  "metadata": {
    "colab": {
      "provenance": [],
      "authorship_tag": "ABX9TyMEv2NX6cBGDorYWlvwYKcU",
      "include_colab_link": true
    },
    "kernelspec": {
      "name": "python3",
      "display_name": "Python 3"
    },
    "language_info": {
      "name": "python"
    }
  },
  "cells": [
    {
      "cell_type": "markdown",
      "metadata": {
        "id": "view-in-github",
        "colab_type": "text"
      },
      "source": [
        "<a href=\"https://colab.research.google.com/github/Deathwingml/ineuron_assignments/blob/main/PA_10.ipynb\" target=\"_parent\"><img src=\"https://colab.research.google.com/assets/colab-badge.svg\" alt=\"Open In Colab\"/></a>"
      ]
    },
    {
      "cell_type": "code",
      "execution_count": 4,
      "metadata": {
        "colab": {
          "base_uri": "https://localhost:8080/"
        },
        "id": "j8IVOKu-qmjj",
        "outputId": "ba855c50-b280-44c6-e4fa-b57ade294e59"
      },
      "outputs": [
        {
          "output_type": "stream",
          "name": "stdout",
          "text": [
            "15\n"
          ]
        }
      ],
      "source": [
        "#1. Write a Python program to find sum of elements in list?\n",
        "\n",
        "def sum_elements(elements):\n",
        "    sum = 0\n",
        "    for i in elements:\n",
        "      sum = sum + i\n",
        "    return sum\n",
        "\n",
        "l = [1,2,3,4,5]\n",
        "sum_of_ele = sum_elements(l)\n",
        "print(sum_of_ele)\n"
      ]
    },
    {
      "cell_type": "code",
      "source": [
        "#2. Write a Python program to Multiply all numbers in the list?\n",
        "\n",
        "def mul_elements(elements):\n",
        "    mul = 1\n",
        "    for i in elements:\n",
        "      mul = mul * i\n",
        "    return mul\n",
        "\n",
        "l = [1,2,3,4,5]\n",
        "mul_of_ele = mul_elements(l)\n",
        "print(mul_of_ele)"
      ],
      "metadata": {
        "colab": {
          "base_uri": "https://localhost:8080/"
        },
        "id": "ajo4c4grsCk3",
        "outputId": "c9f29c5e-bbf1-4149-d9f6-f85b1e3c02c7"
      },
      "execution_count": 5,
      "outputs": [
        {
          "output_type": "stream",
          "name": "stdout",
          "text": [
            "120\n"
          ]
        }
      ]
    },
    {
      "cell_type": "code",
      "source": [
        "#3. Write a Python program to find smallest number in a list?\n",
        "\n",
        "def find_smallest(numbers):\n",
        "    smallest = numbers[0]\n",
        "    for num in numbers:\n",
        "        if num < smallest:\n",
        "            smallest = num\n",
        "    return smallest\n",
        "\n",
        "# Example usage\n",
        "my_list = [5, 2, 8, 1, 9, 3]\n",
        "smallest_number = find_smallest(my_list)\n",
        "print(\"Smallest number:\", smallest_number)\n"
      ],
      "metadata": {
        "colab": {
          "base_uri": "https://localhost:8080/"
        },
        "id": "3PrSuNBXtCN-",
        "outputId": "1d013ee7-5cca-47f4-c606-b2c3919c55ff"
      },
      "execution_count": 6,
      "outputs": [
        {
          "output_type": "stream",
          "name": "stdout",
          "text": [
            "Smallest number: 1\n"
          ]
        }
      ]
    },
    {
      "cell_type": "code",
      "source": [
        "#4. Write a Python program to find largest number in a list?\n",
        "\n",
        "def find_largest(numbers):\n",
        "    largest = numbers[0]\n",
        "    for num in numbers:\n",
        "        if num > largest:\n",
        "            largest = num\n",
        "    return largest\n",
        "\n",
        "# Example usage\n",
        "my_list = [5, 2, 8, 1, 9, 3]\n",
        "largest_number = find_largest(my_list)\n",
        "print(\"largest number:\", largest_number)\n"
      ],
      "metadata": {
        "colab": {
          "base_uri": "https://localhost:8080/"
        },
        "id": "4oWWkdKntWi5",
        "outputId": "1e461ec1-af11-4393-9f1e-1a4d6183c625"
      },
      "execution_count": 7,
      "outputs": [
        {
          "output_type": "stream",
          "name": "stdout",
          "text": [
            "largest number: 9\n"
          ]
        }
      ]
    },
    {
      "cell_type": "code",
      "source": [
        "#5. Write a Python program to find second largest number in a list?\n",
        "\n",
        "def find_second_largest(numbers):\n",
        "    largest = float('-inf')\n",
        "    second_largest = float('-inf')\n",
        "    for num in numbers:\n",
        "        if num > largest:\n",
        "            second_largest = largest\n",
        "            largest = num\n",
        "        elif num > second_largest and num != largest:\n",
        "            second_largest = num\n",
        "    return second_largest\n",
        "\n",
        "# Example usage\n",
        "my_list = [5, 2, 8, 1, 9, 3]\n",
        "second_largest_number = find_second_largest(my_list)\n",
        "print(\"Second largest number:\", second_largest_number)\n"
      ],
      "metadata": {
        "colab": {
          "base_uri": "https://localhost:8080/"
        },
        "id": "y__0cmxYBA8j",
        "outputId": "baf6c206-7f52-4de0-9811-ad1e96feebeb"
      },
      "execution_count": 8,
      "outputs": [
        {
          "output_type": "stream",
          "name": "stdout",
          "text": [
            "Second largest number: 8\n"
          ]
        }
      ]
    },
    {
      "cell_type": "code",
      "source": [
        "#6. Write a Python program to find N largest elements from a list?\n",
        "\n",
        "import heapq\n",
        "\n",
        "def find_n_largest_elements(lst, N):\n",
        "    largest_elements = heapq.nlargest(N, lst)\n",
        "    return largest_elements\n",
        "\n",
        "# Example usage\n",
        "numbers = [10, 5, 8, 12, 3, 20, 15]\n",
        "N = 3\n",
        "result = find_n_largest_elements(numbers, N)\n",
        "print(result)  # Output: [20, 15, 12]\n"
      ],
      "metadata": {
        "colab": {
          "base_uri": "https://localhost:8080/"
        },
        "id": "qzFpkrAdBq8z",
        "outputId": "f2c37269-9453-4259-feb3-e300045a8dd1"
      },
      "execution_count": 9,
      "outputs": [
        {
          "output_type": "stream",
          "name": "stdout",
          "text": [
            "[20, 15, 12]\n"
          ]
        }
      ]
    },
    {
      "cell_type": "code",
      "source": [
        "#7. Write a Python program to print even numbers in a list?\n",
        "\n",
        "def print_even_numbers(lst):\n",
        "    for num in lst:\n",
        "        if num % 2 == 0:\n",
        "            print(num)\n",
        "\n",
        "# Example usage\n",
        "numbers = [1, 2, 3, 4, 5, 6, 7, 8, 9, 10]\n",
        "print_even_numbers(numbers)\n"
      ],
      "metadata": {
        "colab": {
          "base_uri": "https://localhost:8080/"
        },
        "id": "HLhoYo8VCD9A",
        "outputId": "3185ffdd-ae13-4183-85e6-b80c565ff07f"
      },
      "execution_count": 10,
      "outputs": [
        {
          "output_type": "stream",
          "name": "stdout",
          "text": [
            "2\n",
            "4\n",
            "6\n",
            "8\n",
            "10\n"
          ]
        }
      ]
    },
    {
      "cell_type": "code",
      "source": [
        "#8. Write a Python program to print odd numbers in a List?\n",
        "\n",
        "def print_odd_numbers(lst):\n",
        "    for num in lst:\n",
        "        if num % 2 != 0:\n",
        "            print(num)\n",
        "\n",
        "\n",
        "# Example usage\n",
        "numbers = [1, 2, 3, 4, 5, 6, 7, 8, 9, 10]\n",
        "print_odd_numbers(numbers)\n"
      ],
      "metadata": {
        "colab": {
          "base_uri": "https://localhost:8080/"
        },
        "id": "HKO60baICQNO",
        "outputId": "a34b6cfa-c382-4af5-e1dd-464229775fd0"
      },
      "execution_count": 13,
      "outputs": [
        {
          "output_type": "stream",
          "name": "stdout",
          "text": [
            "1\n",
            "3\n",
            "5\n",
            "7\n",
            "9\n"
          ]
        }
      ]
    },
    {
      "cell_type": "code",
      "source": [
        "#9. Write a Python program to Remove empty List from List?\n",
        "\n",
        "def remove_empty_lists(lst):\n",
        "    return [sublst for sublst in lst if sublst]\n",
        "\n",
        "# Example usage\n",
        "my_list = [1, [], [2, 3], [], [], [4, 5, 6], []]\n",
        "filtered_list = remove_empty_lists(my_list)\n",
        "print(filtered_list)\n"
      ],
      "metadata": {
        "colab": {
          "base_uri": "https://localhost:8080/"
        },
        "id": "iD7aozwzCVw0",
        "outputId": "1f4cbc9e-4c29-440a-bad2-9c479c5703b0"
      },
      "execution_count": 14,
      "outputs": [
        {
          "output_type": "stream",
          "name": "stdout",
          "text": [
            "[1, [2, 3], [4, 5, 6]]\n"
          ]
        }
      ]
    },
    {
      "cell_type": "code",
      "source": [
        "#10. Write a Python program to Cloning or Copying a list?\n",
        "\n",
        "import copy\n",
        "\n",
        "def clone_list(lst):\n",
        "    return copy.copy(lst)\n",
        "\n",
        "# Example usage\n",
        "original_list = [1, 2, 3, 4, 5]\n",
        "cloned_list = clone_list(original_list)\n",
        "print(cloned_list)\n"
      ],
      "metadata": {
        "colab": {
          "base_uri": "https://localhost:8080/"
        },
        "id": "vDAfnR1MCpRB",
        "outputId": "a17a180f-abbd-407a-e6da-7bb14fbb5f9d"
      },
      "execution_count": 15,
      "outputs": [
        {
          "output_type": "stream",
          "name": "stdout",
          "text": [
            "[1, 2, 3, 4, 5]\n"
          ]
        }
      ]
    },
    {
      "cell_type": "code",
      "source": [
        "#11. Write a Python program to Count occurrences of an element in a list?\n",
        "\n",
        "def count_occurrences(lst, element):\n",
        "    return lst.count(element)\n",
        "\n",
        "# Example usage\n",
        "my_list = [1, 2, 3, 4, 1, 2, 1, 5]\n",
        "element_to_count = 1\n",
        "occurrences = count_occurrences(my_list, element_to_count)\n",
        "print(f\"The element {element_to_count} appears {occurrences} times in the list.\")\n"
      ],
      "metadata": {
        "colab": {
          "base_uri": "https://localhost:8080/"
        },
        "id": "-02nHp7EC4Cm",
        "outputId": "9e4776d5-ba0c-4e7a-b388-dd4dc67e59fb"
      },
      "execution_count": 16,
      "outputs": [
        {
          "output_type": "stream",
          "name": "stdout",
          "text": [
            "The element 1 appears 3 times in the list.\n"
          ]
        }
      ]
    },
    {
      "cell_type": "code",
      "source": [],
      "metadata": {
        "id": "EHJHwYv0C_Us"
      },
      "execution_count": null,
      "outputs": []
    }
  ]
}