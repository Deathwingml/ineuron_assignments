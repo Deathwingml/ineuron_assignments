{
  "nbformat": 4,
  "nbformat_minor": 0,
  "metadata": {
    "colab": {
      "provenance": [],
      "authorship_tag": "ABX9TyNFzQk8WmHq+NijGbORDQN8",
      "include_colab_link": true
    },
    "kernelspec": {
      "name": "python3",
      "display_name": "Python 3"
    },
    "language_info": {
      "name": "python"
    }
  },
  "cells": [
    {
      "cell_type": "markdown",
      "metadata": {
        "id": "view-in-github",
        "colab_type": "text"
      },
      "source": [
        "<a href=\"https://colab.research.google.com/github/Deathwingml/ineuron_assignments/blob/main/Assignment_10.ipynb\" target=\"_parent\"><img src=\"https://colab.research.google.com/assets/colab-badge.svg\" alt=\"Open In Colab\"/></a>"
      ]
    },
    {
      "cell_type": "code",
      "execution_count": null,
      "metadata": {
        "id": "H6QS0aIfRRed"
      },
      "outputs": [],
      "source": []
    },
    {
      "cell_type": "markdown",
      "source": [
        "#1. How do you distinguish between shutil.copy() and shutil.copytree()?\n",
        "\n",
        "Answer:\n",
        "\n",
        "The shutil.copy() and shutil.copytree() functions in Python's shutil module are used for file and directory copying operations, respectively. Here's how you can distinguish between them:\n",
        "\n",
        "shutil.copy(src, dst): This function is used to copy a single file from the source (src) to the destination (dst). It creates a new file at the destination with the same contents as the source file. If the destination file already exists, it will be overwritten.\n",
        "\n",
        "shutil.copytree(src, dst): This function is used to recursively copy an entire directory tree from the source (src) to the destination (dst). It creates a new directory at the destination and copies all the files and subdirectories from the source directory into the destination directory.\n",
        "\n",
        "Key differences:\n",
        "\n",
        "shutil.copy() is used for copying individual files, while shutil.copytree() is used for copying directories and their contents recursively.\n",
        "shutil.copy() requires the source file to be specified with its full path, whereas shutil.copytree() requires the source directory to be specified with its full path.\n",
        "shutil.copy() creates a new file at the destination, while shutil.copytree() creates a new directory at the destination and copies all files and subdirectories recursively."
      ],
      "metadata": {
        "id": "PouRJwNrRYHr"
      }
    },
    {
      "cell_type": "markdown",
      "source": [
        "# 2. What function is used to rename files??\n",
        "\n",
        "Answer\n",
        "\n",
        "The shutil.move() function is commonly used to rename files in Python. Although the primary purpose of shutil.move() is to move files and directories, it can also be used to rename files by specifying the new name as the destination.\n",
        "\n",
        "```\n",
        "import shutil\n",
        "\n",
        "# Rename a file by moving it to a new name/location\n",
        "shutil.move('old_name.txt', 'new_name.txt')\n",
        "```"
      ],
      "metadata": {
        "id": "i81ckvjImRKi"
      }
    },
    {
      "cell_type": "markdown",
      "source": [
        "#3. What is the difference between the delete functions in the send2trash and shutil modules?\n",
        "\n",
        "Answer\n",
        "\n",
        "The send2trash and shutil modules in Python provide functions for deleting files and directories, but they have some differences:\n",
        "\n",
        "send2trash module:\n",
        "The send2trash module provides a safe way to delete files or directories by sending them to the operating system's trash or recycle bin instead of permanently deleting them.\n",
        "The send2trash.send2trash() function is used to delete files or directories, and it moves them to the trash or recycle bin, depending on the operating system.\n",
        "It offers a more cautious approach compared to direct deletion, as it allows potential recovery of deleted files from the trash or recycle bin.\n",
        "\n",
        "shutil module:\n",
        "The shutil module provides functions for file and directory operations, including deletion.\n",
        "The shutil.rmtree() function is commonly used to delete directories and their contents recursively.\n",
        "The os.remove() function can be used to delete individual files.\n",
        "These functions directly and permanently delete files or directories, without sending them to the trash or recycle bin."
      ],
      "metadata": {
        "id": "h7z-182Rmf67"
      }
    },
    {
      "cell_type": "markdown",
      "source": [
        "# 4.ZipFile objects have a close() method just like File objects’ close() method. What ZipFile method is equivalent to File objects’ open() method?\n",
        "\n",
        "Answer:\n",
        "\n",
        "The equivalent method in ZipFile objects to the open() method in File objects is the extract() method.\n",
        "\n",
        "The extract() method in ZipFile allows you to extract a single file from the archive and return a file-like object that can be used to read its contents. It is similar to opening a file for reading using the open() method."
      ],
      "metadata": {
        "id": "gTuODb0qmzM4"
      }
    },
    {
      "cell_type": "markdown",
      "source": [
        "#5. Create a programme that searches a folder tree for files with a certain file extension (such as .pdf or .jpg). Copy these files from whatever location they are in to a new folder"
      ],
      "metadata": {
        "id": "eFHVkefGnATn"
      }
    },
    {
      "cell_type": "code",
      "source": [
        "import os\n",
        "import shutil\n",
        "\n",
        "def search_and_copy_files(source_folder, target_folder, file_extension):\n",
        "    # Create the target folder if it doesn't exist\n",
        "    if not os.path.exists(target_folder):\n",
        "        os.makedirs(target_folder)\n",
        "\n",
        "    # Iterate through the source folder and its subdirectories\n",
        "    for root, dirs, files in os.walk(source_folder):\n",
        "        for file in files:\n",
        "            # Check if the file has the desired extension\n",
        "            if file.endswith(file_extension):\n",
        "                # Get the full path of the source file\n",
        "                source_path = os.path.join(root, file)\n",
        "\n",
        "                # Construct the destination path\n",
        "                destination_path = os.path.join(target_folder, file)\n",
        "\n",
        "                # Copy the file to the target folder\n",
        "                shutil.copy2(source_path, destination_path)\n",
        "\n",
        "# Example usage\n",
        "source_folder = '/path/to/source/folder'\n",
        "target_folder = '/path/to/target/folder'\n",
        "file_extension = '.pdf'\n",
        "\n",
        "search_and_copy_files(source_folder, target_folder, file_extension)\n"
      ],
      "metadata": {
        "id": "35CyOqG2mfkQ"
      },
      "execution_count": 1,
      "outputs": []
    },
    {
      "cell_type": "code",
      "source": [],
      "metadata": {
        "id": "9EWidSUvnX-h"
      },
      "execution_count": null,
      "outputs": []
    }
  ]
}