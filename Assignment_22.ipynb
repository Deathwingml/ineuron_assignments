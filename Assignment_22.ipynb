{
  "nbformat": 4,
  "nbformat_minor": 0,
  "metadata": {
    "colab": {
      "provenance": [],
      "authorship_tag": "ABX9TyM1jEF8ql9+EDT9rYvQOeS4",
      "include_colab_link": true
    },
    "kernelspec": {
      "name": "python3",
      "display_name": "Python 3"
    },
    "language_info": {
      "name": "python"
    }
  },
  "cells": [
    {
      "cell_type": "markdown",
      "metadata": {
        "id": "view-in-github",
        "colab_type": "text"
      },
      "source": [
        "<a href=\"https://colab.research.google.com/github/Deathwingml/ineuron_assignments/blob/main/Assignment_22.ipynb\" target=\"_parent\"><img src=\"https://colab.research.google.com/assets/colab-badge.svg\" alt=\"Open In Colab\"/></a>"
      ]
    },
    {
      "cell_type": "code",
      "execution_count": null,
      "metadata": {
        "id": "x1iWRHgplR5v"
      },
      "outputs": [],
      "source": []
    },
    {
      "cell_type": "markdown",
      "source": [
        "#1. What is the result of the code, and explain?\n",
        "\n",
        "Answer:\n",
        "\n",
        "The code will print the value of the variable X, which is 'iNeuron'.\n",
        "\n",
        "Explanation:\n",
        "\n",
        "* First, the variable X is assigned the string value 'iNeuron'.\n",
        "* Then, a function named func() is defined.\n",
        "* Inside the func() function, the statement print(X) is executed.\n",
        "* When the function func() is called (func()), it prints the value of the variable X, which is 'iNeuron'."
      ],
      "metadata": {
        "id": "60TNZAvClabV"
      }
    },
    {
      "cell_type": "code",
      "source": [
        "X = 'iNeuron'\n",
        "def func():\n",
        "  print(X)\n",
        "\n",
        "func()"
      ],
      "metadata": {
        "colab": {
          "base_uri": "https://localhost:8080/"
        },
        "id": "aetB8Md4lrlR",
        "outputId": "71829530-5cd8-4f72-c518-68e1b818da5e"
      },
      "execution_count": 2,
      "outputs": [
        {
          "output_type": "stream",
          "name": "stdout",
          "text": [
            "iNeuron\n"
          ]
        }
      ]
    },
    {
      "cell_type": "code",
      "source": [],
      "metadata": {
        "id": "4t6a9BXKl2Tu"
      },
      "execution_count": null,
      "outputs": []
    },
    {
      "cell_type": "markdown",
      "source": [
        "#2. What is the result of the code, and explain?\n",
        "Answer:\n",
        "\n",
        "The result of the code will be 'iNeuron'.\n",
        "\n",
        "Explanation:\n",
        "\n",
        "* The variable X is initially assigned the value 'iNeuron'.\n",
        "* The func() function is defined, and inside the function, a new value 'NI!' is assigned to a local variable X.\n",
        "* When the func() function is called (func()), it assigns the value 'NI!' to the local variable X, but it does not affect the global variable X outside the function.\n",
        "* After calling the func() function, when print(X) is executed, it refers to the global variable X which still holds the value 'iNeuron', and hence it prints 'iNeuron'."
      ],
      "metadata": {
        "id": "vqHG15JHmRwS"
      }
    },
    {
      "cell_type": "code",
      "source": [
        "X = 'iNeuron'\n",
        "def func():\n",
        "  X = 'NI!'\n",
        "\n",
        "func()\n",
        "print(X)"
      ],
      "metadata": {
        "colab": {
          "base_uri": "https://localhost:8080/"
        },
        "id": "T5QcNkmdmTTh",
        "outputId": "33542c57-a0f3-4ee3-e251-9702f23b9ba1"
      },
      "execution_count": 3,
      "outputs": [
        {
          "output_type": "stream",
          "name": "stdout",
          "text": [
            "iNeuron\n"
          ]
        }
      ]
    },
    {
      "cell_type": "code",
      "source": [],
      "metadata": {
        "id": "Z7NOiJCMmgeI"
      },
      "execution_count": null,
      "outputs": []
    },
    {
      "cell_type": "markdown",
      "source": [
        "#3. What does this code print, and why?\n",
        "\n",
        "Answer:\n",
        "\n",
        "Explanation:\n",
        "\n",
        "* The variable X is initially assigned the value 'iNeuron'.\n",
        "* The func() function is defined, and inside the function, a new value 'NI' is assigned to a local variable X.\n",
        "* When the func() function is called (func()), it prints the value of the local variable X, which is 'NI'.\n",
        "* After calling the func() function, when print(X) is executed, it refers to the global variable X, which still holds the value 'iNeuron', and hence it prints 'iNeuron'."
      ],
      "metadata": {
        "id": "Ka2e0eOKmvPf"
      }
    },
    {
      "cell_type": "code",
      "source": [
        "X = 'iNeuron'\n",
        "def func():\n",
        "  X = 'NI'\n",
        "  print(X)\n",
        "\n",
        "func()\n",
        "print(X)"
      ],
      "metadata": {
        "colab": {
          "base_uri": "https://localhost:8080/"
        },
        "id": "xZsd0kyVmx6D",
        "outputId": "4ecbaf21-4dad-4bba-e748-88fb0daab884"
      },
      "execution_count": 5,
      "outputs": [
        {
          "output_type": "stream",
          "name": "stdout",
          "text": [
            "NI\n",
            "iNeuron\n"
          ]
        }
      ]
    },
    {
      "cell_type": "markdown",
      "source": [
        "#4. What output does this code produce? Why?\n",
        "Answer:\n",
        "\n",
        "Explanation:\n",
        "\n",
        "* The variable X is initially assigned the value 'iNeuron'.\n",
        "* The func() function is defined, and inside the function, the global keyword is used to indicate that we want to use the global variable X.\n",
        "* Within the function, the value of the global variable X is changed to 'NI'.\n",
        "* When the func() function is called (func()), it modifies the global variable X to 'NI'.\n",
        "* After calling the func() function, when print(X) is executed, it refers to the modified global variable X, which now holds the value 'NI', and hence it prints 'NI'."
      ],
      "metadata": {
        "id": "YFa50pxNnLid"
      }
    },
    {
      "cell_type": "code",
      "source": [
        "\n",
        "X = 'iNeuron'\n",
        "def func():\n",
        "  global X\n",
        "  X = 'NI'\n",
        "\n",
        "func()\n",
        "print(X)"
      ],
      "metadata": {
        "colab": {
          "base_uri": "https://localhost:8080/"
        },
        "id": "lAg0owsqm7f6",
        "outputId": "e323cc8a-796f-47a4-ed14-9eb42f6a3d1e"
      },
      "execution_count": 6,
      "outputs": [
        {
          "output_type": "stream",
          "name": "stdout",
          "text": [
            "NI\n"
          ]
        }
      ]
    },
    {
      "cell_type": "code",
      "source": [],
      "metadata": {
        "id": "Xhx2BLbNnZ-j"
      },
      "execution_count": null,
      "outputs": []
    },
    {
      "cell_type": "markdown",
      "source": [
        "#5. What about this code—what’s the output, and why?\n",
        "Answer:\n",
        "\n",
        "Explanation:\n",
        "\n",
        "* The variable X is initially assigned the value 'iNeuron'.\n",
        "* The func() function is defined, and within the function, a nested function called nested() is defined.\n",
        "* Inside the nested() function, print(X) is called. Since X is not defined in the local scope of nested(), it looks for X in the enclosing scope, which is the func() function.\n",
        "* In the func() function, X is assigned the value 'NI'.\n",
        "* When nested() is called within func(), it prints the value of X from the enclosing scope, which is 'NI'.\n",
        "* After calling func(), when print(X) is executed, it refers to the global variable X with the value 'iNeuron', and hence it prints 'iNeuron'."
      ],
      "metadata": {
        "id": "qHfGnuP8noZx"
      }
    },
    {
      "cell_type": "code",
      "source": [
        "\n",
        "X = 'iNeuron'\n",
        "\n",
        "def func():\n",
        "  X = 'NI'\n",
        "  def nested():\n",
        "    print(X)\n",
        "  nested()\n",
        "\n",
        "func()\n",
        "X"
      ],
      "metadata": {
        "colab": {
          "base_uri": "https://localhost:8080/",
          "height": 52
        },
        "id": "WHmXHkqqnpRy",
        "outputId": "d2016ad9-d386-4f9a-d509-0142f54aa9d2"
      },
      "execution_count": 8,
      "outputs": [
        {
          "output_type": "stream",
          "name": "stdout",
          "text": [
            "NI\n"
          ]
        },
        {
          "output_type": "execute_result",
          "data": {
            "text/plain": [
              "'iNeuron'"
            ],
            "application/vnd.google.colaboratory.intrinsic+json": {
              "type": "string"
            }
          },
          "metadata": {},
          "execution_count": 8
        }
      ]
    },
    {
      "cell_type": "markdown",
      "source": [
        "#6. How about this code: what is its output in Python 3, and explain?\n",
        "Answer:\n",
        "\n",
        "Explanation:\n",
        "\n",
        "* The func() function is defined, and within the function, a nested function called nested() is defined.\n",
        "* Inside the nested() function, nonlocal X is used to indicate that the variable X should be treated as a nonlocal variable, meaning it is not local to nested() but is defined in the enclosing scope (which is func()).\n",
        "* The statement X = 'Spam' assigns the value 'Spam' to the nonlocal variable X.\n",
        "* When nested() is called within func(), it modifies the value of the nonlocal variable X to 'Spam'.\n",
        "* Finally, print(X) is called within func() after nested() is executed. It prints the value of the nonlocal variable X, which is 'Spam'.\n",
        "\n",
        "\n",
        "\n"
      ],
      "metadata": {
        "id": "5xoTK3vqoNIz"
      }
    },
    {
      "cell_type": "code",
      "source": [
        "\n",
        "def func():\n",
        "  X = 'NI'\n",
        "  def nested():\n",
        "    nonlocal X\n",
        "  X = 'Spam'\n",
        "  nested()\n",
        "  print(X)\n",
        "\n",
        "func()"
      ],
      "metadata": {
        "colab": {
          "base_uri": "https://localhost:8080/"
        },
        "id": "nNQnwuYkn5cA",
        "outputId": "1c03bc2d-3d3e-4a99-9035-c9296c978c5b"
      },
      "execution_count": 10,
      "outputs": [
        {
          "output_type": "stream",
          "name": "stdout",
          "text": [
            "Spam\n"
          ]
        }
      ]
    },
    {
      "cell_type": "code",
      "source": [],
      "metadata": {
        "id": "9zD6HRriohrq"
      },
      "execution_count": null,
      "outputs": []
    }
  ]
}