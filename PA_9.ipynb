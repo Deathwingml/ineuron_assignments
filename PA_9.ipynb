{
  "nbformat": 4,
  "nbformat_minor": 0,
  "metadata": {
    "colab": {
      "provenance": [],
      "authorship_tag": "ABX9TyPTlOEx8AdQ9i8qQ43sZVDa",
      "include_colab_link": true
    },
    "kernelspec": {
      "name": "python3",
      "display_name": "Python 3"
    },
    "language_info": {
      "name": "python"
    }
  },
  "cells": [
    {
      "cell_type": "markdown",
      "metadata": {
        "id": "view-in-github",
        "colab_type": "text"
      },
      "source": [
        "<a href=\"https://colab.research.google.com/github/Deathwingml/ineuron_assignments/blob/main/PA_9.ipynb\" target=\"_parent\"><img src=\"https://colab.research.google.com/assets/colab-badge.svg\" alt=\"Open In Colab\"/></a>"
      ]
    },
    {
      "cell_type": "code",
      "execution_count": 1,
      "metadata": {
        "colab": {
          "base_uri": "https://localhost:8080/"
        },
        "id": "JAPs2S3jm0ON",
        "outputId": "ba9e64af-c1ab-4a10-8927-19643b4714f0"
      },
      "outputs": [
        {
          "output_type": "stream",
          "name": "stdout",
          "text": [
            "135 is a Disarium Number\n"
          ]
        }
      ],
      "source": [
        "#1. Write a Python program to check if the given number is a Disarium Number?\n",
        "\n",
        "def is_disarium_number(num):\n",
        "    # Convert the number to string for individual digit access\n",
        "    num_str = str(num)\n",
        "    # Calculate the sum of digits raised to their respective position\n",
        "    digit_sum = sum(int(digit) ** (index + 1) for index, digit in enumerate(num_str))\n",
        "    # Check if the sum is equal to the number\n",
        "    if digit_sum == num:\n",
        "        return True\n",
        "    else:\n",
        "        return False\n",
        "\n",
        "# Example usage\n",
        "number = 135\n",
        "\n",
        "if is_disarium_number(number):\n",
        "    print(number, \"is a Disarium Number\")\n",
        "else:\n",
        "    print(number, \"is not a Disarium Number\")\n"
      ]
    },
    {
      "cell_type": "code",
      "source": [
        "#2. Write a Python program to print all disarium numbers between 1 to 100?\n",
        "\n",
        "def is_disarium_number(num):\n",
        "    # Convert the number to string for individual digit access\n",
        "    num_str = str(num)\n",
        "    # Calculate the sum of digits raised to their respective position\n",
        "    digit_sum = sum(int(digit) ** (index + 1) for index, digit in enumerate(num_str))\n",
        "    # Check if the sum is equal to the number\n",
        "    if digit_sum == num:\n",
        "        return True\n",
        "    else:\n",
        "        return False\n",
        "\n",
        "print(\"Disarium numbers between 1 and 100:\")\n",
        "for number in range(1, 101):\n",
        "    if is_disarium_number(number):\n",
        "        print(number)\n"
      ],
      "metadata": {
        "colab": {
          "base_uri": "https://localhost:8080/"
        },
        "id": "2V172KfjoIgf",
        "outputId": "94ae0594-9329-4de1-b462-f8270be889de"
      },
      "execution_count": 2,
      "outputs": [
        {
          "output_type": "stream",
          "name": "stdout",
          "text": [
            "Disarium numbers between 1 and 100:\n",
            "1\n",
            "2\n",
            "3\n",
            "4\n",
            "5\n",
            "6\n",
            "7\n",
            "8\n",
            "9\n",
            "89\n"
          ]
        }
      ]
    },
    {
      "cell_type": "code",
      "source": [
        "#3. Write a Python program to check if the given number is Happy Number?\n",
        "\n",
        "def is_happy_number(num):\n",
        "    seen = set()\n",
        "    while num != 1:\n",
        "        num = sum(int(digit) ** 2 for digit in str(num))\n",
        "        if num in seen:\n",
        "            return False\n",
        "        seen.add(num)\n",
        "    return True\n",
        "\n",
        "# Test the program\n",
        "number = 13\n",
        "if is_happy_number(number):\n",
        "    print(number, \"is a Happy Number.\")\n",
        "else:\n",
        "    print(number, \"is not a Happy Number.\")\n"
      ],
      "metadata": {
        "colab": {
          "base_uri": "https://localhost:8080/"
        },
        "id": "2nMG2sw1oYxH",
        "outputId": "4ba9c024-f781-4fa9-ada2-10d3c25f48e0"
      },
      "execution_count": 5,
      "outputs": [
        {
          "output_type": "stream",
          "name": "stdout",
          "text": [
            "13 is a Happy Number.\n"
          ]
        }
      ]
    },
    {
      "cell_type": "code",
      "source": [
        "#4. Write a Python program to print all happy numbers between 1 and 100?\n",
        "\n",
        "def is_happy_number(num):\n",
        "    seen = set()\n",
        "    while num != 1:\n",
        "        num = sum(int(digit) ** 2 for digit in str(num))\n",
        "        if num in seen:\n",
        "            return False\n",
        "        seen.add(num)\n",
        "    return True\n",
        "\n",
        "def print_happy_numbers(start, end):\n",
        "    happy_numbers = []\n",
        "    for num in range(start, end+1):\n",
        "        if is_happy_number(num):\n",
        "            happy_numbers.append(num)\n",
        "    return happy_numbers\n",
        "\n",
        "# Test the program\n",
        "happy_nums = print_happy_numbers(1, 100)\n",
        "print(\"Happy Numbers between 1 and 100:\")\n",
        "for num in happy_nums:\n",
        "    print(num)\n"
      ],
      "metadata": {
        "colab": {
          "base_uri": "https://localhost:8080/"
        },
        "id": "68fNMpW9pHGU",
        "outputId": "a53b59f7-f7c9-4fdb-88a1-40e7fee75e38"
      },
      "execution_count": 6,
      "outputs": [
        {
          "output_type": "stream",
          "name": "stdout",
          "text": [
            "Happy Numbers between 1 and 100:\n",
            "1\n",
            "7\n",
            "10\n",
            "13\n",
            "19\n",
            "23\n",
            "28\n",
            "31\n",
            "32\n",
            "44\n",
            "49\n",
            "68\n",
            "70\n",
            "79\n",
            "82\n",
            "86\n",
            "91\n",
            "94\n",
            "97\n",
            "100\n"
          ]
        }
      ]
    },
    {
      "cell_type": "code",
      "source": [
        "#5. Write a Python program to determine whether the given number is a Harshad Number?\n",
        "\n",
        "def is_harshad_number(num):\n",
        "    sum_of_digits = sum(int(digit) for digit in str(num))\n",
        "    return num % sum_of_digits == 0\n",
        "\n",
        "# Test the program\n",
        "num = 98\n",
        "if is_harshad_number(num):\n",
        "    print(num, \"is a Harshad Number\")\n",
        "else:\n",
        "    print(num, \"is not a Harshad Number\")\n"
      ],
      "metadata": {
        "colab": {
          "base_uri": "https://localhost:8080/"
        },
        "id": "x5UceRPqpVRl",
        "outputId": "db89e65e-c841-4074-d9c1-ec6352e5ce51"
      },
      "execution_count": 7,
      "outputs": [
        {
          "output_type": "stream",
          "name": "stdout",
          "text": [
            "98 is not a Harshad Number\n"
          ]
        }
      ]
    },
    {
      "cell_type": "code",
      "source": [
        "#6. Write a Python program to print all pronic numbers between 1 and 100?\n",
        "\n",
        "def is_pronic_number(num):\n",
        "    for i in range(1, int(num**0.5) + 1):\n",
        "        if i * (i + 1) == num:\n",
        "            return True\n",
        "    return False\n",
        "\n",
        "# Print pronic numbers between 1 and 100\n",
        "print(\"Pronic numbers between 1 and 100:\")\n",
        "for num in range(1, 101):\n",
        "    if is_pronic_number(num):\n",
        "        print(num)\n"
      ],
      "metadata": {
        "colab": {
          "base_uri": "https://localhost:8080/"
        },
        "id": "zkXFAVo9pwqX",
        "outputId": "4095fd7f-7681-44fb-915b-8c9eeab7e49f"
      },
      "execution_count": 8,
      "outputs": [
        {
          "output_type": "stream",
          "name": "stdout",
          "text": [
            "Pronic numbers between 1 and 100:\n",
            "2\n",
            "6\n",
            "12\n",
            "20\n",
            "30\n",
            "42\n",
            "56\n",
            "72\n",
            "90\n"
          ]
        }
      ]
    },
    {
      "cell_type": "code",
      "source": [],
      "metadata": {
        "id": "TSpgjzT7qDnU"
      },
      "execution_count": null,
      "outputs": []
    }
  ]
}