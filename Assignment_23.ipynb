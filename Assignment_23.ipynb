{
  "nbformat": 4,
  "nbformat_minor": 0,
  "metadata": {
    "colab": {
      "provenance": [],
      "authorship_tag": "ABX9TyMuvMozSKpIk0+aD2NAtdf2",
      "include_colab_link": true
    },
    "kernelspec": {
      "name": "python3",
      "display_name": "Python 3"
    },
    "language_info": {
      "name": "python"
    }
  },
  "cells": [
    {
      "cell_type": "markdown",
      "metadata": {
        "id": "view-in-github",
        "colab_type": "text"
      },
      "source": [
        "<a href=\"https://colab.research.google.com/github/Deathwingml/ineuron_assignments/blob/main/Assignment_23.ipynb\" target=\"_parent\"><img src=\"https://colab.research.google.com/assets/colab-badge.svg\" alt=\"Open In Colab\"/></a>"
      ]
    },
    {
      "cell_type": "code",
      "execution_count": null,
      "metadata": {
        "id": "GbGZjnB3o7AL"
      },
      "outputs": [],
      "source": []
    },
    {
      "cell_type": "markdown",
      "source": [
        "#1. What is the result of the code, and why?\n",
        "Answer:\n",
        "\n",
        "* The function func() is defined with three parameters: a, b, and c.\n",
        "* When the function is called with the arguments 1 and 2 (func(1, 2)), the value 1 is assigned to the parameter a, and the value 2 is assigned to the parameter b.\n",
        "* Since no argument is provided for the parameter c, it takes its default value of 8.\n",
        "* The print() statement inside the function prints the values of a, b, and c, which are 1, 2, and 8 respectively."
      ],
      "metadata": {
        "id": "oh7FCrTmo9TH"
      }
    },
    {
      "cell_type": "code",
      "source": [
        "def func(a, b=6, c=8):\n",
        "  print(a, b, c)\n",
        "  \n",
        "func(1, 2)"
      ],
      "metadata": {
        "colab": {
          "base_uri": "https://localhost:8080/"
        },
        "id": "1LwEyG5BpD_J",
        "outputId": "bb9c2ef6-41ff-4437-a9ae-5d350f10bd54"
      },
      "execution_count": 1,
      "outputs": [
        {
          "output_type": "stream",
          "name": "stdout",
          "text": [
            "1 2 8\n"
          ]
        }
      ]
    },
    {
      "cell_type": "code",
      "source": [],
      "metadata": {
        "id": "kGS7tR4VpH65"
      },
      "execution_count": null,
      "outputs": []
    },
    {
      "cell_type": "markdown",
      "source": [
        "#2. What is the result of this code, and why?\n",
        "Answer:\n",
        "\n",
        "* The function func() is defined with three parameters: a, b, and c.\n",
        "* When the function is called with the arguments 1, c=3, and b=2 (func(1, c=3, b=2)), the value 1 is assigned to the parameter a, the value 2 is assigned to the parameter b, and the value 3 is assigned to the parameter c.\n",
        "* The print() statement inside the function prints the values of a, b, and c, which are 1, 2, and 3 respectively."
      ],
      "metadata": {
        "id": "5SkCR9unpUBd"
      }
    },
    {
      "cell_type": "code",
      "source": [
        "def func(a, b, c=5):\n",
        "  print(a, b, c)\n",
        "\n",
        "func(1, c=3, b=2)"
      ],
      "metadata": {
        "colab": {
          "base_uri": "https://localhost:8080/"
        },
        "id": "cb-YO_CXpXBo",
        "outputId": "bb32daf2-bc87-4ded-bc38-099946c7984c"
      },
      "execution_count": 2,
      "outputs": [
        {
          "output_type": "stream",
          "name": "stdout",
          "text": [
            "1 2 3\n"
          ]
        }
      ]
    },
    {
      "cell_type": "markdown",
      "source": [
        "#3. How about this code: what is its result, and why?\n",
        "Answer:\n",
        "\n",
        "* The function func() is defined with two parameters: a and *pargs.\n",
        "* The *pargs parameter is used to collect any additional positional arguments passed to the function beyond the first parameter a.\n",
        "* When the function is called with the arguments 1, 2, 3 (func(1, 2, 3)), the value 1 is assigned to the parameter a, and the additional arguments 2 and 3 are collected into the tuple pargs.\n",
        "* The print() statement inside the function prints the values of a and pargs, which are 1 and (2, 3) respectively."
      ],
      "metadata": {
        "id": "nDL9-g2JpoDw"
      }
    },
    {
      "cell_type": "code",
      "source": [
        "def func(a, *pargs):\n",
        "  print(a, pargs)\n",
        "\n",
        "func(1, 2, 3)"
      ],
      "metadata": {
        "colab": {
          "base_uri": "https://localhost:8080/"
        },
        "id": "jJ_ETBpcpZhU",
        "outputId": "40af6750-88d5-49bd-bd9c-a014d1ea5118"
      },
      "execution_count": 3,
      "outputs": [
        {
          "output_type": "stream",
          "name": "stdout",
          "text": [
            "1 (2, 3)\n"
          ]
        }
      ]
    },
    {
      "cell_type": "markdown",
      "source": [
        "#4. What does this code print, and why?\n",
        "Answer:\n",
        "\n",
        "* The function func() is defined with one parameter a and **kargs to collect any additional keyword arguments passed to the function.\n",
        "* When the function is called with the arguments a=1, c=3, b=2 (func(a=1, c=3, b=2)), the value 1 is assigned to the parameter a, and the additional keyword arguments c=3 and b=2 are collected into the dictionary kargs.\n",
        "* The print() statement inside the function prints the values of a and kargs, which are 1 and {'c': 3, 'b': 2} respectively."
      ],
      "metadata": {
        "id": "TRiKKXyXp00D"
      }
    },
    {
      "cell_type": "code",
      "source": [
        "def func(a, **kargs):\n",
        "  print(a, kargs)\n",
        "\n",
        "func(a=1, c=3, b=2)"
      ],
      "metadata": {
        "colab": {
          "base_uri": "https://localhost:8080/"
        },
        "id": "YSg_Ai0Oprao",
        "outputId": "dc497b5c-0797-4587-bc3b-1bda480a7104"
      },
      "execution_count": 4,
      "outputs": [
        {
          "output_type": "stream",
          "name": "stdout",
          "text": [
            "1 {'c': 3, 'b': 2}\n"
          ]
        }
      ]
    },
    {
      "cell_type": "markdown",
      "source": [
        "#5. What gets printed by this, and explain?\n",
        "Answer:\n",
        "\n",
        "* The function func() is defined with four parameters: a, b, c, and d.\n",
        "* When the function is called with the arguments 1, *(5, 6), the value 1 is assigned to the parameter a, and the tuple (5, 6) is unpacked and assigned to the parameters b and c respectively.\n",
        "* Since the parameter d does not have a corresponding argument, it takes its default value of 5.\n",
        "* The print() statement inside the function prints the values of a, b, c, and d, which are 1, 5, 6, and 5 respectively."
      ],
      "metadata": {
        "id": "hxZ70WNdqEl7"
      }
    },
    {
      "cell_type": "code",
      "source": [
        "def func(a, b, c=8, d=5): print(a, b, c, d)\n",
        "\n",
        "\n",
        "func(1, *(5, 6))"
      ],
      "metadata": {
        "colab": {
          "base_uri": "https://localhost:8080/"
        },
        "id": "Dj2VwcvRp8Sq",
        "outputId": "41f352f1-9291-4165-9c47-89f5925603b6"
      },
      "execution_count": 5,
      "outputs": [
        {
          "output_type": "stream",
          "name": "stdout",
          "text": [
            "1 5 6 5\n"
          ]
        }
      ]
    },
    {
      "cell_type": "code",
      "source": [],
      "metadata": {
        "id": "XT1j8nPAqJQ3"
      },
      "execution_count": null,
      "outputs": []
    },
    {
      "cell_type": "markdown",
      "source": [
        "#6. what is the result of this, and explain?\n",
        "Answer:\n",
        "\n",
        "* The function func() takes three arguments a, b, and c.\n",
        "* Inside the function, the variable a is assigned the value 2.\n",
        "* The first element of list b is modified, changing it from 1 to 'x'.\n",
        "* The value associated with key 'a' in dictionary c is modified, changing it from 0 to 'y'.\n",
        "* After calling func(l, m, n), the values of variables l, m, and n are printed, which are 1, ['x'], and {'a': 'y'} respectively."
      ],
      "metadata": {
        "id": "TrMGuatNqVu3"
      }
    },
    {
      "cell_type": "code",
      "source": [
        "def func(a, b, c):\n",
        "    a = 2\n",
        "    b[0] = 'x'\n",
        "    c['a'] = 'y'\n",
        "\n",
        "l = 1\n",
        "m = [1]\n",
        "n = {'a': 0}\n",
        "\n",
        "func(l, m, n)\n",
        "\n",
        "print(l, m, n)\n"
      ],
      "metadata": {
        "colab": {
          "base_uri": "https://localhost:8080/"
        },
        "id": "3wJT8lPuqXCd",
        "outputId": "5f5224ef-b451-49a4-a2aa-0b987eebf53a"
      },
      "execution_count": 6,
      "outputs": [
        {
          "output_type": "stream",
          "name": "stdout",
          "text": [
            "1 ['x'] {'a': 'y'}\n"
          ]
        }
      ]
    },
    {
      "cell_type": "code",
      "source": [],
      "metadata": {
        "id": "_qdPgppxqjP8"
      },
      "execution_count": null,
      "outputs": []
    }
  ]
}