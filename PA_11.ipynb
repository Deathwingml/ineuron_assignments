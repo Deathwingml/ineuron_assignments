{
  "nbformat": 4,
  "nbformat_minor": 0,
  "metadata": {
    "colab": {
      "provenance": [],
      "authorship_tag": "ABX9TyOBop7o8OTSCftwR2A3cSUc",
      "include_colab_link": true
    },
    "kernelspec": {
      "name": "python3",
      "display_name": "Python 3"
    },
    "language_info": {
      "name": "python"
    }
  },
  "cells": [
    {
      "cell_type": "markdown",
      "metadata": {
        "id": "view-in-github",
        "colab_type": "text"
      },
      "source": [
        "<a href=\"https://colab.research.google.com/github/Deathwingml/ineuron_assignments/blob/main/PA_11.ipynb\" target=\"_parent\"><img src=\"https://colab.research.google.com/assets/colab-badge.svg\" alt=\"Open In Colab\"/></a>"
      ]
    },
    {
      "cell_type": "code",
      "execution_count": 4,
      "metadata": {
        "colab": {
          "base_uri": "https://localhost:8080/"
        },
        "id": "hvTJrJENDOa8",
        "outputId": "62f5561a-e9e8-4574-8798-1bda09945487"
      },
      "outputs": [
        {
          "output_type": "stream",
          "name": "stdout",
          "text": [
            "Words greater than length 4: ['Hello,', 'doing', 'today?', 'having', 'great']\n"
          ]
        }
      ],
      "source": [
        "#1. Write a Python program to find words which are greater than given length k?\n",
        "\n",
        "def find_words_greater_than_length(string, k):\n",
        "    words = string.split()  # Split the string into words\n",
        "    result = []\n",
        "    for word in words:\n",
        "        if len(word) > k:\n",
        "            result.append(word)\n",
        "    return result\n",
        "\n",
        "# Example usage\n",
        "input_string = \"Hello, how are you doing today? I hope you are having a great day!\"\n",
        "k = 4\n",
        "words_greater_than_k = find_words_greater_than_length(input_string, k)\n",
        "print(f\"Words greater than length {k}: {words_greater_than_k}\")\n"
      ]
    },
    {
      "cell_type": "code",
      "source": [
        "#2. Write a Python program for removing i-th character from a string?\n",
        "\n",
        "def remove_ith_character(string, i):\n",
        "    if i < 0 or i >= len(string):\n",
        "        return string  # Return the original string if i is out of range\n",
        "    return string[:i] + string[i+1:]\n",
        "\n",
        "# Example usage\n",
        "input_string = \"Hello, World!\"\n",
        "i = 7\n",
        "result_string = remove_ith_character(input_string, i)\n",
        "print(f\"Resulting string: {result_string}\")\n"
      ],
      "metadata": {
        "colab": {
          "base_uri": "https://localhost:8080/"
        },
        "id": "X-zkNMQMED0-",
        "outputId": "3f2a77b4-cc89-4077-f1d1-c8c568fd4d30"
      },
      "execution_count": 5,
      "outputs": [
        {
          "output_type": "stream",
          "name": "stdout",
          "text": [
            "Resulting string: Hello, orld!\n"
          ]
        }
      ]
    },
    {
      "cell_type": "code",
      "source": [
        "#3. Write a Python program to split and join a string?\n",
        "\n",
        "def split_and_join(string, delimiter):\n",
        "    # Split the string into a list of substrings using the given delimiter\n",
        "    words = string.split(delimiter)\n",
        "    \n",
        "    # Join the list of substrings into a single string using a space as the separator\n",
        "    joined_string = ' '.join(words)\n",
        "    \n",
        "    return joined_string\n",
        "\n",
        "# Example usage\n",
        "input_string = \"Hello, World! This is a sample string.\"\n",
        "delimiter = ' '\n",
        "result_string = split_and_join(input_string, delimiter)\n",
        "print(f\"Resulting string: {result_string}\")\n"
      ],
      "metadata": {
        "colab": {
          "base_uri": "https://localhost:8080/"
        },
        "id": "Q1DD4zH0EtQw",
        "outputId": "cb425ed5-eaa6-421d-cd55-87360b74fe68"
      },
      "execution_count": 6,
      "outputs": [
        {
          "output_type": "stream",
          "name": "stdout",
          "text": [
            "Resulting string: Hello, World! This is a sample string.\n"
          ]
        }
      ]
    },
    {
      "cell_type": "code",
      "source": [
        "#4. Write a Python to check if a given string is binary string or not?\n",
        "\n",
        "def is_binary_string(string):\n",
        "    # Iterate over each character in the string\n",
        "    for char in string:\n",
        "        # Check if the character is not '0' or '1'\n",
        "        if char != '0' and char != '1':\n",
        "            return False\n",
        "    \n",
        "    # All characters are '0' or '1', so it's a binary string\n",
        "    return True\n",
        "\n",
        "# Example usage\n",
        "input_string = \"101010\"\n",
        "result = is_binary_string(input_string)\n",
        "print(f\"The string '{input_string}' is a binary string: {result}\")\n"
      ],
      "metadata": {
        "colab": {
          "base_uri": "https://localhost:8080/"
        },
        "id": "nJj-uTQUFE09",
        "outputId": "e9e48937-a964-4433-ea51-d7207c4923af"
      },
      "execution_count": 7,
      "outputs": [
        {
          "output_type": "stream",
          "name": "stdout",
          "text": [
            "The string '101010' is a binary string: True\n"
          ]
        }
      ]
    },
    {
      "cell_type": "code",
      "source": [
        "#5. Write a Python program to find uncommon words from two Strings?\n",
        "\n",
        "def find_uncommon_words(str1, str2):\n",
        "    # Split the strings into words\n",
        "    words1 = set(str1.split())\n",
        "    words2 = set(str2.split())\n",
        "    \n",
        "    # Find the uncommon words using set operations\n",
        "    uncommon_words = words1.symmetric_difference(words2)\n",
        "    \n",
        "    return uncommon_words\n",
        "\n",
        "# Example usage\n",
        "string1 = \"apple banana mango\"\n",
        "string2 = \"banana orange mango\"\n",
        "result = find_uncommon_words(string1, string2)\n",
        "print(\"Uncommon words:\", result)\n"
      ],
      "metadata": {
        "colab": {
          "base_uri": "https://localhost:8080/"
        },
        "id": "aESfx_o5FXaW",
        "outputId": "13fe140b-2730-4718-d1db-4aa75e43ba7c"
      },
      "execution_count": 8,
      "outputs": [
        {
          "output_type": "stream",
          "name": "stdout",
          "text": [
            "Uncommon words: {'apple', 'orange'}\n"
          ]
        }
      ]
    },
    {
      "cell_type": "code",
      "source": [
        "#6. Write a Python to find all duplicate characters in string?\n",
        "\n",
        "\n",
        "def find_duplicate_characters(string):\n",
        "    duplicates = []\n",
        "    seen = set()\n",
        "\n",
        "    for char in string:\n",
        "        if char in seen and char not in duplicates:\n",
        "            duplicates.append(char)\n",
        "        else:\n",
        "            seen.add(char)\n",
        "\n",
        "    return duplicates\n",
        "\n",
        "# Example usage\n",
        "string = \"Hello iNeuron\"\n",
        "result = find_duplicate_characters(string)\n",
        "print(\"Duplicate characters:\", result)\n"
      ],
      "metadata": {
        "colab": {
          "base_uri": "https://localhost:8080/"
        },
        "id": "2KtbTtSPFiDT",
        "outputId": "74579228-00b6-41ea-db1f-abb0d886ef1c"
      },
      "execution_count": 10,
      "outputs": [
        {
          "output_type": "stream",
          "name": "stdout",
          "text": [
            "Duplicate characters: ['l', 'e', 'o']\n"
          ]
        }
      ]
    },
    {
      "cell_type": "code",
      "source": [
        "#7. Write a Python Program to check if a string contains any special character?\n",
        "\n",
        "import re\n",
        "\n",
        "def has_special_characters(string):\n",
        "    special_characters = re.compile('[@_!#$%^&*()<>?/\\|}{~:]')\n",
        "\n",
        "    if special_characters.search(string) is not None:\n",
        "        return True\n",
        "    else:\n",
        "        return False\n",
        "\n",
        "# Example usage\n",
        "string = \"Hello!\"\n",
        "result = has_special_characters(string)\n",
        "print(\"Contains special characters:\", result)\n"
      ],
      "metadata": {
        "colab": {
          "base_uri": "https://localhost:8080/"
        },
        "id": "k8f27I7sF80k",
        "outputId": "3d19cec8-9afd-4db6-b40c-905c151f05c6"
      },
      "execution_count": 11,
      "outputs": [
        {
          "output_type": "stream",
          "name": "stdout",
          "text": [
            "Contains special characters: True\n"
          ]
        }
      ]
    },
    {
      "cell_type": "code",
      "source": [],
      "metadata": {
        "id": "PC7Bjak2GL4c"
      },
      "execution_count": null,
      "outputs": []
    }
  ]
}