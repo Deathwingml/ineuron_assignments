{
  "nbformat": 4,
  "nbformat_minor": 0,
  "metadata": {
    "colab": {
      "provenance": [],
      "authorship_tag": "ABX9TyM2her5lkzpVEn091XnXmrv",
      "include_colab_link": true
    },
    "kernelspec": {
      "name": "python3",
      "display_name": "Python 3"
    },
    "language_info": {
      "name": "python"
    }
  },
  "cells": [
    {
      "cell_type": "markdown",
      "metadata": {
        "id": "view-in-github",
        "colab_type": "text"
      },
      "source": [
        "<a href=\"https://colab.research.google.com/github/Deathwingml/ineuron_assignments/blob/main/Assignment_7.ipynb\" target=\"_parent\"><img src=\"https://colab.research.google.com/assets/colab-badge.svg\" alt=\"Open In Colab\"/></a>"
      ]
    },
    {
      "cell_type": "markdown",
      "source": [
        "# 1. What is the name of the feature responsible for generating Regex objects?\n",
        "\n",
        "**Answer**\n",
        "\n",
        "* The module 're' is responsible for generating regular expression objects.\n",
        "* The re module provides a set of functions and methods for working with regular expressions, including creating and compiling regular expressions into pattern objects that can be used for searching, matching, and replacing text.\n",
        "* To import this module:\n",
        "```\n",
        "import re\n",
        "```"
      ],
      "metadata": {
        "id": "zJhuiAiz7Qy9"
      }
    },
    {
      "cell_type": "code",
      "source": [],
      "metadata": {
        "id": "LMzRRHwf7Kp1"
      },
      "execution_count": null,
      "outputs": []
    },
    {
      "cell_type": "markdown",
      "source": [
        "#2. Why do raw strings often appear in Regex objects?\n",
        "\n",
        "**Answer**\n",
        "\n",
        "* A raw string is a string literal that is prefixed with the letter 'r'. Raw strings treat backslashes as literal characters, rather than as escape characters. This means that any backslashes in a raw string are interpreted as backslashes, rather than as part of an escape sequence.\n",
        "* Raw strings often appear in regular expressions because regular expressions often contain backslashes. For example, to match a literal backslash in a regular expression, we need to escape it with another backslash. Using a raw string can simplify the pattern and make it easier to read and understand."
      ],
      "metadata": {
        "id": "kfz93var74Cm"
      }
    },
    {
      "cell_type": "code",
      "source": [],
      "metadata": {
        "id": "U3sb6ICT8lU0"
      },
      "execution_count": null,
      "outputs": []
    },
    {
      "cell_type": "markdown",
      "source": [
        "#3. What is the return value of the search() method?\n",
        "\n",
        "**Answer**\n",
        "\n",
        "* search() method returns a match object if a match is found and none otherwise\n",
        "* The match object contains information about the match, including the starting and ending indices of the match, as well as any captured groups. If multiple matches are found, the search() method returns the first match."
      ],
      "metadata": {
        "id": "StuyuDtQ8lu2"
      }
    },
    {
      "cell_type": "code",
      "source": [],
      "metadata": {
        "id": "qzLTRnP2kAOS"
      },
      "execution_count": null,
      "outputs": []
    },
    {
      "cell_type": "markdown",
      "source": [
        "#4. From a Match item, how do you get the actual strings that match the pattern?\n",
        "\n",
        "**Answer**\n",
        "\n",
        "* The group() method of the match object returns the actual string that matched the pattern. If the pattern contains capturing groups, you can pass an integer argument to the group() method to retrieve the string that matched a specific group."
      ],
      "metadata": {
        "id": "2DgoPvzMkAnD"
      }
    },
    {
      "cell_type": "code",
      "source": [],
      "metadata": {
        "id": "m5M71U1hkaJK"
      },
      "execution_count": null,
      "outputs": []
    },
    {
      "cell_type": "markdown",
      "source": [
        "#5. In the regex which created from the r&#39;(\\d\\d\\d)-(\\d\\d\\d-\\d\\d\\d\\d)&#39;, what does group zero cover?\n",
        "Group 2? Group 1?\n",
        "\n",
        "**Answer**\n",
        "\n",
        "* Here, the groups are created by enclosing parts of paranthesis in brackets.\n",
        "* Group 1: (\\d\\d\\d)\n",
        "* Group 2: (\\d\\d\\d-\\d\\d\\d\\d)\n",
        "* Group 0: Also known as the entire match, (\\d\\d\\d)-(\\d\\d\\d-\\d\\d\\d\\d)\n",
        "\n",
        "Therefore, Group 0 covers both Group 1 and Group 2"
      ],
      "metadata": {
        "id": "gwjahcMokayG"
      }
    },
    {
      "cell_type": "code",
      "source": [],
      "metadata": {
        "id": "YvzkQVAOlcBL"
      },
      "execution_count": null,
      "outputs": []
    },
    {
      "cell_type": "markdown",
      "source": [
        "# 6. In standard expression syntax, parentheses and intervals have distinct meanings. How can you tell a regex that you want it to fit real parentheses and periods?\n",
        "\n",
        "**Answer**\n",
        "\n",
        "In regular expression syntax, parentheses and periods have special meanings. To match a literal parentheses or period character, you need to escape it by preceding it with a backslash \\\\."
      ],
      "metadata": {
        "id": "k0ZX34eYljdY"
      }
    },
    {
      "cell_type": "code",
      "source": [],
      "metadata": {
        "id": "Mnk-SDpHl-Nv"
      },
      "execution_count": null,
      "outputs": []
    },
    {
      "cell_type": "markdown",
      "source": [
        "# 7. The findall() method returns a string list or a list of string tuples. What causes it to return one of the two options?\n",
        "\n",
        "**Answer**\n",
        "\n",
        "* The findall() method in the re module returns a list of all non-overlapping matches of a regular expression pattern in a string. The structure of the returned list depends on the presence of groups in the regular expression pattern.\n",
        "\n",
        "* If the regular expression pattern contains no groups, findall() returns a list of strings that match the pattern.\n",
        "\n",
        "* If the regular expression pattern contains one or more groups, findall() returns a list of tuples. Each tuple contains the matched substrings for each group in the pattern. \n"
      ],
      "metadata": {
        "id": "pD6_5CYBmB5G"
      }
    },
    {
      "cell_type": "code",
      "source": [],
      "metadata": {
        "id": "WpAUChYUmiaa"
      },
      "execution_count": null,
      "outputs": []
    },
    {
      "cell_type": "markdown",
      "source": [
        "# 8. In standard expressions, what does the | character mean?\n",
        "\n",
        "**Answer**\n",
        "\n",
        "The vertical bar | is used as \"or\". It allows you to specify a set of alternatives, any one of which can match."
      ],
      "metadata": {
        "id": "H7joAj16mi_t"
      }
    },
    {
      "cell_type": "code",
      "source": [],
      "metadata": {
        "id": "mOEmoFz4m0cP"
      },
      "execution_count": null,
      "outputs": []
    },
    {
      "cell_type": "markdown",
      "source": [
        "# 9. In regular expressions, what does the character stand for?\n",
        "\n",
        "**Answer**\n",
        "In regular expression syntax, the dot . is a metacharacter that matches any character except for a newline. It is called a wildcard character, as it matches any character that can appear in the input string."
      ],
      "metadata": {
        "id": "vABej3Smm06h"
      }
    },
    {
      "cell_type": "code",
      "source": [],
      "metadata": {
        "id": "sT3GVZjfnKO2"
      },
      "execution_count": null,
      "outputs": []
    },
    {
      "cell_type": "markdown",
      "source": [
        "# 10.In regular expressions, what is the difference between the + and * characters?\n",
        "\n",
        "**Answer**\n",
        "\n",
        "* The plus sign + and the asterisk * are quantifiers that specify how many times a pattern should match. \n",
        "* The main difference between the two is that + matches one or more occurrences of the pattern, while * matches zero or more occurrences of the pattern."
      ],
      "metadata": {
        "id": "1_YPodrNnNWu"
      }
    },
    {
      "cell_type": "code",
      "source": [],
      "metadata": {
        "id": "mLtABWBonjGX"
      },
      "execution_count": null,
      "outputs": []
    },
    {
      "cell_type": "markdown",
      "source": [
        "# 11. What is the difference between {4} and {4,5} in regular expression?\n",
        "\n",
        "\n",
        "**Answer**\n",
        "* Curly braces are used as quantifiers to specify the number of times a pattern should match.\n",
        "* {4} specifies that the pattern should match exactly 4 times.\n",
        "* {4,5} specifies that the pattern should match at least 4 times, and at most 5 times."
      ],
      "metadata": {
        "id": "LnXTSYf8njZ9"
      }
    },
    {
      "cell_type": "code",
      "source": [],
      "metadata": {
        "id": "__6tN8RTn2s0"
      },
      "execution_count": null,
      "outputs": []
    },
    {
      "cell_type": "markdown",
      "source": [
        "# 12. What do you mean by the \\d, \\w, and \\s shorthand character classes signify in regular expressions?\n",
        "\n",
        "**Answer**\n",
        "\n",
        "* shorthand character classes are used to represent commonly used character sets. Here are some examples:\n",
        "\n",
        "* \\d matches any digit character, which is equivalent to [0-9].\n",
        "* \\w matches any alphanumeric character or underscore, which is equivalent to [a-zA-Z0-9_].\n",
        "* \\s matches any whitespace character, which includes space, tab, and newline characters."
      ],
      "metadata": {
        "id": "aZNAZ1POn3DB"
      }
    },
    {
      "cell_type": "code",
      "source": [],
      "metadata": {
        "id": "iOrc08_boO3F"
      },
      "execution_count": null,
      "outputs": []
    },
    {
      "cell_type": "markdown",
      "source": [
        "# 13. What do means by \\D, \\W, and \\S shorthand character classes signify in regular expressions?\n",
        "\n",
        "**Answer**\n",
        "\n",
        "* \\D, \\W, and \\S are shorthand character classes that represent the negation of \\d, \\w, and \\s, respectively. Here's what each of these shorthand character classes signify:\n",
        "* \\D matches any character that is not a digit, which is equivalent to [^0-9].\n",
        "* \\W matches any character that is not an alphanumeric character or underscore, which is equivalent to [^a-zA-Z0-9_].\n",
        "* \\S matches any character that is not a whitespace character, which is equivalent to [^ \\t\\n\\r\\f\\v].\n"
      ],
      "metadata": {
        "id": "yGu1waRnojjZ"
      }
    },
    {
      "cell_type": "code",
      "source": [],
      "metadata": {
        "id": "aEZjc_D4ouev"
      },
      "execution_count": null,
      "outputs": []
    },
    {
      "cell_type": "markdown",
      "source": [
        "# 14. What is the difference between .**? and .*?\n",
        "**Answer**\n",
        "\n",
        "* The difference between .*? and .* in regular expressions is in their behavior regarding \"greediness\". The . character matches any character except a newline character, and the * character matches zero or more occurrences of the preceding character.\n",
        "\n",
        "* The .* pattern is a \"greedy\" pattern, which means it tries to match as much as possible. When used with other characters, it will match as many of those characters as possible. For example, the regular expression r'a.*b' would match the longest substring between 'a' and 'b' in a string, even if it contains other 'b' characters.\n",
        "\n",
        "* The .**?  pattern, on the other hand, is a \"non-greedy\" pattern, which means it tries to match as little as possible while still allowing the rest of the pattern to match. When used with other characters, it will match as few of those characters as possible. For example, the regular expression r'a.*?b' would match the shortest substring between 'a' and 'b' in a string, even if it contains other 'b' characters."
      ],
      "metadata": {
        "id": "yDsHykQtou3K"
      }
    },
    {
      "cell_type": "code",
      "source": [],
      "metadata": {
        "id": "4bJR1qTepZSL"
      },
      "execution_count": null,
      "outputs": []
    },
    {
      "cell_type": "markdown",
      "source": [
        "# 15. What is the syntax for matching both numbers and lowercase letters with a character class?\n",
        "\n",
        "**Answer**\n",
        "```\n",
        "import re\n",
        "string = \"abc123xyz456\"\n",
        "pattern = r'[\\d\\w]+'\n",
        "matches = re.findall(pattern, string)\n",
        "print(matches)\n",
        "```\n"
      ],
      "metadata": {
        "id": "zUgj6T8TpgqU"
      }
    },
    {
      "cell_type": "code",
      "source": [],
      "metadata": {
        "id": "yj-r8Uvxp-2p"
      },
      "execution_count": null,
      "outputs": []
    },
    {
      "cell_type": "markdown",
      "source": [
        "#16. What is the procedure for making a normal expression in regax case insensitive?\n",
        "\n",
        "**Answer**\n",
        "\n",
        "To make a regular expression case insensitive in Python, we can pass the re.IGNORECASE (or re.I) flag as the second argument to the re.compile() function\n",
        "\n",
        "```\n",
        "import re\n",
        "\n",
        "string = \"What do you call a factory that makes okay products? A SATISFACTORY!.\"\n",
        "\n",
        "pattern = re.compile(r'SATISFACTORY', re.IGNORECASE)\n",
        "matches = pattern.findall(string)\n",
        "\n",
        "print(matches) \n",
        "\n",
        "```"
      ],
      "metadata": {
        "id": "D-8g8f2tp_RM"
      }
    },
    {
      "cell_type": "code",
      "source": [],
      "metadata": {
        "id": "iQb0XhhBq8Bg"
      },
      "execution_count": null,
      "outputs": []
    },
    {
      "cell_type": "markdown",
      "source": [
        "#17. What does the . character normally match? What does it match if re.DOTALL is passed as 2nd argument in re.compile()?\n",
        "\n",
        "**Answer**\n",
        "\n",
        "In a regular expression in Python, the . (dot) character normally matches any character except for a newline character (\\n). However, if the re.DOTALL (or re.S) flag is passed as the second argument to re.compile(), the dot character matches any character including a newline character."
      ],
      "metadata": {
        "id": "n6EsuUJGq8ic"
      }
    },
    {
      "cell_type": "code",
      "source": [],
      "metadata": {
        "id": "DiZcq3UxrKau"
      },
      "execution_count": null,
      "outputs": []
    },
    {
      "cell_type": "markdown",
      "source": [
        "#18. If numReg = re.compile(r&#39;\\d+&#39;), what will numRegex.sub(&#39;X&#39;, &#39;11 drummers, 10 pipers, five rings, 4 hen&#39;) return?\n",
        "\n",
        "**Answer**\n",
        "\n",
        "```\n",
        "import re\n",
        "numReg = re.compile(r'\\d+')\n",
        "result = numReg.sub('X', '11 drummers, 10 pipers, five rings, 4 hens')\n",
        "print(result)\n",
        "\n",
        "```\n",
        "\n",
        "Output: X drummers, X pipers, five rings, X hens\n"
      ],
      "metadata": {
        "id": "pF3KW6ZfrK0x"
      }
    },
    {
      "cell_type": "code",
      "source": [
        "import re\n",
        "numReg = re.compile(r'\\d+')\n",
        "result = numReg.sub('X', '11 drummers, 10 pipers, five rings, 4 hens')\n",
        "print(result)"
      ],
      "metadata": {
        "colab": {
          "base_uri": "https://localhost:8080/"
        },
        "id": "bVaGSWxsrPS4",
        "outputId": "380bd8b3-7f18-4980-e01a-68817757c1c9"
      },
      "execution_count": 2,
      "outputs": [
        {
          "output_type": "stream",
          "name": "stdout",
          "text": [
            "X drummers, X pipers, five rings, X hens\n"
          ]
        }
      ]
    },
    {
      "cell_type": "code",
      "source": [],
      "metadata": {
        "id": "XxpWzuIdrsu5"
      },
      "execution_count": null,
      "outputs": []
    },
    {
      "cell_type": "markdown",
      "source": [
        "# 19. What does passing re.VERBOSE as the 2nd argument to re.compile() allow to do?\n",
        "\n",
        "**Answer**\n",
        "\n",
        "Passing re.VERBOSE as the second argument to re.compile() allows you to add comments and whitespace to the regular expression, making it more readable and easier to understand.\n",
        "\n",
        "When re.VERBOSE is passed, the regular expression string can be spread across multiple lines and contain whitespace, which is ignored by the regex engine. Comments can also be added to the expression by using the # character, which allows you to explain the purpose of each part of the expression."
      ],
      "metadata": {
        "id": "OLqmAbmPru9S"
      }
    },
    {
      "cell_type": "code",
      "source": [],
      "metadata": {
        "id": "VwaAEZYrsAc3"
      },
      "execution_count": null,
      "outputs": []
    },
    {
      "cell_type": "markdown",
      "source": [
        "# 20. How would you write a regex that match a number with comma for every three digits? It must match the given following:\n",
        "\n"
      ],
      "metadata": {
        "id": "t_VzId9IsA3F"
      }
    },
    {
      "cell_type": "code",
      "source": [
        "import re\n",
        "\n",
        "pattern = re.compile(r'^\\d{1,3}(,\\d{3})*$')\n",
        "\n",
        "strings = ['42', '1,234', '6,368,745', '12,34,567', '1234']\n",
        "\n",
        "for string in strings:\n",
        "    if pattern.match(string):\n",
        "        print(f\"'{string}' matches the pattern\")\n",
        "    else:\n",
        "        print(f\"'{string}' does not match the pattern\")\n"
      ],
      "metadata": {
        "colab": {
          "base_uri": "https://localhost:8080/"
        },
        "id": "3oZT-oFWsqzD",
        "outputId": "6aaaa82d-e928-4a61-fb05-1e3b444d35f8"
      },
      "execution_count": 3,
      "outputs": [
        {
          "output_type": "stream",
          "name": "stdout",
          "text": [
            "'42' matches the pattern\n",
            "'1,234' matches the pattern\n",
            "'6,368,745' matches the pattern\n",
            "'12,34,567' does not match the pattern\n",
            "'1234' does not match the pattern\n"
          ]
        }
      ]
    },
    {
      "cell_type": "code",
      "source": [],
      "metadata": {
        "id": "RNrdseRYsrlv"
      },
      "execution_count": null,
      "outputs": []
    },
    {
      "cell_type": "markdown",
      "source": [
        "# 21. How would you write a regex that matches the full name of someone whose last name is Watanabe? You can assume that the first name that comes before it will always be one word that begins with a capital letter. The regex must match the following:\n",
        "![del.png](data:image/png;base64,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)\n",
        "**Answer**\n",
        "\n",
        "\n",
        "\n",
        "  "
      ],
      "metadata": {
        "id": "NIZwZWb0sych"
      }
    },
    {
      "cell_type": "code",
      "source": [
        "import re\n",
        "\n",
        "name_regex = re.compile(r'[A-Z][a-z]* Watanabe')\n",
        "# pattern: uppercase letter followed by zero or more lowercase letters, then space, then 'Watanabe'\n",
        "\n",
        "# Test the regex\n",
        "print(name_regex.search('Haruto Watanabe'))  # Match\n",
        "print(name_regex.search('Alice Watanabe'))  # Match\n",
        "print(name_regex.search('RoboCop Watanabe'))  # Match\n",
        "print(name_regex.search('haruto Watanabe'))  # Not a match\n",
        "print(name_regex.search('Mr. Watanabe'))  # Not a match\n",
        "print(name_regex.search('Watanabe'))  # Not a match\n",
        "print(name_regex.search('Haruto watanabe'))  # Not a match\n"
      ],
      "metadata": {
        "colab": {
          "base_uri": "https://localhost:8080/"
        },
        "id": "4ZyEJj07tmjB",
        "outputId": "db3b3b99-2247-494c-df58-3164ffb72481"
      },
      "execution_count": 4,
      "outputs": [
        {
          "output_type": "stream",
          "name": "stdout",
          "text": [
            "<re.Match object; span=(0, 15), match='Haruto Watanabe'>\n",
            "<re.Match object; span=(0, 14), match='Alice Watanabe'>\n",
            "<re.Match object; span=(4, 16), match='Cop Watanabe'>\n",
            "None\n",
            "None\n",
            "None\n",
            "None\n"
          ]
        }
      ]
    },
    {
      "cell_type": "code",
      "source": [],
      "metadata": {
        "id": "sENqfjXctnHj"
      },
      "execution_count": null,
      "outputs": []
    },
    {
      "cell_type": "markdown",
      "source": [
        "#22. How would you write a regex that matches a sentence where the first word is either \n",
        "Alice, Bob,\n",
        "or Carol; the second word is either eats, pets, or throws; the third word is apples, cats, or baseballs;\n",
        "and the sentence ends with a period? This regex should be case-insensitive. It must match the\n",
        "following:\n",
        "&#39;Alice eats apples.&#39;\n",
        "&#39;Bob pets cats.&#39;\n",
        "&#39;Carol throws baseballs.&#39;\n",
        "&#39;Alice throws Apples.&#39;\n",
        "&#39;BOB EATS CATS.&#39;\n",
        "but not the following:\n",
        "&#39;RoboCop eats apples.&#39;\n",
        "&#39;ALICE THROWS FOOTBALLS.&#39;\n",
        "&#39;Carol eats 7 cats.&#39;"
      ],
      "metadata": {
        "id": "_VLy4GtutpMR"
      }
    },
    {
      "cell_type": "code",
      "source": [
        "import re\n",
        "\n",
        "regex = re.compile(r'^(Alice|Bob|Carol)\\s+(eats|pets|throws)\\s+(apples|cats|baseballs)\\.$', re.IGNORECASE)\n"
      ],
      "metadata": {
        "id": "D8QjJOeZtwv-"
      },
      "execution_count": 5,
      "outputs": []
    },
    {
      "cell_type": "code",
      "source": [],
      "metadata": {
        "id": "J8klc5Jzt9wB"
      },
      "execution_count": null,
      "outputs": []
    }
  ]
}