{
  "nbformat": 4,
  "nbformat_minor": 0,
  "metadata": {
    "colab": {
      "provenance": [],
      "authorship_tag": "ABX9TyNA5T8b6aHz80qdeU6yrdWM",
      "include_colab_link": true
    },
    "kernelspec": {
      "name": "python3",
      "display_name": "Python 3"
    },
    "language_info": {
      "name": "python"
    }
  },
  "cells": [
    {
      "cell_type": "markdown",
      "metadata": {
        "id": "view-in-github",
        "colab_type": "text"
      },
      "source": [
        "<a href=\"https://colab.research.google.com/github/Deathwingml/ineuron_assignments/blob/main/PA_6.ipynb\" target=\"_parent\"><img src=\"https://colab.research.google.com/assets/colab-badge.svg\" alt=\"Open In Colab\"/></a>"
      ]
    },
    {
      "cell_type": "code",
      "execution_count": 1,
      "metadata": {
        "colab": {
          "base_uri": "https://localhost:8080/"
        },
        "id": "dbcf-FUFXv3d",
        "outputId": "d9eb9c58-561c-4496-def6-340fbd88eb67"
      },
      "outputs": [
        {
          "output_type": "stream",
          "name": "stdout",
          "text": [
            "Fibonacci sequence:\n",
            "0\n",
            "1\n",
            "1\n",
            "2\n",
            "3\n",
            "5\n",
            "8\n",
            "13\n",
            "21\n",
            "34\n"
          ]
        }
      ],
      "source": [
        "#1. Write a Python Program to Display Fibonacci Sequence Using Recursion?\n",
        "\n",
        "\n",
        "def fibonacci(n):\n",
        "    if n <= 1:\n",
        "        return n\n",
        "    else:\n",
        "        return fibonacci(n - 1) + fibonacci(n - 2)\n",
        "\n",
        "# Change the value of 'terms' to adjust the number of terms in the sequence\n",
        "terms = 10\n",
        "\n",
        "# Check if the input is valid\n",
        "if terms <= 0:\n",
        "    print(\"Number of terms should be positive.\")\n",
        "else:\n",
        "    print(\"Fibonacci sequence:\")\n",
        "    for i in range(terms):\n",
        "        print(fibonacci(i))\n"
      ]
    },
    {
      "cell_type": "code",
      "source": [
        "# 2. Write a Python Program to Find Factorial of Number Using Recursion?\n",
        "\n",
        "def factorial(n):\n",
        "    if n == 0:\n",
        "        return 1\n",
        "    else:\n",
        "        return n * factorial(n - 1)\n",
        "\n",
        "# Input a number to find its factorial\n",
        "number = 55\n",
        "\n",
        "# Check if the input is valid\n",
        "if number < 0:\n",
        "    print(\"Factorial is not defined for negative numbers.\")\n",
        "else:\n",
        "    result = factorial(number)\n",
        "    print(f\"The factorial of {number} is: {result}\")\n"
      ],
      "metadata": {
        "colab": {
          "base_uri": "https://localhost:8080/"
        },
        "id": "G-NIYxnVYN9l",
        "outputId": "2622eb86-b860-4259-91e0-87c112e76b4f"
      },
      "execution_count": 2,
      "outputs": [
        {
          "output_type": "stream",
          "name": "stdout",
          "text": [
            "The factorial of 55 is: 12696403353658275925965100847566516959580321051449436762275840000000000000\n"
          ]
        }
      ]
    },
    {
      "cell_type": "code",
      "source": [
        "def calculate_bmi(weight, height):\n",
        "    height = height / 100\n",
        "    bmi = weight / (height ** 2)\n",
        "    return bmi\n",
        "\n",
        "# Input weight in kilograms\n",
        "weight = 65\n",
        "\n",
        "# Input height in meters\n",
        "height = 170\n",
        "\n",
        "# Calculate BMI\n",
        "bmi = calculate_bmi(weight, height)\n",
        "\n",
        "# Print the calculated BMI\n",
        "print(\"Your Body Mass Index (BMI) is:\", bmi)\n"
      ],
      "metadata": {
        "colab": {
          "base_uri": "https://localhost:8080/"
        },
        "id": "vJMLYEnjYiMi",
        "outputId": "547a9c14-d015-4e5b-977f-e2f6a62c8f8e"
      },
      "execution_count": 4,
      "outputs": [
        {
          "output_type": "stream",
          "name": "stdout",
          "text": [
            "Your Body Mass Index (BMI) is: 22.49134948096886\n"
          ]
        }
      ]
    },
    {
      "cell_type": "code",
      "source": [
        "# 4. Write a Python Program to calculate the natural logarithm of any number?\n",
        "\n",
        "import math\n",
        "\n",
        "# Prompt the user to enter a number\n",
        "number = 55\n",
        "\n",
        "# Calculate the natural logarithm using the math.log() function\n",
        "natural_log = math.log(number)\n",
        "\n",
        "# Print the result\n",
        "print(\"The natural logarithm of\", number, \"is:\", natural_log)\n"
      ],
      "metadata": {
        "colab": {
          "base_uri": "https://localhost:8080/"
        },
        "id": "ybyx7SL4ZEoW",
        "outputId": "73256c3c-a5f6-4ba6-c9cc-9b373b4e2d48"
      },
      "execution_count": 5,
      "outputs": [
        {
          "output_type": "stream",
          "name": "stdout",
          "text": [
            "The natural logarithm of 55 is: 4.007333185232471\n"
          ]
        }
      ]
    },
    {
      "cell_type": "code",
      "source": [
        "#5. Write a Python Program for cube sum of first n natural numbers?\n",
        "\n",
        "def cube_sum(n):\n",
        "    # Initialize the sum to 0\n",
        "    sum = 0\n",
        "\n",
        "    # Calculate the cube sum using a loop\n",
        "    for i in range(1, n + 1):\n",
        "        sum += i ** 3\n",
        "\n",
        "    return sum\n",
        "\n",
        "# Prompt the user to enter the value of n\n",
        "n = 55\n",
        "\n",
        "# Calculate the cube sum and print the result\n",
        "result = cube_sum(n)\n",
        "print(\"The cube sum of the first\", n, \"natural numbers is:\", result)\n"
      ],
      "metadata": {
        "colab": {
          "base_uri": "https://localhost:8080/"
        },
        "id": "L1jlVV2Jc9xh",
        "outputId": "8cd91752-0221-45ad-f6f5-3922a70c6345"
      },
      "execution_count": 7,
      "outputs": [
        {
          "output_type": "stream",
          "name": "stdout",
          "text": [
            "The cube sum of the first 55 natural numbers is: 2371600\n"
          ]
        }
      ]
    },
    {
      "cell_type": "code",
      "source": [],
      "metadata": {
        "id": "PKmWZwdFdNpA"
      },
      "execution_count": null,
      "outputs": []
    }
  ]
}