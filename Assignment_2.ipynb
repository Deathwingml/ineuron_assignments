{
  "nbformat": 4,
  "nbformat_minor": 0,
  "metadata": {
    "colab": {
      "name": "Assignment_2.ipynb",
      "provenance": []
    },
    "kernelspec": {
      "name": "python3",
      "display_name": "Python 3"
    },
    "language_info": {
      "name": "python"
    }
  },
  "cells": [
    {
      "cell_type": "code",
      "execution_count": null,
      "metadata": {
        "id": "tiUVNzfCILiO"
      },
      "outputs": [],
      "source": []
    },
    {
      "cell_type": "markdown",
      "source": [
        "**1.What are the two values of the Boolean data type? How do you write them?**\n",
        "\n",
        "*Answer:*\n",
        "\n",
        "The two values of the Boolean are: true, false\n",
        "\n",
        "Written as True and False"
      ],
      "metadata": {
        "id": "UkuqEU1uIOKH"
      }
    },
    {
      "cell_type": "code",
      "source": [],
      "metadata": {
        "id": "ZbFbGWEvIWt6"
      },
      "execution_count": null,
      "outputs": []
    },
    {
      "cell_type": "markdown",
      "source": [
        "**2. What are the three different types of Boolean operators?**\n",
        "\n",
        "*Answer:*\n",
        "\n",
        "The 3 different types of Boolean operators are: AND, OR, NOT"
      ],
      "metadata": {
        "id": "ST-dVFgoI2XT"
      }
    },
    {
      "cell_type": "code",
      "source": [],
      "metadata": {
        "id": "zuG1LQ_pJOeA"
      },
      "execution_count": null,
      "outputs": []
    },
    {
      "cell_type": "markdown",
      "source": [
        "**3. Make a list of each Boolean operators truth tables (i.e. every possible combination of Boolean\n",
        "values for the operator and what it evaluate ).**\n",
        "\n",
        "*Answer:*\n",
        "\n",
        "True and True is True.\n",
        "\n",
        "True and False is False.\n",
        "\n",
        "False and True is False.\n",
        "\n",
        "False and False is False.\n",
        "\n",
        "True or True is True.\n",
        "\n",
        "True or False is True.\n",
        "\n",
        "False or True is True.\n",
        "\n",
        "False or False is False.\n",
        "\n",
        "not True is False.\n",
        "\n",
        "not False is True."
      ],
      "metadata": {
        "id": "7kONz2s-JOtK"
      }
    },
    {
      "cell_type": "code",
      "source": [],
      "metadata": {
        "id": "p46pcow-J3Hr"
      },
      "execution_count": 6,
      "outputs": []
    },
    {
      "cell_type": "markdown",
      "source": [
        "**4. What are the values of the following expressions?**\n",
        "\n",
        "\n",
        "```\n",
        "(5 > 4) and (3 == 5)\n",
        "not (5 >; 4)\n",
        "(5 > 4) or (3 == 5)\n",
        "not ((5 > 4) or (3 == 5))\n",
        "(True and True) and (True == False)\n",
        "(not False) or (not True)\n",
        "```\n",
        "*Answer*\n",
        "\n",
        "```\n",
        "(5 > 4) and (3 == 5) -- False\n",
        "not (5 > 4) -- False\n",
        "(5 > 4) or (3 == 5) -- True\n",
        "not ((5 > 4) or (3 == 5)) -- False\n",
        "(True and True) and (True == False) -- False\n",
        "(not False) or (not True) -- True\n",
        "\n"
      ],
      "metadata": {
        "id": "7FbnM2KbJ3VU"
      }
    },
    {
      "cell_type": "code",
      "source": [],
      "metadata": {
        "id": "YLhl6mQ-N-Lw"
      },
      "execution_count": null,
      "outputs": []
    },
    {
      "cell_type": "markdown",
      "source": [
        "**5. What are the six comparison operators?**\n",
        "\n",
        "*Answer*\n",
        "```\n",
        "Less Than - <\n",
        "Greater Than - >\n",
        "Equal - ==\n",
        "Not Equal - != \n",
        "Less or Equal - <=\n",
        "Greater or Equal - >=\n",
        "```"
      ],
      "metadata": {
        "id": "55MsFbrcN_eX"
      }
    },
    {
      "cell_type": "code",
      "source": [],
      "metadata": {
        "id": "Z-_M5ODpQPb-"
      },
      "execution_count": null,
      "outputs": []
    },
    {
      "cell_type": "markdown",
      "source": [
        "**6. How do you tell the difference between the equal to and assignment operators?Describe a\n",
        "condition and when you would use one.**\n",
        "\n",
        "*Answer*\n",
        "\n",
        "Equal to operator is: ==, this is used when we compair if 2 values are equal. The answer is true or false\n",
        "\n",
        "EX: is 2 == 4? : False\n",
        "\n",
        "Assignment operator is: =, this is used when we assign a variable to an object\n",
        "\n",
        "EX: variable = 12334343"
      ],
      "metadata": {
        "id": "_dNPXylwQQOm"
      }
    },
    {
      "cell_type": "code",
      "source": [],
      "metadata": {
        "id": "JBFJ9XOoQqou"
      },
      "execution_count": 7,
      "outputs": []
    },
    {
      "cell_type": "markdown",
      "source": [
        "**7. Identify the three blocks in this code:**\n",
        "```\n",
        "spam = 0\n",
        "if spam == 10:\n",
        "print('eggs')\n",
        "if spam > 5:\n",
        "print'bacon';)\n",
        "else:\n",
        "print('ham')\n",
        "print('spam')\n",
        "print('spam')\n",
        "```\n",
        "*Answer*\n",
        "\n",
        "```\n",
        "\n",
        "spam = 0\n",
        "\n",
        "if spam == 10:  # First block\n",
        "  print('eggs')\n",
        "if spam > 5:    # Second block\n",
        "  print('bacon')\n",
        "else:           # Third block\n",
        "  print('ham')\n",
        "  print('spam')\n",
        "  print('spam')\n",
        "```"
      ],
      "metadata": {
        "id": "vS7hAdhGR4EZ"
      }
    },
    {
      "cell_type": "code",
      "source": [],
      "metadata": {
        "id": "GQwh_DnXTNYj"
      },
      "execution_count": 11,
      "outputs": []
    },
    {
      "cell_type": "code",
      "source": [
        "#8. Write code that prints Hello if 1 is stored in spam, prints Howdy if 2 is stored in spam, and prints Greetings! if anything else is stored in spam.\n",
        "\n",
        "spam = int(input(\"enter a number: \"))\n",
        "\n",
        "if spam == 1:\n",
        "  print(\"Hello\")\n",
        "elif spam == 2:\n",
        "  print(\"Howdy\")\n",
        "else:\n",
        "  print(\"Greetings!\")"
      ],
      "metadata": {
        "colab": {
          "base_uri": "https://localhost:8080/"
        },
        "id": "9kmK2fwEUo5O",
        "outputId": "dfc3c33d-d768-4497-e4dd-a79a302c7635"
      },
      "execution_count": 18,
      "outputs": [
        {
          "output_type": "stream",
          "name": "stdout",
          "text": [
            "enter a number: 2\n",
            "Howdy\n"
          ]
        }
      ]
    },
    {
      "cell_type": "code",
      "source": [
        "# 9.If your programme is stuck in an endless loop, what keys you’ll press?\n",
        "\n",
        "# Answer: CTRL + C\n"
      ],
      "metadata": {
        "id": "iwnm0vZPU7Tn"
      },
      "execution_count": 16,
      "outputs": []
    },
    {
      "cell_type": "code",
      "source": [
        "#10. How can you tell the difference between break and continue?\n",
        "\n",
        "# Answer: Break and Continue are used for controlling the flow of a loop. Break stops and exits a loop. Continue give the control back to the loop."
      ],
      "metadata": {
        "id": "O9G6yWtpbt0I"
      },
      "execution_count": null,
      "outputs": []
    },
    {
      "cell_type": "code",
      "source": [
        "#11. In a for loop, what is the difference between range(10), range(0, 10), and range(0, 10, 1)?\n",
        "# Answer: in terms of execution, there is no difference between the 3. However, \n",
        "# range(10) - only has upper bound no lower bound or step counter. Range takes 0 as lower bound and 1 as step for a default.\n",
        "# range(0,10) - has upper and lower bound but no step. Therefore 1 is the default step\n",
        "# range(0,10,1) - has all 3 parameters: lower bound, upper bound, step counter\n",
        "\n",
        "for i in range(10):\n",
        "  print(i)\n",
        "print(\"\\n\")\n",
        "\n",
        "for i in range(0,10):\n",
        "  print(i)\n",
        "print(\"\\n\")\n",
        "for i in range(0,10,1):\n",
        "  print(i)"
      ],
      "metadata": {
        "colab": {
          "base_uri": "https://localhost:8080/"
        },
        "id": "DGdYm9s3cUWt",
        "outputId": "e947b763-3387-410e-9113-ca73932cb16f"
      },
      "execution_count": 44,
      "outputs": [
        {
          "output_type": "stream",
          "name": "stdout",
          "text": [
            "0\n",
            "1\n",
            "2\n",
            "3\n",
            "4\n",
            "5\n",
            "6\n",
            "7\n",
            "8\n",
            "9\n",
            "\n",
            "\n",
            "0\n",
            "1\n",
            "2\n",
            "3\n",
            "4\n",
            "5\n",
            "6\n",
            "7\n",
            "8\n",
            "9\n",
            "\n",
            "\n",
            "0\n",
            "1\n",
            "2\n",
            "3\n",
            "4\n",
            "5\n",
            "6\n",
            "7\n",
            "8\n",
            "9\n"
          ]
        }
      ]
    },
    {
      "cell_type": "code",
      "source": [
        "#12. Write a short program that prints the numbers 1 to 10 using a for loop. \n",
        "#Then write an equivalent program that prints the numbers 1 to 10 using a while loop.\n",
        "\n",
        "# Answer:\n",
        "# Using For loop:\n",
        "\n",
        "for i in range(0,11):\n",
        "  print(i)\n",
        "print(\"\\n\")\n",
        "\n",
        "\n",
        "# Using While loop:\n",
        "\n",
        "i =0\n",
        "while i <= 10:\n",
        "  print(i)\n",
        "  i = i + 1"
      ],
      "metadata": {
        "colab": {
          "base_uri": "https://localhost:8080/"
        },
        "id": "aoW3Em4iciu5",
        "outputId": "81a684fb-5b54-4e06-fc2b-c870115ddc3e"
      },
      "execution_count": 45,
      "outputs": [
        {
          "output_type": "stream",
          "name": "stdout",
          "text": [
            "0\n",
            "1\n",
            "2\n",
            "3\n",
            "4\n",
            "5\n",
            "6\n",
            "7\n",
            "8\n",
            "9\n",
            "10\n",
            "\n",
            "\n",
            "0\n",
            "1\n",
            "2\n",
            "3\n",
            "4\n",
            "5\n",
            "6\n",
            "7\n",
            "8\n",
            "9\n",
            "10\n"
          ]
        }
      ]
    },
    {
      "cell_type": "code",
      "source": [
        "# 13. If you had a function named bacon() inside a module named spam, how would you call it after importing spam?\n",
        "\n",
        "# Answer: spam.bacon()"
      ],
      "metadata": {
        "id": "rjXEbRgDgqE1"
      },
      "execution_count": null,
      "outputs": []
    }
  ]
}