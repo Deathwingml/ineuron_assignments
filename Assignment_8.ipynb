{
  "nbformat": 4,
  "nbformat_minor": 0,
  "metadata": {
    "colab": {
      "provenance": [],
      "authorship_tag": "ABX9TyNPjWNLvv6Fs191S4orpW+H",
      "include_colab_link": true
    },
    "kernelspec": {
      "name": "python3",
      "display_name": "Python 3"
    },
    "language_info": {
      "name": "python"
    }
  },
  "cells": [
    {
      "cell_type": "markdown",
      "metadata": {
        "id": "view-in-github",
        "colab_type": "text"
      },
      "source": [
        "<a href=\"https://colab.research.google.com/github/Deathwingml/ineuron_assignments/blob/main/Assignment_8.ipynb\" target=\"_parent\"><img src=\"https://colab.research.google.com/assets/colab-badge.svg\" alt=\"Open In Colab\"/></a>"
      ]
    },
    {
      "cell_type": "markdown",
      "source": [
        "# 1. Is the Python Standard Library included with PyInputPlus?\n",
        "\n",
        "Answer:\n",
        "\n",
        "The Python Standard Library is not included with PyInputPlus. \n",
        "PyInputPlus is a separate third-party library that provides additional functionality for taking user input in Python.\n"
      ],
      "metadata": {
        "id": "Ah6geGSiOwvM"
      }
    },
    {
      "cell_type": "markdown",
      "source": [
        "#2. Why is PyInputPlus commonly imported with import pyinputplus as pypi?\n",
        "\n",
        "Answer:\n",
        "\n",
        "PyInputPlus is commonly imported with the alias pypi (or any other preferred alias) for convenience. It allows developers to use a shorter name when referring to PyInputPlus in their code, reducing the amount of typing required and making the code more readable.\n",
        "\n",
        "Using an alias also helps to avoid potential conflicts with other module names or variables in the code. For example, if there is another module or variable named \"pyinputplus\" in the same codebase, importing PyInputPlus with an alias allows you to distinguish between them."
      ],
      "metadata": {
        "id": "xu6lOBz3O3kj"
      }
    },
    {
      "cell_type": "markdown",
      "source": [
        "#3. what is and How do you distinguish between inputInt() and inputFloat()?\n",
        "\n",
        "Answer:\n",
        "\n",
        "inputInt() and inputFloat() are functions provided by the PyInputPlus library for taking user input and validating it as an integer \n",
        "or a float, respectively.\n",
        "\n",
        "Here's how you can distinguish between inputInt() and inputFloat():\n",
        "\n",
        "inputInt(): This function prompts the user to enter an integer value and returns the validated integer input. If the user enters a non-integer value or leaves the input blank, it will reprompt the user until a valid integer is provided. It can be used when you specifically expect the user to enter a whole number.\n",
        "\n",
        "inputFloat(): This function prompts the user to enter a floating-point number and returns the validated float input. It handles input validation similar to inputInt(), but allows decimal numbers as well. If the user enters a non-numeric value or leaves the input blank, it will reprompt until a valid float is provided. It is useful when you expect the user to enter a number with decimal places.\n"
      ],
      "metadata": {
        "id": "HKnNM_gRQXn-"
      }
    },
    {
      "cell_type": "code",
      "source": [],
      "metadata": {
        "id": "9r5mVhMpQVmX"
      },
      "execution_count": null,
      "outputs": []
    },
    {
      "cell_type": "markdown",
      "source": [
        "#4. Using PyInputPlus, how do you ensure that the user enters a whole number between 0 and 99?\n",
        "\n",
        "Answer:\n",
        "\n",
        "To ensure the user enters a whole number from between 0 and 99, we can use inputInt() function with min and max arguments.\n",
        "\n",
        "```\n",
        "import pyinputplus as pypi\n",
        "\n",
        "num = pypi.inputInt(\"Enter a whole number between 0 and 99: \", min=0, max=99)\n",
        "print(\"Entered number:\", num)\n",
        "```"
      ],
      "metadata": {
        "id": "cDwq2uq6QlOa"
      }
    },
    {
      "cell_type": "markdown",
      "source": [
        "#5. What is transferred to the keyword arguments allowRegexes and blockRegexes?\n",
        "\n",
        "Answer:\n",
        "\n",
        "In PyInputPlus, the allowRegexes and blockRegexes keyword arguments are used to specify regular expressions that define patterns for allowing or blocking certain input values.\n",
        "\n",
        "Here's an explanation of each keyword argument:\n",
        "\n",
        "allowRegexes: It is a list of regular expressions. If provided, PyInputPlus will only accept input values that match at least one of the regular expressions in the list. If the user enters a value that does not match any of the allowed regular expressions, PyInputPlus will reject it and reprompt for valid input.\n",
        "\n",
        "blockRegexes: It is a list of regular expressions. If provided, PyInputPlus will reject any input value that matches any of the regular expressions in the list. If the user enters a value that matches any of the blocked regular expressions, PyInputPlus will reprompt for a valid input."
      ],
      "metadata": {
        "id": "_r-yngJ-Rkc1"
      }
    },
    {
      "cell_type": "markdown",
      "source": [
        "#6. If a blank input is entered three times, what does inputStr(limit=3) do?\n",
        "\n",
        "Answer:\n",
        "\n",
        "If a blank input is entered three times consecutively while using inputStr(limit=3) in PyInputPlus, it will raise a pyinputplus.RetryLimitException error."
      ],
      "metadata": {
        "id": "xfOQY2_lSYX1"
      }
    },
    {
      "cell_type": "markdown",
      "source": [
        "#7. If blank input is entered three times, what does inputStr(limit=3, default=&#39;hello&#39;) do?\n",
        "\n",
        "Answer:\n",
        "\n",
        "It will return the default value 'hello' instead of raising an exception."
      ],
      "metadata": {
        "id": "KSigTAhoSkT8"
      }
    },
    {
      "cell_type": "code",
      "source": [],
      "metadata": {
        "id": "kjT9juHrRYVB"
      },
      "execution_count": null,
      "outputs": []
    }
  ]
}