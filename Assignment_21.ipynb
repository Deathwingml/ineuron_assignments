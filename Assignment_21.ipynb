{
  "nbformat": 4,
  "nbformat_minor": 0,
  "metadata": {
    "colab": {
      "provenance": [],
      "authorship_tag": "ABX9TyPDDerSSYEMsCUHPDYRMDA2",
      "include_colab_link": true
    },
    "kernelspec": {
      "name": "python3",
      "display_name": "Python 3"
    },
    "language_info": {
      "name": "python"
    }
  },
  "cells": [
    {
      "cell_type": "markdown",
      "metadata": {
        "id": "view-in-github",
        "colab_type": "text"
      },
      "source": [
        "<a href=\"https://colab.research.google.com/github/Deathwingml/ineuron_assignments/blob/main/Assignment_21.ipynb\" target=\"_parent\"><img src=\"https://colab.research.google.com/assets/colab-badge.svg\" alt=\"Open In Colab\"/></a>"
      ]
    },
    {
      "cell_type": "code",
      "execution_count": null,
      "metadata": {
        "id": "rJv5SXOTiwuE"
      },
      "outputs": [],
      "source": []
    },
    {
      "cell_type": "markdown",
      "source": [
        "#1. Add the current date to the text file today.txt as a string."
      ],
      "metadata": {
        "id": "xbv7ZE86i2UO"
      }
    },
    {
      "cell_type": "code",
      "source": [
        "from datetime import date\n",
        "\n",
        "# Get the current date\n",
        "current_date = date.today()\n",
        "\n",
        "# Open the file in append mode\n",
        "with open(\"today.txt\", \"a\") as file:\n",
        "    # Write the current date as a string to the file\n",
        "    file.write(str(current_date))\n",
        "    # Add a newline character after the date\n",
        "    file.write(\"\\n\")\n",
        "\n",
        "print(f\"file created with current date\")"
      ],
      "metadata": {
        "colab": {
          "base_uri": "https://localhost:8080/"
        },
        "id": "hdbWrasgi23Z",
        "outputId": "8a891add-be42-4bb9-9378-cb3d775069c3"
      },
      "execution_count": 1,
      "outputs": [
        {
          "output_type": "stream",
          "name": "stdout",
          "text": [
            "file created with current date\n"
          ]
        }
      ]
    },
    {
      "cell_type": "code",
      "source": [],
      "metadata": {
        "id": "eFN3sAUWjCXQ"
      },
      "execution_count": null,
      "outputs": []
    },
    {
      "cell_type": "markdown",
      "source": [
        "#2. Read the text file today.txt into the string today_string"
      ],
      "metadata": {
        "id": "gNDPDXw0jGq2"
      }
    },
    {
      "cell_type": "code",
      "source": [
        "with open(\"today.txt\", \"r\") as file:\n",
        "    today_string = file.read()\n"
      ],
      "metadata": {
        "id": "YvAqfNcQjHLB"
      },
      "execution_count": 2,
      "outputs": []
    },
    {
      "cell_type": "code",
      "source": [],
      "metadata": {
        "id": "JIJUpJTXjMCB"
      },
      "execution_count": null,
      "outputs": []
    },
    {
      "cell_type": "markdown",
      "source": [
        "#3. Parse the date from today_string.\n"
      ],
      "metadata": {
        "id": "gev6nHwYjOjZ"
      }
    },
    {
      "cell_type": "code",
      "source": [
        "from datetime import datetime\n",
        "\n",
        "date_format = \"%Y-%m-%d\"  \n",
        "parsed_date = datetime.strptime(today_string.strip(), date_format).date()\n",
        "parsed_date"
      ],
      "metadata": {
        "colab": {
          "base_uri": "https://localhost:8080/"
        },
        "id": "Db9HK_7DjTBY",
        "outputId": "fecf69ca-759a-4c04-cc8c-77a7ac7578d3"
      },
      "execution_count": 5,
      "outputs": [
        {
          "output_type": "execute_result",
          "data": {
            "text/plain": [
              "datetime.date(2023, 6, 5)"
            ]
          },
          "metadata": {},
          "execution_count": 5
        }
      ]
    },
    {
      "cell_type": "markdown",
      "source": [
        "#4. List the files in your current directory"
      ],
      "metadata": {
        "id": "W0Mp1UGhjfkx"
      }
    },
    {
      "cell_type": "code",
      "source": [
        "import os\n",
        "\n",
        "files = os.listdir('.')\n",
        "for file in files:\n",
        "    print(file)\n"
      ],
      "metadata": {
        "colab": {
          "base_uri": "https://localhost:8080/"
        },
        "id": "62e5NoqFjV9_",
        "outputId": "21869520-6971-48e0-b82d-7b0d411a1a1f"
      },
      "execution_count": 6,
      "outputs": [
        {
          "output_type": "stream",
          "name": "stdout",
          "text": [
            ".config\n",
            "today.txt\n",
            "sample_data\n"
          ]
        }
      ]
    },
    {
      "cell_type": "code",
      "source": [],
      "metadata": {
        "id": "jofd6haYjjGA"
      },
      "execution_count": null,
      "outputs": []
    },
    {
      "cell_type": "markdown",
      "source": [
        "#5. Create a list of all of the files in your parent directory (minimum five files should be available).\n",
        "\n",
        "Answer: I'm using Google colab on my work computer. I cannot create files unless required by business. Please consider my answer. Thank you"
      ],
      "metadata": {
        "id": "8zXP1xaIjm7h"
      }
    },
    {
      "cell_type": "code",
      "source": [
        "import os\n",
        "\n",
        "parent_dir = os.path.abspath('..')\n",
        "files = [f for f in os.listdir(parent_dir) if os.path.isfile(os.path.join(parent_dir, f))]\n",
        "\n",
        "print(files)\n"
      ],
      "metadata": {
        "colab": {
          "base_uri": "https://localhost:8080/"
        },
        "id": "bpZE3hEWjndZ",
        "outputId": "39410402-9017-4d94-fe9e-40d145d1e4c6"
      },
      "execution_count": 7,
      "outputs": [
        {
          "output_type": "stream",
          "name": "stdout",
          "text": [
            "['.dockerenv', 'NGC-DL-CONTAINER-LICENSE']\n"
          ]
        }
      ]
    },
    {
      "cell_type": "code",
      "source": [],
      "metadata": {
        "id": "l5O-veAojvBN"
      },
      "execution_count": null,
      "outputs": []
    },
    {
      "cell_type": "markdown",
      "source": [
        "#6. Use multiprocessing to create three separate processes. Make each one wait a random number of\n",
        "seconds between one and five, print the current time, and then exit."
      ],
      "metadata": {
        "id": "kanN1-bBj_M_"
      }
    },
    {
      "cell_type": "code",
      "source": [
        "import multiprocessing\n",
        "import random\n",
        "import time\n",
        "from datetime import datetime\n",
        "\n",
        "def worker():\n",
        "    wait_time = random.randint(1, 5)\n",
        "    time.sleep(wait_time)\n",
        "    current_time = datetime.now().strftime(\"%H:%M:%S\")\n",
        "    print(f\"Process {multiprocessing.current_process().name}: Current time - {current_time}\")\n",
        "\n",
        "if __name__ == '__main__':\n",
        "    processes = []\n",
        "    for i in range(3):\n",
        "        p = multiprocessing.Process(target=worker)\n",
        "        p.start()\n",
        "        processes.append(p)\n",
        "\n",
        "    for p in processes:\n",
        "        p.join()\n"
      ],
      "metadata": {
        "colab": {
          "base_uri": "https://localhost:8080/"
        },
        "id": "taQOe_9fj_1L",
        "outputId": "dd39e87a-3fca-4215-80e5-bbe04f902fd3"
      },
      "execution_count": 8,
      "outputs": [
        {
          "output_type": "stream",
          "name": "stdout",
          "text": [
            "Process Process-3: Current time - 12:38:08\n",
            "Process Process-1: Current time - 12:38:09\n",
            "Process Process-2: Current time - 12:38:12\n"
          ]
        }
      ]
    },
    {
      "cell_type": "code",
      "source": [],
      "metadata": {
        "id": "LKECAeEEkI1w"
      },
      "execution_count": null,
      "outputs": []
    },
    {
      "cell_type": "markdown",
      "source": [
        "#7. Create a date object of your day of birth."
      ],
      "metadata": {
        "id": "RyZvu_jfkNe7"
      }
    },
    {
      "cell_type": "code",
      "source": [
        "from datetime import date\n",
        "\n",
        "birth_date = date(1995, 2, 17) \n",
        "\n",
        "print(birth_date)\n"
      ],
      "metadata": {
        "colab": {
          "base_uri": "https://localhost:8080/"
        },
        "id": "39uRXgWJkOKq",
        "outputId": "236fbda2-99db-4ffc-a694-0a8e33b2be99"
      },
      "execution_count": 9,
      "outputs": [
        {
          "output_type": "stream",
          "name": "stdout",
          "text": [
            "1995-02-17\n"
          ]
        }
      ]
    },
    {
      "cell_type": "code",
      "source": [],
      "metadata": {
        "id": "F47YsoJ2kVYM"
      },
      "execution_count": null,
      "outputs": []
    },
    {
      "cell_type": "markdown",
      "source": [
        "#8. What day of the week was your day of birth?"
      ],
      "metadata": {
        "id": "S9JqO51zkYeZ"
      }
    },
    {
      "cell_type": "code",
      "source": [
        "day_of_week = birth_date.strftime('%A')\n",
        "\n",
        "print(day_of_week)"
      ],
      "metadata": {
        "colab": {
          "base_uri": "https://localhost:8080/"
        },
        "id": "pEybq1lekZGx",
        "outputId": "6610876c-bdec-45da-f174-970ee3331a56"
      },
      "execution_count": 10,
      "outputs": [
        {
          "output_type": "stream",
          "name": "stdout",
          "text": [
            "Friday\n"
          ]
        }
      ]
    },
    {
      "cell_type": "code",
      "source": [],
      "metadata": {
        "id": "laS9s0yDkdLw"
      },
      "execution_count": null,
      "outputs": []
    },
    {
      "cell_type": "markdown",
      "source": [
        "#9. When will you be (or when were you) 10,000 days old?"
      ],
      "metadata": {
        "id": "S94js0sskifJ"
      }
    },
    {
      "cell_type": "code",
      "source": [
        "from datetime import date, timedelta\n",
        "\n",
        "# Calculate the timedelta for 10,000 days\n",
        "delta = timedelta(days=10000)\n",
        "\n",
        "target_date = birth_date + delta\n",
        "\n",
        "print(target_date)\n"
      ],
      "metadata": {
        "colab": {
          "base_uri": "https://localhost:8080/"
        },
        "id": "CKZnxm23kjL_",
        "outputId": "043479f0-2e56-413c-aba7-7198d6034bc8"
      },
      "execution_count": 11,
      "outputs": [
        {
          "output_type": "stream",
          "name": "stdout",
          "text": [
            "2022-07-05\n"
          ]
        }
      ]
    },
    {
      "cell_type": "code",
      "source": [],
      "metadata": {
        "id": "l8JWo5J5k28Y"
      },
      "execution_count": null,
      "outputs": []
    }
  ]
}