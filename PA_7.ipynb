{
  "nbformat": 4,
  "nbformat_minor": 0,
  "metadata": {
    "colab": {
      "provenance": [],
      "authorship_tag": "ABX9TyM+LkzCZY7aISr4naDY3+gl",
      "include_colab_link": true
    },
    "kernelspec": {
      "name": "python3",
      "display_name": "Python 3"
    },
    "language_info": {
      "name": "python"
    }
  },
  "cells": [
    {
      "cell_type": "markdown",
      "metadata": {
        "id": "view-in-github",
        "colab_type": "text"
      },
      "source": [
        "<a href=\"https://colab.research.google.com/github/Deathwingml/ineuron_assignments/blob/main/PA_7.ipynb\" target=\"_parent\"><img src=\"https://colab.research.google.com/assets/colab-badge.svg\" alt=\"Open In Colab\"/></a>"
      ]
    },
    {
      "cell_type": "code",
      "execution_count": 1,
      "metadata": {
        "colab": {
          "base_uri": "https://localhost:8080/"
        },
        "id": "cEWcfcBbdgU2",
        "outputId": "2170d8e0-7f01-4d20-e827-2d8a63e38711"
      },
      "outputs": [
        {
          "output_type": "stream",
          "name": "stdout",
          "text": [
            "Sum of the array: 15\n"
          ]
        }
      ],
      "source": [
        "# 1. Write a Python Program to find sum of array?\n",
        "\n",
        "def array_sum(arr):\n",
        "    sum = 0\n",
        "    for num in arr:\n",
        "        sum += num\n",
        "    return sum\n",
        "\n",
        "# Example usage\n",
        "my_array = [1, 2, 3, 4, 5]\n",
        "result = array_sum(my_array)\n",
        "print(\"Sum of the array:\", result)\n"
      ]
    },
    {
      "cell_type": "code",
      "source": [
        "#2. Write a Python Program to find largest element in an array?\n",
        "\n",
        "def find_largest_element(arr):\n",
        "    if len(arr) == 0:\n",
        "        return None\n",
        "\n",
        "    largest = arr[0]\n",
        "    for num in arr:\n",
        "        if num > largest:\n",
        "            largest = num\n",
        "\n",
        "    return largest\n",
        "\n",
        "# Example usage\n",
        "my_array = [10, 5, 23, 7, 18]\n",
        "result = find_largest_element(my_array)\n",
        "print(\"Largest element:\", result)\n"
      ],
      "metadata": {
        "colab": {
          "base_uri": "https://localhost:8080/"
        },
        "id": "A9rLWn_Qhfj2",
        "outputId": "bc001fb0-3eee-41e6-f453-80c120c3d438"
      },
      "execution_count": 2,
      "outputs": [
        {
          "output_type": "stream",
          "name": "stdout",
          "text": [
            "Largest element: 23\n"
          ]
        }
      ]
    },
    {
      "cell_type": "code",
      "source": [
        "#3. Write a Python Program for array rotation?\n",
        "\n",
        "def rotate_array(arr, k):\n",
        "    n = len(arr)\n",
        "    k = k % n  # To handle cases where k > n\n",
        "    \n",
        "    rotated = []\n",
        "    for i in range(n):\n",
        "        rotated.append(arr[(i+k) % n])\n",
        "    \n",
        "    return rotated\n",
        "\n",
        "# Example usage\n",
        "my_array = [1, 2, 3, 4, 5]\n",
        "rotation_amount = 4\n",
        "rotated_array = rotate_array(my_array, rotation_amount)\n",
        "print(\"Original array:\", my_array)\n",
        "print(\"Rotated array:\", rotated_array)\n"
      ],
      "metadata": {
        "colab": {
          "base_uri": "https://localhost:8080/"
        },
        "id": "-bpT5Gv_h6Z5",
        "outputId": "40f22d3a-0f79-4633-dd33-5c1c01b70111"
      },
      "execution_count": 8,
      "outputs": [
        {
          "output_type": "stream",
          "name": "stdout",
          "text": [
            "Original array: [1, 2, 3, 4, 5]\n",
            "Rotated array: [5, 1, 2, 3, 4]\n"
          ]
        }
      ]
    },
    {
      "cell_type": "code",
      "source": [
        "#4. Write a Python Program to Split the array and add the first part to the end?\n",
        "\n",
        "def split_and_add(arr, k):\n",
        "    n = len(arr)\n",
        "    k = k % n  # To handle cases where k > n\n",
        "    \n",
        "    split_point = k\n",
        "    splitted = arr[split_point:] + arr[:split_point]\n",
        "    \n",
        "    return splitted\n",
        "\n",
        "# Example usage\n",
        "my_array = [1, 2, 3, 4, 5]\n",
        "split_point = 2\n",
        "result = split_and_add(my_array, split_point)\n",
        "print(\"Original array:\", my_array)\n",
        "print(\"Split and added array:\", result)\n"
      ],
      "metadata": {
        "colab": {
          "base_uri": "https://localhost:8080/"
        },
        "id": "NPNaRB2piOwc",
        "outputId": "4788ef31-d9e9-4c33-9d2a-7346613bf9e1"
      },
      "execution_count": 9,
      "outputs": [
        {
          "output_type": "stream",
          "name": "stdout",
          "text": [
            "Original array: [1, 2, 3, 4, 5]\n",
            "Split and added array: [3, 4, 5, 1, 2]\n"
          ]
        }
      ]
    },
    {
      "cell_type": "code",
      "source": [
        "#5. Write a Python Program to check if given array is Monotonic?\n",
        "\n",
        "def is_monotonic(arr):\n",
        "    increasing = decreasing = True\n",
        "\n",
        "    for i in range(1, len(arr)):\n",
        "        if arr[i] < arr[i - 1]:\n",
        "            increasing = False\n",
        "        if arr[i] > arr[i - 1]:\n",
        "            decreasing = False\n",
        "\n",
        "    return increasing or decreasing\n",
        "\n",
        "# Example usage\n",
        "array1 = [1, 2, 3, 4, 5]\n",
        "array2 = [5, 4, 3, 2, 1]\n",
        "array3 = [1, 2, 2, 4, 5]\n",
        "\n",
        "print(is_monotonic(array1))  \n",
        "print(is_monotonic(array2))  \n",
        "print(is_monotonic(array3))  \n"
      ],
      "metadata": {
        "colab": {
          "base_uri": "https://localhost:8080/"
        },
        "id": "M5rD8JaLjILx",
        "outputId": "35a2e7fe-c5e0-4cc1-ba11-ce5321a3be4d"
      },
      "execution_count": 10,
      "outputs": [
        {
          "output_type": "stream",
          "name": "stdout",
          "text": [
            "True\n",
            "True\n",
            "True\n"
          ]
        }
      ]
    },
    {
      "cell_type": "code",
      "source": [],
      "metadata": {
        "id": "2J49XgXCkUh2"
      },
      "execution_count": null,
      "outputs": []
    }
  ]
}