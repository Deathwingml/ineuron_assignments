{
  "nbformat": 4,
  "nbformat_minor": 0,
  "metadata": {
    "colab": {
      "provenance": [],
      "authorship_tag": "ABX9TyODwoXylpnCbE3WH1ijtHp0",
      "include_colab_link": true
    },
    "kernelspec": {
      "name": "python3",
      "display_name": "Python 3"
    },
    "language_info": {
      "name": "python"
    }
  },
  "cells": [
    {
      "cell_type": "markdown",
      "metadata": {
        "id": "view-in-github",
        "colab_type": "text"
      },
      "source": [
        "<a href=\"https://colab.research.google.com/github/Deathwingml/ineuron_assignments/blob/main/PA_2.ipynb\" target=\"_parent\"><img src=\"https://colab.research.google.com/assets/colab-badge.svg\" alt=\"Open In Colab\"/></a>"
      ]
    },
    {
      "cell_type": "code",
      "execution_count": 1,
      "metadata": {
        "colab": {
          "base_uri": "https://localhost:8080/"
        },
        "id": "MUrJj984_tHy",
        "outputId": "507def8e-2c9f-4dde-ee8e-69235bd4c968"
      },
      "outputs": [
        {
          "output_type": "stream",
          "name": "stdout",
          "text": [
            "The distance in miles is: 6.21371\n"
          ]
        }
      ],
      "source": [
        "#1. Write a Python program to convert kilometers to miles?\n",
        "\n",
        "def km_to_miles(km):\n",
        "    miles = km * 0.621371\n",
        "    return miles\n",
        "\n",
        "kilometers = 10\n",
        "miles = km_to_miles(kilometers)\n",
        "print(\"The distance in miles is:\", miles)\n"
      ]
    },
    {
      "cell_type": "code",
      "source": [
        "#2. Write a Python program to convert Celsius to Fahrenheit?\n",
        "\n",
        "def c_to_f(celcius):\n",
        "  Fahrenheit = (celcius * (9/5)) + 32\n",
        "  return Fahrenheit\n",
        "\n",
        "celcius = 37\n",
        "Fahrenheit = c_to_f(celcius)\n",
        "print(f\"Fahrenheit for the give Celcius is: {Fahrenheit}\")"
      ],
      "metadata": {
        "colab": {
          "base_uri": "https://localhost:8080/"
        },
        "id": "wN2pusRx_8Yy",
        "outputId": "4516f2d9-d5eb-4f56-8aa6-a7b59bcff41b"
      },
      "execution_count": 2,
      "outputs": [
        {
          "output_type": "stream",
          "name": "stdout",
          "text": [
            "Fahrenheit for the give Celcius is: 98.60000000000001\n"
          ]
        }
      ]
    },
    {
      "cell_type": "code",
      "source": [
        "#3. Write a Python program to display calendar?\n",
        "\n",
        "import calendar\n",
        "\n",
        "#can take these as user input as well\n",
        "year = 1995 \n",
        "month = 2\n",
        "\n",
        "# Display the calendar for the given month and year\n",
        "print(calendar.month(year, month))\n"
      ],
      "metadata": {
        "colab": {
          "base_uri": "https://localhost:8080/"
        },
        "id": "-2qBMbwABHnN",
        "outputId": "35ef74ab-bd1a-4e60-8508-d9b8adf25d6e"
      },
      "execution_count": 3,
      "outputs": [
        {
          "output_type": "stream",
          "name": "stdout",
          "text": [
            "   February 1995\n",
            "Mo Tu We Th Fr Sa Su\n",
            "       1  2  3  4  5\n",
            " 6  7  8  9 10 11 12\n",
            "13 14 15 16 17 18 19\n",
            "20 21 22 23 24 25 26\n",
            "27 28\n",
            "\n"
          ]
        }
      ]
    },
    {
      "cell_type": "code",
      "source": [
        "#4. Write a Python program to solve quadratic equation?\n",
        "\n",
        "import math\n",
        "\n",
        "def solve_quadratic(a, b, c):\n",
        "    discriminant = b**2 - 4*a*c\n",
        "\n",
        "    if discriminant > 0:\n",
        "        root1 = (-b + math.sqrt(discriminant)) / (2*a)\n",
        "        root2 = (-b - math.sqrt(discriminant)) / (2*a)\n",
        "        return root1, root2\n",
        "    elif discriminant == 0:\n",
        "        root = -b / (2*a)\n",
        "        return root\n",
        "    else:\n",
        "        return \"No real roots\"\n",
        "\n",
        "# Get the coefficients from the user\n",
        "a = 2\n",
        "b = 4.6\n",
        "c = 99.6\n",
        "\n",
        "# Call the solve_quadratic function\n",
        "roots = solve_quadratic(a, b, c)\n",
        "\n",
        "# Print the roots\n",
        "print(\"Roots:\", roots)\n"
      ],
      "metadata": {
        "colab": {
          "base_uri": "https://localhost:8080/"
        },
        "id": "sz8EOflGBm-t",
        "outputId": "1e78cc47-865f-4711-c84e-8d82b26dc01f"
      },
      "execution_count": 4,
      "outputs": [
        {
          "output_type": "stream",
          "name": "stdout",
          "text": [
            "Roots: No real roots\n"
          ]
        }
      ]
    },
    {
      "cell_type": "code",
      "source": [
        "#5. Write a Python program to swap two variables without temp variable?\n",
        "\n",
        "def swap_variables(a, b):\n",
        "    a = a + b\n",
        "    b = a - b\n",
        "    a = a - b\n",
        "    return a, b\n",
        "\n",
        "# Get the values from the user\n",
        "x = 5\n",
        "y = 6\n",
        "\n",
        "# Call the swap_variables function\n",
        "x, y = swap_variables(x, y)\n",
        "\n",
        "# Print the swapped values\n",
        "print(\"After swapping:\")\n",
        "print(\"x =\", x)\n",
        "print(\"y =\", y)\n"
      ],
      "metadata": {
        "colab": {
          "base_uri": "https://localhost:8080/"
        },
        "id": "6g9cXK-KCE1j",
        "outputId": "ff7aa735-d323-4ee3-d827-a41eaab37654"
      },
      "execution_count": 5,
      "outputs": [
        {
          "output_type": "stream",
          "name": "stdout",
          "text": [
            "After swapping:\n",
            "x = 6\n",
            "y = 5\n"
          ]
        }
      ]
    },
    {
      "cell_type": "code",
      "source": [],
      "metadata": {
        "id": "25Gdtb8hCjZS"
      },
      "execution_count": null,
      "outputs": []
    }
  ]
}