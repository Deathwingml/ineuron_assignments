{
  "nbformat": 4,
  "nbformat_minor": 0,
  "metadata": {
    "colab": {
      "provenance": [],
      "authorship_tag": "ABX9TyP2uTsMCmoiyorcF0PpMXLN"
    },
    "kernelspec": {
      "name": "python3",
      "display_name": "Python 3"
    },
    "language_info": {
      "name": "python"
    }
  },
  "cells": [
    {
      "cell_type": "markdown",
      "source": [
        "#1. To what does a relative path refer?\n",
        "\n",
        "Answer: \n",
        "\n",
        "A relative path refers to the location of a file or directory in relation to the current working directory or another reference point. It specifies the path to a file or directory relative to the current location rather than providing the complete path from the root directory.\n",
        "\n",
        "Relative paths are often used when referring to files or directories within the same project or directory structure. They provide a shorter and more flexible way of addressing files or directories without relying on the full absolute path.\n",
        "\n"
      ],
      "metadata": {
        "id": "dIohdkViTXWf"
      }
    },
    {
      "cell_type": "markdown",
      "source": [
        "#2. What does an absolute path start with your operating system?\n",
        "\n",
        "Answer:\n",
        "An absolute path on most operating systems starts with the root directory. The root directory is the highest-level directory in the file system hierarchy and serves as the starting point for navigating the file system.\n",
        "\n",
        "The notation for the root directory varies depending on the operating system:\n",
        "\n",
        "On Unix-based systems (e.g., Linux, macOS, BSD), the root directory is denoted by a forward slash /. For example: /home/user/documents/file.txt.\n",
        "\n",
        "On Windows systems, the root directory of the current drive is denoted by a drive letter followed by a colon :. For example: C:\\Users\\User\\Documents\\file.txt.\n",
        "\n",
        "An absolute path provides the complete and unambiguous location of a file or directory within the file system. It specifies the path from the root directory to the target file or directory, including all the intermediate directories.\n",
        "\n",
        "The Absolute path on my computer starts with \"C:\\\""
      ],
      "metadata": {
        "id": "ptpuXzt2MEF3"
      }
    },
    {
      "cell_type": "code",
      "execution_count": null,
      "metadata": {
        "id": "KtuTfbTTTVCz"
      },
      "outputs": [],
      "source": [
        " "
      ]
    },
    {
      "cell_type": "markdown",
      "source": [
        "#3. What do the functions os.getcwd() and os.chdir() do?\n",
        "\n",
        "Answer:\n",
        "The functions os.getcwd() and os.chdir() are part of the os module in Python and are used to interact with the file system.\n",
        "\n",
        "os.getcwd(): This function returns the current working directory (CWD) as a string. The current working directory is the directory in which the Python script is currently executing. When you run os.getcwd(), it will provide the absolute path of the current directory.\n",
        "\n",
        "os.chdir(path): This function changes the current working directory to the specified path. The path argument can be either a relative path or an absolute path.\n",
        "\n",
        "The os.getcwd() and os.chdir() functions are commonly used together to navigate and perform file operations within different directories in the file system."
      ],
      "metadata": {
        "id": "qslgXP1DNvuA"
      }
    },
    {
      "cell_type": "markdown",
      "source": [
        "#4. What are the . and .. folders?\n",
        "\n",
        "Answer:\n",
        "\n",
        "\n",
        "In the context of file systems, the . and .. folders represent special directory references.\n",
        "\n",
        ". (dot): The . (dot) represents the current directory. It is used to refer to the current working directory or the directory in which a script or command is currently executing. It is often used as a shorthand reference to the current directory in various file system operations.\n",
        "For example, if you are in the directory /home/user/documents, using . refers to the current directory (/home/user/documents). This can be useful when specifying file paths or performing operations within the current directory.\n",
        "\n",
        ".. (dot dot): The .. (dot dot) represents the parent directory. It is used to refer to the directory immediately above the current directory in the file system hierarchy. It allows you to navigate to the parent directory of the current directory.\n",
        "For example, if you are in the directory /home/user/documents, using .. refers to the parent directory (/home/user). This is helpful when you want to access files or directories in the parent directory or perform operations in the parent directory.\n",
        "\n",
        "The . and .. folders are used to provide relative references within the file system, allowing for navigation and accessing files or directories relative to the current or parent directories."
      ],
      "metadata": {
        "id": "ZQ6uWBhTOSXo"
      }
    },
    {
      "cell_type": "markdown",
      "source": [
        "#5. In C:\\bacon\\eggs\\spam.txt, which part is the dir name, and which part is the base name?\n",
        "\n",
        "Answer:\n",
        "\n",
        "Directory Name: C:\\bacon\\eggs\n",
        "\n",
        "The directory name represents the path to the directory where the file is located. It includes all the directories leading up to the file.\n",
        "In this case, the directory name is C:\\bacon\\eggs.\n",
        "Base Name: spam.txt\n",
        "\n",
        "The base name represents the actual file name along with its file extension.\n",
        "In this case, the base name is spam.txt.\n",
        "To clarify further, the directory name contains the path leading to the file, while the base name specifically refers to the name of the file itself."
      ],
      "metadata": {
        "id": "WzbOs2V4OsRn"
      }
    },
    {
      "cell_type": "code",
      "source": [],
      "metadata": {
        "id": "xvZvS2g2M5hC"
      },
      "execution_count": null,
      "outputs": []
    },
    {
      "cell_type": "markdown",
      "source": [
        "#6. What are the three “mode” arguments that can be passed to the open() function?\n",
        "\n",
        "Answer:\n",
        "\n",
        "The open() function in Python accepts three commonly used \"mode\" arguments:\n",
        "\n",
        "'r' (Read Mode): This is the default mode when no mode is specified. It is used for reading the contents of a file. If the file does not exist or cannot be opened for reading, an error will occur.\n",
        "\n",
        "'w' (Write Mode): This mode is used for writing data to a file. If the file already exists, its contents will be truncated (deleted) before writing new data. If the file does not exist, a new file will be created. If an error occurs while opening or writing to the file, an exception will be raised.\n",
        "\n",
        "'a' (Append Mode): This mode is used for appending data to an existing file. If the file does not exist, a new file will be created. The data will be added at the end of the file without truncating the existing content. If an error occurs while opening or writing to the file, an exception will be raised."
      ],
      "metadata": {
        "id": "CAuerZ7xO_LE"
      }
    },
    {
      "cell_type": "markdown",
      "source": [
        "#7. What happens if an existing file is opened in write mode?\n",
        "\n",
        "Answer:\n",
        "\n",
        "If an existing file is opened in write mode ('w'), the file will be truncated (emptied) and its contents will be completely overwritten. In other words, any existing data in the file will be lost.\n",
        "\n",
        "Here are the key points to remember when opening an existing file in write mode:\n",
        "\n",
        "If the file exists, its content will be erased.\n",
        "If the file does not exist, a new file with the specified name will be created."
      ],
      "metadata": {
        "id": "ShYEnb9kPU9r"
      }
    },
    {
      "cell_type": "markdown",
      "source": [
        "#8. How do you tell the difference between read() and readlines()?\n",
        "\n",
        "Answer:\n",
        "\n",
        "The read() and readlines() methods are used to read data from a file in Python, but they have different behaviors.\n",
        "\n",
        "Key differences:\n",
        "\n",
        "read() returns a single string with the entire contents of the file, while readlines() returns a list of strings, where each string represents a line of the file.\n",
        "read() reads the entire file or a specified number of characters, while readlines() reads the file line by line.\n",
        "readlines() can be useful when you need to process the file line by line, while read() is useful when you need to read the entire file as a single string."
      ],
      "metadata": {
        "id": "5umOigU8QQTv"
      }
    },
    {
      "cell_type": "markdown",
      "source": [
        "#9. What data structure does a shelf value resemble?\n",
        "\n",
        "Answer:\n",
        "\n",
        "The shelf value in Python resembles a dictionary-like data structure. It is a persistent, dictionary-like object that stores key-value pairs. The shelf module in Python provides a way to store and retrieve Python objects to and from a file."
      ],
      "metadata": {
        "id": "4di_PSJwQrKv"
      }
    },
    {
      "cell_type": "code",
      "source": [
        "     "
      ],
      "metadata": {
        "id": "cU6y_rgSPlk3"
      },
      "execution_count": null,
      "outputs": []
    }
  ]
}