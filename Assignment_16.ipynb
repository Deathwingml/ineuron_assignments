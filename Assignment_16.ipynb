{
  "nbformat": 4,
  "nbformat_minor": 0,
  "metadata": {
    "colab": {
      "provenance": [],
      "authorship_tag": "ABX9TyNqg6i7YUlYbboRAD7fw0Kg",
      "include_colab_link": true
    },
    "kernelspec": {
      "name": "python3",
      "display_name": "Python 3"
    },
    "language_info": {
      "name": "python"
    }
  },
  "cells": [
    {
      "cell_type": "markdown",
      "metadata": {
        "id": "view-in-github",
        "colab_type": "text"
      },
      "source": [
        "<a href=\"https://colab.research.google.com/github/Deathwingml/ineuron_assignments/blob/main/Assignment_16.ipynb\" target=\"_parent\"><img src=\"https://colab.research.google.com/assets/colab-badge.svg\" alt=\"Open In Colab\"/></a>"
      ]
    },
    {
      "cell_type": "code",
      "execution_count": null,
      "metadata": {
        "id": "YgAL7RyauORJ"
      },
      "outputs": [],
      "source": []
    },
    {
      "cell_type": "markdown",
      "source": [
        "#1. Create a list called years_list, starting with the year of your birth, and each year thereafter until the year of your fifth birthday. For example, if you were born in 1980. the list would be years_list = [1980, 1981, 1982, 1983, 1984, 1985].\n"
      ],
      "metadata": {
        "id": "dHgip3VA7ios"
      }
    },
    {
      "cell_type": "code",
      "source": [
        "birth_year = 1995  # Replace with your birth year\n",
        "years_list = [birth_year + i for i in range(6)] #starts with your year of birth and give the next 5 birthdays\n",
        "years_list\n"
      ],
      "metadata": {
        "colab": {
          "base_uri": "https://localhost:8080/"
        },
        "id": "I4OpIsSz71HD",
        "outputId": "af1f5107-1e92-4b13-9cf0-5c9979d4bd1b"
      },
      "execution_count": 3,
      "outputs": [
        {
          "output_type": "execute_result",
          "data": {
            "text/plain": [
              "[1995, 1996, 1997, 1998, 1999, 2000]"
            ]
          },
          "metadata": {},
          "execution_count": 3
        }
      ]
    },
    {
      "cell_type": "markdown",
      "source": [
        "#2. In which year in years_list was your third birthday? Remember, you were 0 years of age for your first year.\n",
        "\n",
        "Answer: If you consider first year as 0 age, the third birthday would be 1998"
      ],
      "metadata": {
        "id": "2lC86ZM-F15K"
      }
    },
    {
      "cell_type": "code",
      "source": [
        "years_list[3]"
      ],
      "metadata": {
        "colab": {
          "base_uri": "https://localhost:8080/"
        },
        "id": "HDW4SY-F731F",
        "outputId": "f9f4b664-480a-467d-943f-3c5060b699eb"
      },
      "execution_count": 5,
      "outputs": [
        {
          "output_type": "execute_result",
          "data": {
            "text/plain": [
              "1998"
            ]
          },
          "metadata": {},
          "execution_count": 5
        }
      ]
    },
    {
      "cell_type": "code",
      "source": [],
      "metadata": {
        "id": "9EW_oQoaF9Dy"
      },
      "execution_count": null,
      "outputs": []
    },
    {
      "cell_type": "markdown",
      "source": [
        "#3.In the years list, which year were you the oldest?\n",
        "\n",
        "Answer: I was oldest in the year 2000"
      ],
      "metadata": {
        "id": "FmigGUs3GOFa"
      }
    },
    {
      "cell_type": "code",
      "source": [
        "years_list[-1]"
      ],
      "metadata": {
        "colab": {
          "base_uri": "https://localhost:8080/"
        },
        "id": "4giEz3SuGRni",
        "outputId": "8511f55e-143c-4ece-9c0d-db806cf18c76"
      },
      "execution_count": 6,
      "outputs": [
        {
          "output_type": "execute_result",
          "data": {
            "text/plain": [
              "2000"
            ]
          },
          "metadata": {},
          "execution_count": 6
        }
      ]
    },
    {
      "cell_type": "code",
      "source": [],
      "metadata": {
        "id": "dORhTMoWGTmX"
      },
      "execution_count": null,
      "outputs": []
    },
    {
      "cell_type": "markdown",
      "source": [
        "#4. Make a list called things with these three strings as elements: &quot;mozzarella&quot;, &quot;cinderella&quot;, &quot;salmonella&quot;.\n"
      ],
      "metadata": {
        "id": "oT0DARQLGd96"
      }
    },
    {
      "cell_type": "code",
      "source": [
        "things = [\"mozzarella\", \"cinderella\", \"salmonella\"]\n",
        "things"
      ],
      "metadata": {
        "colab": {
          "base_uri": "https://localhost:8080/"
        },
        "id": "MgCN5VqHGi1x",
        "outputId": "7083137c-073e-42bb-f650-43ccc778c8d6"
      },
      "execution_count": 7,
      "outputs": [
        {
          "output_type": "execute_result",
          "data": {
            "text/plain": [
              "['mozzarella', 'cinderella', 'salmonella']"
            ]
          },
          "metadata": {},
          "execution_count": 7
        }
      ]
    },
    {
      "cell_type": "code",
      "source": [],
      "metadata": {
        "id": "Gh9O5Da2Gplt"
      },
      "execution_count": null,
      "outputs": []
    },
    {
      "cell_type": "markdown",
      "source": [
        "#5. Capitalize the element in things that refers to a person and then print the list. Did it change the element in the list?\n",
        "\n",
        "Answer: This changed the first letter of the second element from a small letter to capital"
      ],
      "metadata": {
        "id": "lQloOUqNGsa8"
      }
    },
    {
      "cell_type": "code",
      "source": [
        "things[1]=things[1].capitalize()\n",
        "things"
      ],
      "metadata": {
        "colab": {
          "base_uri": "https://localhost:8080/"
        },
        "id": "Q54uWdl4GuGX",
        "outputId": "8c0ffc4e-0ce4-40c2-d1bc-5af0635890c2"
      },
      "execution_count": 8,
      "outputs": [
        {
          "output_type": "execute_result",
          "data": {
            "text/plain": [
              "['mozzarella', 'Cinderella', 'salmonella']"
            ]
          },
          "metadata": {},
          "execution_count": 8
        }
      ]
    },
    {
      "cell_type": "markdown",
      "source": [
        "#6. Make a surprise list with the elements &quot;Groucho,&quot; &quot;Chico,&quot; and &quot;Harpo.&quot;"
      ],
      "metadata": {
        "id": "K0AMU5UfHNgg"
      }
    },
    {
      "cell_type": "code",
      "source": [
        "surprise_list = [\"Groucho\", \"Chico\", \"Harpo\"]\n",
        "surprise_list"
      ],
      "metadata": {
        "colab": {
          "base_uri": "https://localhost:8080/"
        },
        "id": "V_uOcMUVHBMt",
        "outputId": "6bc8f84c-1871-4671-ffe8-d8933fbbf787"
      },
      "execution_count": 10,
      "outputs": [
        {
          "output_type": "execute_result",
          "data": {
            "text/plain": [
              "['Groucho', 'Chico', 'Harpo']"
            ]
          },
          "metadata": {},
          "execution_count": 10
        }
      ]
    },
    {
      "cell_type": "code",
      "source": [],
      "metadata": {
        "id": "9YNHQ0FHHZGg"
      },
      "execution_count": null,
      "outputs": []
    },
    {
      "cell_type": "markdown",
      "source": [
        "#7. Lowercase the last element of the surprise list, reverse it, and then capitalize it."
      ],
      "metadata": {
        "id": "53mCWUbVJqIm"
      }
    },
    {
      "cell_type": "code",
      "source": [
        "surprise_list = [\"Groucho\", \"Chico\", \"Harpo\"]\n",
        "\n",
        "# Lowercase the last element\n",
        "last_element = surprise_list[-1].lower()\n",
        "\n",
        "# Reverse the last element\n",
        "reversed_element = last_element[::-1]\n",
        "\n",
        "# Capitalize the reversed element\n",
        "capitalized_element = reversed_element.capitalize()\n",
        "\n",
        "# Replace the last element in the list with the modified element\n",
        "surprise_list[-1] = capitalized_element\n",
        "\n",
        "print(surprise_list)\n"
      ],
      "metadata": {
        "colab": {
          "base_uri": "https://localhost:8080/"
        },
        "id": "z_CzHLqRJrk3",
        "outputId": "448a5cb7-a1c8-49d0-9d28-3213d5382d81"
      },
      "execution_count": 11,
      "outputs": [
        {
          "output_type": "stream",
          "name": "stdout",
          "text": [
            "['Groucho', 'Chico', 'Oprah']\n"
          ]
        }
      ]
    },
    {
      "cell_type": "code",
      "source": [],
      "metadata": {
        "id": "TTer-2khKBwV"
      },
      "execution_count": null,
      "outputs": []
    },
    {
      "cell_type": "markdown",
      "source": [
        "#8. Make an English-to-French dictionary called e2f and print it. Here are your starter words: dog is chien, cat is chat, and walrus is morse."
      ],
      "metadata": {
        "id": "BMQUf2sANEpj"
      }
    },
    {
      "cell_type": "code",
      "source": [
        "e2f = {'dog':'chien', 'cat':'chat','walrus':'morse'}\n",
        "e2f"
      ],
      "metadata": {
        "colab": {
          "base_uri": "https://localhost:8080/"
        },
        "id": "2pRp9k9yNKTw",
        "outputId": "66ca4a78-3891-4d89-8b2c-e7acef1662ca"
      },
      "execution_count": 13,
      "outputs": [
        {
          "output_type": "execute_result",
          "data": {
            "text/plain": [
              "{'dog': 'chien', 'cat': 'chat', 'walrus': 'morse'}"
            ]
          },
          "metadata": {},
          "execution_count": 13
        }
      ]
    },
    {
      "cell_type": "code",
      "source": [
        "\n"
      ],
      "metadata": {
        "id": "b1kNxUQ_NVDG"
      },
      "execution_count": null,
      "outputs": []
    },
    {
      "cell_type": "markdown",
      "source": [
        "#9. Write the French word for walrus in your three-word dictionary e2f."
      ],
      "metadata": {
        "id": "j-Ui4z21Nodv"
      }
    },
    {
      "cell_type": "code",
      "source": [
        "french_word = e2f['walrus']\n",
        "print(french_word)\n"
      ],
      "metadata": {
        "colab": {
          "base_uri": "https://localhost:8080/"
        },
        "id": "0xbs2qFNNpKT",
        "outputId": "06aa0a23-4a1b-4978-ae62-1329d0db0e0e"
      },
      "execution_count": 14,
      "outputs": [
        {
          "output_type": "stream",
          "name": "stdout",
          "text": [
            "morse\n"
          ]
        }
      ]
    },
    {
      "cell_type": "code",
      "source": [],
      "metadata": {
        "id": "F-9OShdVNsfb"
      },
      "execution_count": null,
      "outputs": []
    },
    {
      "cell_type": "markdown",
      "source": [
        "#10. Make a French-to-English dictionary called f2e from e2f. Use the items method."
      ],
      "metadata": {
        "id": "idOfCm3KN_Mt"
      }
    },
    {
      "cell_type": "code",
      "source": [
        "f2e = {value: key for key, value in e2f.items()}\n",
        "\n",
        "f2e"
      ],
      "metadata": {
        "colab": {
          "base_uri": "https://localhost:8080/"
        },
        "id": "cvnpdioCN__T",
        "outputId": "a67d28a5-cbf8-41b7-9238-9a3e0c54d747"
      },
      "execution_count": 15,
      "outputs": [
        {
          "output_type": "execute_result",
          "data": {
            "text/plain": [
              "{'chien': 'dog', 'chat': 'cat', 'morse': 'walrus'}"
            ]
          },
          "metadata": {},
          "execution_count": 15
        }
      ]
    },
    {
      "cell_type": "code",
      "source": [],
      "metadata": {
        "id": "dHgwIlXaODad"
      },
      "execution_count": null,
      "outputs": []
    },
    {
      "cell_type": "markdown",
      "source": [
        "#11. Print the English version of the French word chien using f2e."
      ],
      "metadata": {
        "id": "RLvOAH3TOKEp"
      }
    },
    {
      "cell_type": "code",
      "source": [
        "english_word = f2e['chien']\n",
        "print(english_word)"
      ],
      "metadata": {
        "colab": {
          "base_uri": "https://localhost:8080/"
        },
        "id": "S33ywqe6OL7O",
        "outputId": "239cd1ca-55bb-4cf0-9318-3eac3787d21a"
      },
      "execution_count": 16,
      "outputs": [
        {
          "output_type": "stream",
          "name": "stdout",
          "text": [
            "dog\n"
          ]
        }
      ]
    },
    {
      "cell_type": "code",
      "source": [],
      "metadata": {
        "id": "5PXHOjBaORe8"
      },
      "execution_count": null,
      "outputs": []
    },
    {
      "cell_type": "markdown",
      "source": [
        "#12. Make and print a set of English words from the keys in e2f."
      ],
      "metadata": {
        "id": "JEaRXdaGOU7T"
      }
    },
    {
      "cell_type": "code",
      "source": [
        "english_words = set(e2f.keys())\n",
        "english_words"
      ],
      "metadata": {
        "colab": {
          "base_uri": "https://localhost:8080/"
        },
        "id": "I283sB5pOZol",
        "outputId": "d6e81b9e-0d56-40cf-bc5d-ea246340b2fc"
      },
      "execution_count": 17,
      "outputs": [
        {
          "output_type": "execute_result",
          "data": {
            "text/plain": [
              "{'cat', 'dog', 'walrus'}"
            ]
          },
          "metadata": {},
          "execution_count": 17
        }
      ]
    },
    {
      "cell_type": "code",
      "source": [],
      "metadata": {
        "id": "UOMNBMI7ObXe"
      },
      "execution_count": null,
      "outputs": []
    },
    {
      "cell_type": "markdown",
      "source": [
        "# 13. Make a multilevel dictionary called life. Use these strings for the topmost keys: &#39;animals&#39;, &#39;plants&#39;,\n",
        "and &#39;other&#39;. Make the &#39;animals&#39; key refer to another dictionary with the keys &#39;cats&#39;, &#39;octopi&#39;, and\n",
        "&#39;emus&#39;. Make the &#39;cats&#39; key refer to a list of strings with the values &#39;Henri&#39;, &#39;Grumpy&#39;, and &#39;Lucy&#39;.\n",
        "Make all the other keys refer to empty dictionaries."
      ],
      "metadata": {
        "id": "Dcl5HDZ4OhHT"
      }
    },
    {
      "cell_type": "code",
      "source": [
        "life = {\n",
        "    'animals': {\n",
        "        'cats': ['Henri', 'Grumpy', 'Lucy'],\n",
        "        'octopi': {},\n",
        "        'emus': {}\n",
        "    },\n",
        "    'plants': {},\n",
        "    'other': {}\n",
        "}\n",
        "\n",
        "#print(life)\n",
        "\n",
        "life\n"
      ],
      "metadata": {
        "colab": {
          "base_uri": "https://localhost:8080/"
        },
        "id": "_9GoQ1W1Ojxm",
        "outputId": "4cb6fe9f-a7c9-40be-ae83-4fb38ed2bbce"
      },
      "execution_count": 19,
      "outputs": [
        {
          "output_type": "execute_result",
          "data": {
            "text/plain": [
              "{'animals': {'cats': ['Henri', 'Grumpy', 'Lucy'], 'octopi': {}, 'emus': {}},\n",
              " 'plants': {},\n",
              " 'other': {}}"
            ]
          },
          "metadata": {},
          "execution_count": 19
        }
      ]
    },
    {
      "cell_type": "code",
      "source": [],
      "metadata": {
        "id": "1TzY13HrO0Ki"
      },
      "execution_count": null,
      "outputs": []
    },
    {
      "cell_type": "markdown",
      "source": [
        "#14. Print the top-level keys of life."
      ],
      "metadata": {
        "id": "9nqYXXnoO6Wa"
      }
    },
    {
      "cell_type": "code",
      "source": [
        "top_level_keys = life.keys()\n",
        "print(top_level_keys)"
      ],
      "metadata": {
        "colab": {
          "base_uri": "https://localhost:8080/"
        },
        "id": "pHn85IpnO63Q",
        "outputId": "ea53c2a5-dc7e-455f-cc5c-356a7d51ad9a"
      },
      "execution_count": 20,
      "outputs": [
        {
          "output_type": "stream",
          "name": "stdout",
          "text": [
            "dict_keys(['animals', 'plants', 'other'])\n"
          ]
        }
      ]
    },
    {
      "cell_type": "code",
      "source": [],
      "metadata": {
        "id": "vnpO2XJQO_no"
      },
      "execution_count": null,
      "outputs": []
    },
    {
      "cell_type": "markdown",
      "source": [
        "#15. Print the keys for life[&#39;animals&#39;]."
      ],
      "metadata": {
        "id": "9bhVw5oJPCrI"
      }
    },
    {
      "cell_type": "code",
      "source": [
        "animal_keys = life['animals'].keys()\n",
        "print(animal_keys)"
      ],
      "metadata": {
        "colab": {
          "base_uri": "https://localhost:8080/"
        },
        "id": "XSUyFtfqPDZL",
        "outputId": "c7dc4411-a6b2-44ad-9434-1d7797f7a69f"
      },
      "execution_count": 21,
      "outputs": [
        {
          "output_type": "stream",
          "name": "stdout",
          "text": [
            "dict_keys(['cats', 'octopi', 'emus'])\n"
          ]
        }
      ]
    },
    {
      "cell_type": "code",
      "source": [],
      "metadata": {
        "id": "vJd8ozZNPJED"
      },
      "execution_count": null,
      "outputs": []
    },
    {
      "cell_type": "markdown",
      "source": [
        "#16. Print the values for life[&#39;animals&#39;][&#39;cats&#39;]"
      ],
      "metadata": {
        "id": "2gzFelydPMQv"
      }
    },
    {
      "cell_type": "code",
      "source": [
        "cat_values = life['animals']['cats']\n",
        "print(cat_values)"
      ],
      "metadata": {
        "colab": {
          "base_uri": "https://localhost:8080/"
        },
        "id": "Q7q4EeGZPM5z",
        "outputId": "56fa573d-5261-49c0-8050-12af00da2169"
      },
      "execution_count": 22,
      "outputs": [
        {
          "output_type": "stream",
          "name": "stdout",
          "text": [
            "['Henri', 'Grumpy', 'Lucy']\n"
          ]
        }
      ]
    },
    {
      "cell_type": "code",
      "source": [],
      "metadata": {
        "id": "J_DbFa3HPPhz"
      },
      "execution_count": null,
      "outputs": []
    }
  ]
}