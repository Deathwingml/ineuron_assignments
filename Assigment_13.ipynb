{
  "nbformat": 4,
  "nbformat_minor": 0,
  "metadata": {
    "colab": {
      "provenance": [],
      "authorship_tag": "ABX9TyNpfnkuQQMTw3wPRm7kAldY",
      "include_colab_link": true
    },
    "kernelspec": {
      "name": "python3",
      "display_name": "Python 3"
    },
    "language_info": {
      "name": "python"
    }
  },
  "cells": [
    {
      "cell_type": "markdown",
      "metadata": {
        "id": "view-in-github",
        "colab_type": "text"
      },
      "source": [
        "<a href=\"https://colab.research.google.com/github/Deathwingml/ineuron_assignments/blob/main/Assigment_13.ipynb\" target=\"_parent\"><img src=\"https://colab.research.google.com/assets/colab-badge.svg\" alt=\"Open In Colab\"/></a>"
      ]
    },
    {
      "cell_type": "code",
      "execution_count": null,
      "metadata": {
        "id": "UiifRQqL9olc"
      },
      "outputs": [],
      "source": []
    },
    {
      "cell_type": "markdown",
      "source": [
        "#1. What advantages do Excel spreadsheets have over CSV spreadsheets?\n",
        "\n",
        "1. Formatting and Styling: Excel allows you to apply various formatting and styling options to cells, such as font styles, colors, borders, and cell merging. This can make the data more visually appealing and easier to read compared to plain-text CSV files.\n",
        "\n",
        "2. Formulas and Functions: Excel supports a wide range of formulas and functions that can be used to perform calculations, data analysis, and complex operations on the spreadsheet data. This makes it convenient for performing mathematical operations and data manipulation within the spreadsheet itself.\n",
        "\n",
        "3. Multiple Sheets and Workbooks: Excel allows you to work with multiple sheets within a single workbook and even create separate workbooks. This enables organizing data into different sheets, linking between sheets, and managing large datasets more effectively.\n",
        "\n",
        "4. Charts and Graphs: Excel provides built-in charting and graphing capabilities, allowing you to create visual representations of data with various chart types. This makes it easier to interpret and present data in a graphical format.\n",
        "\n",
        "5. Data Validation and Protection: Excel offers features for data validation, where you can define rules and restrictions on the input values in cells. It also provides options for protecting the spreadsheet with passwords, restricting access to specific cells or ranges, and applying other security measures.\n",
        "\n",
        "6. Automation and Macros: Excel supports automation through macros, which are recorded or written scripts that can perform repetitive tasks or automate complex processes. This allows for streamlining workflows and saving time when working with large datasets or performing repetitive operations."
      ],
      "metadata": {
        "id": "6jH-BWVG9sRS"
      }
    },
    {
      "cell_type": "code",
      "source": [],
      "metadata": {
        "id": "3aOzUTd3-DWx"
      },
      "execution_count": null,
      "outputs": []
    },
    {
      "cell_type": "markdown",
      "source": [
        "#2.What do you pass to csv.reader() and csv.writer() to create reader and writer objects?\n",
        "\n",
        "To create reader and writer objects using the csv.reader() and csv.writer() functions, you need to pass a file object as an argument representing the CSV file you want to read from or write to.\n"
      ],
      "metadata": {
        "id": "-LUwprGZ-F46"
      }
    },
    {
      "cell_type": "code",
      "source": [
        "#Creating a Reader Object:\n",
        "\n",
        "import csv\n",
        "\n",
        "# Open the CSV file in read mode\n",
        "with open('data.csv', 'r') as file:\n",
        "    # Create a reader object\n",
        "    reader = csv.reader(file)\n",
        "    \n",
        "    # Now you can use the reader object to read data from the CSV file\n",
        "    for row in reader:\n",
        "        print(row)\n"
      ],
      "metadata": {
        "id": "U05XkW1H-Rlr"
      },
      "execution_count": null,
      "outputs": []
    },
    {
      "cell_type": "code",
      "source": [
        "#Creating a Writer Object:\n",
        "\n",
        "# Open the CSV file in write mode\n",
        "with open('output.csv', 'w', newline='') as file:\n",
        "    # Create a writer object\n",
        "    writer = csv.writer(file)\n",
        "    \n",
        "    # Now you can use the writer object to write data to the CSV file\n",
        "    writer.writerow(['Name', 'Age', 'City'])\n",
        "    writer.writerow(['Name1', 25, 'city1'])\n",
        "    writer.writerow(['Name2', 30, 'city2'])\n"
      ],
      "metadata": {
        "id": "gnvWtEva-XKy"
      },
      "execution_count": null,
      "outputs": []
    },
    {
      "cell_type": "markdown",
      "source": [
        "#3. What modes do File objects for reader and writer objects need to be opened in?\n",
        "\n",
        "* For reader objects (csv.reader()), the File object needs to be opened in read mode ('r').\n",
        "\n",
        "* For writer objects (csv.writer()), the File object needs to be opened in write mode ('w')."
      ],
      "metadata": {
        "id": "59QTnSuG-nXX"
      }
    },
    {
      "cell_type": "code",
      "source": [],
      "metadata": {
        "id": "3iJ5cCK6-wWK"
      },
      "execution_count": null,
      "outputs": []
    },
    {
      "cell_type": "markdown",
      "source": [
        "#4. What method takes a list argument and writes it to a CSV file?\n",
        "\n",
        "* The writerow() method is used to write a list of values as a row in a CSV file using a writer object."
      ],
      "metadata": {
        "id": "WSIMSXP2-wyX"
      }
    },
    {
      "cell_type": "markdown",
      "source": [
        "#5. What do the keyword arguments delimiter and line terminator do?\n",
        "\n",
        "* The keyword argument delimiter is used to specify the character used to separate fields in a CSV file. By default, the delimiter is a comma (,), but it can be customized to any other character.\n",
        "\n",
        "* The keyword argument lineterminator is used to specify the character sequence that represents the end of a line in a CSV file. By default, the line terminator is a newline (\\n), but it can be customized to any other sequence of characters."
      ],
      "metadata": {
        "id": "EuiHtKKt-37y"
      }
    },
    {
      "cell_type": "markdown",
      "source": [
        "#6. What function takes a string of JSON data and returns a Python data structure?\n",
        "\n",
        "The json.loads() function is used to parse a string of JSON data and convert it into a Python data structure. It takes the JSON string as an argument and returns the corresponding Python data structure, such as a dictionary, list, string, number, boolean, or None."
      ],
      "metadata": {
        "id": "MHUGkEPr_Fc0"
      }
    },
    {
      "cell_type": "markdown",
      "source": [
        "#7. What function takes a Python data structure and returns a string of JSON data?\n",
        "\n",
        "The json.dumps() function is used to serialize a Python data structure into a JSON-formatted string. It takes a Python object as an argument and returns a string that represents the JSON data. The Python object can be a dictionary, list, tuple, string, number, boolean, or None."
      ],
      "metadata": {
        "id": "LJedKIis_NHy"
      }
    },
    {
      "cell_type": "code",
      "source": [],
      "metadata": {
        "id": "-Mh5Iz2h-3Jv"
      },
      "execution_count": null,
      "outputs": []
    }
  ]
}