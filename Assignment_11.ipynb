{
  "nbformat": 4,
  "nbformat_minor": 0,
  "metadata": {
    "colab": {
      "provenance": [],
      "authorship_tag": "ABX9TyOfBvWC9ceWp4sdp3iUimwx",
      "include_colab_link": true
    },
    "kernelspec": {
      "name": "python3",
      "display_name": "Python 3"
    },
    "language_info": {
      "name": "python"
    }
  },
  "cells": [
    {
      "cell_type": "markdown",
      "metadata": {
        "id": "view-in-github",
        "colab_type": "text"
      },
      "source": [
        "<a href=\"https://colab.research.google.com/github/Deathwingml/ineuron_assignments/blob/main/Assignment_11.ipynb\" target=\"_parent\"><img src=\"https://colab.research.google.com/assets/colab-badge.svg\" alt=\"Open In Colab\"/></a>"
      ]
    },
    {
      "cell_type": "code",
      "source": [
        "# 1. Create an assert statement that throws an AssertionError if the variable spam is a negative integer.\n",
        "\n",
        "spam = -5\n",
        "\n",
        "assert spam >= 0, \"Variable spam should not be a negative integer.\"\n"
      ],
      "metadata": {
        "id": "d2T1XhzGoKlA"
      },
      "execution_count": null,
      "outputs": []
    },
    {
      "cell_type": "code",
      "source": [
        "\n",
        "\n",
        "eggs = \"Hello\"\n",
        "bacon = \"hello\"\n",
        "\n",
        "assert eggs.lower() != bacon.lower(), \"Variables eggs and bacon should not have the same value.\"\n"
      ],
      "metadata": {
        "id": "fb3FLuyAoawa"
      },
      "execution_count": null,
      "outputs": []
    },
    {
      "cell_type": "markdown",
      "source": [
        "#2. Write an assert statement that triggers an AssertionError if the variables eggs and bacon contain strings that are the same as each other, even if their cases are different (that is, &#39;hello&#39; and &#39;hello #39; are considered the same, and &#39;goodbye&#39; and &#39;GOODbye&#39; are also considered the same).\n",
        "\n",
        "\n",
        "Answer:\n",
        "\n",
        "```\n",
        "eggs = \"Hello\"\n",
        "bacon = \"hello\"\n",
        "\n",
        "assert eggs.lower() != bacon.lower(), \"Variables eggs and bacon should not have the same value.\"\n",
        "\n",
        "```"
      ],
      "metadata": {
        "id": "jXZWuXQKopjP"
      }
    },
    {
      "cell_type": "code",
      "source": [
        "# 3. Create an assert statement that throws an AssertionError every time.\n",
        "\n",
        "assert False, \"This assert statement will always raise an AssertionError.\"\n"
      ],
      "metadata": {
        "id": "L4IU3CWho0cB"
      },
      "execution_count": null,
      "outputs": []
    },
    {
      "cell_type": "code",
      "source": [
        "#4. What are the two lines that must be present in your software in order to call logging.debug()?\n",
        "\n",
        "import logging\n",
        "\n",
        "logging.basicConfig(level=logging.DEBUG)\n"
      ],
      "metadata": {
        "id": "W0zcC1SSpQ1Z"
      },
      "execution_count": null,
      "outputs": []
    },
    {
      "cell_type": "code",
      "source": [
        "#5. What are the two lines that your program must have in order to have logging.debug() send a logging message to a file named programLog.txt?\n",
        "\n",
        "import logging\n",
        "\n",
        "logging.basicConfig(filename='programLog.txt', level=logging.DEBUG)\n"
      ],
      "metadata": {
        "id": "CTB2MfKxpXAW"
      },
      "execution_count": 2,
      "outputs": []
    },
    {
      "cell_type": "markdown",
      "source": [
        "#6. What are the five levels of logging?\n",
        "\n",
        "The five levels of logging in Python, from lowest to highest severity, are:\n",
        "\n",
        "* DEBUG: Detailed information for debugging purposes.\n",
        "* INFO: General information about the program's execution.\n",
        "* WARNING: Indication of potential issues or undesired behavior.\n",
        "* ERROR: Records errors that caused the program to fail to perform a specific function.\n",
        "* CRITICAL: Represents a critical error that may result in the program's termination.\n",
        "\n",
        "These levels allow you to control the granularity of the log messages based on their severity. You can set the logging level to filter out less severe messages and focus on the ones that are most relevant to your current debugging or monitoring needs. For example, setting the logging level to WARNING will only display warnings, errors, and critical messages, ignoring DEBUG and INFO messages.\n",
        "\n"
      ],
      "metadata": {
        "id": "D9h9UONZq2g2"
      }
    },
    {
      "cell_type": "code",
      "source": [],
      "metadata": {
        "id": "BQtS3UF5rRZy"
      },
      "execution_count": null,
      "outputs": []
    },
    {
      "cell_type": "markdown",
      "source": [
        "#8.Why is using logging messages better than using print() to display the same message?\n",
        "\n",
        "Using logging messages is generally considered better than using print() statements for displaying messages in production code. Here are some reasons why logging messages are preferred:\n",
        "\n",
        "* Flexibility and configurability: Logging provides a flexible way to control the output of messages. You can configure logging to output messages to different destinations (console, file, network, etc.), define different log levels to filter messages, and customize the formatting of log messages. This allows you to adapt the logging behavior based on the deployment environment or specific requirements.\n",
        "\n",
        "* Separation of concerns: Logging separates the concern of producing log messages from the concern of handling those messages. With logging, you can log messages throughout your codebase without tightly coupling them to the specific output or formatting. This makes it easier to maintain and modify the logging behavior without modifying the code that generates the log messages.\n",
        "\n",
        "* Granularity of log levels: Logging provides different log levels (e.g., DEBUG, INFO, WARNING, ERROR, CRITICAL) to indicate the severity of a log message. This allows you to control the level of detail in your logs and easily filter out less important messages during normal execution. With print() statements, you would need to manually add conditionals or remove the statements to control the output, which can be error-prone and time-consuming.\n",
        "\n",
        "* Integration with existing logging infrastructure: Logging is part of the Python Standard Library and integrates well with existing logging infrastructure and frameworks. It allows you to leverage third-party tools for log analysis, aggregation, and monitoring. It also provides compatibility with logging frameworks used in larger systems, making it easier to integrate and consolidate logs from multiple components.\n",
        "\n",
        "* Performance and efficiency: Logging is generally more efficient than print() statements, especially in scenarios where the logging messages are disabled or filtered out based on log levels. With logging, you can avoid the overhead of evaluating and executing unnecessary print() statements, leading to improved performance in production systems."
      ],
      "metadata": {
        "id": "9e8pe81crR0f"
      }
    },
    {
      "cell_type": "markdown",
      "source": [
        "#9. What are the differences between the Step Over, Step In, and Step Out buttons in the debugger?\n",
        "\n",
        "The Step Over, Step In, and Step Out buttons are commonly found in debuggers and are used for program execution control during debugging. Here are the differences between these buttons:\n",
        "\n",
        "* Step Over: The Step Over button allows you to execute the current line of code and move to the next line. If the current line contains a function call, the Step Over button will execute the entire function without stepping into it. It is useful when you want to skip the detailed execution of function calls and focus on the high-level flow of your program.\n",
        "\n",
        "* Step In: The Step In button allows you to step into the next line of code, especially if it is a function call. If the current line contains a function call, the Step In button will move the debugger to the first line of the called function, allowing you to step through the function's execution. It is useful when you want to analyze the internal workings of a specific function or understand how the program behaves within the function.\n",
        "\n",
        "* Step Out: The Step Out button is used to execute the remaining lines of the current function and return to the caller. It is helpful when you have stepped into a function using Step In and want to quickly move out of the function and continue executing the rest of the code in the calling function or the main program."
      ],
      "metadata": {
        "id": "RHqhcmkAtEfO"
      }
    },
    {
      "cell_type": "code",
      "source": [],
      "metadata": {
        "id": "LDD35EspsWkg"
      },
      "execution_count": null,
      "outputs": []
    },
    {
      "cell_type": "markdown",
      "source": [
        "#10.After you click Continue, when will the debugger stop ?\n",
        "\n",
        "After clicking the Continue button in a debugger, the debugger will continue executing the program without interruption until one of the following conditions is met:\n",
        "\n",
        "* Program completion: The debugger will stop when the program has finished executing all its statements and reaches the end.\n",
        "\n",
        "* Breakpoint: If a breakpoint is set at a specific line or condition in the code, the debugger will halt the program's execution when it reaches that breakpoint. This allows you to inspect the program's state and variables at that particular point.\n",
        "\n",
        "* Exception: If an exception occurs during program execution and is not caught by an exception handler, the debugger will stop when the exception is raised. This allows you to examine the stack trace and the state of the program when the exception occurred.\n",
        "\n",
        "* Manual interruption: You can manually interrupt the program's execution by pressing a specific key combination, such as Ctrl+C, depending on the debugger and the environment you are using. This will cause the debugger to stop and return control to you."
      ],
      "metadata": {
        "id": "7XgTtsIbta5t"
      }
    },
    {
      "cell_type": "code",
      "source": [],
      "metadata": {
        "id": "JXina8Q9tphB"
      },
      "execution_count": null,
      "outputs": []
    },
    {
      "cell_type": "markdown",
      "source": [
        "#11. What is the concept of a breakpoint?\n",
        "\n",
        "The concept of a breakpoint is a fundamental aspect of debugging in programming. A breakpoint is a designated point in the code where the execution of the program is paused, allowing the developer to inspect the program's state, variables, and perform various debugging operations.\n",
        "\n",
        "When a breakpoint is set at a specific line or condition in the code, the debugger will halt the program's execution when it reaches that breakpoint. This allows the developer to examine the program's behavior at that particular point, step through the code line by line, and analyze the values of variables to understand how the program is executing.\n",
        "\n",
        "Breakpoints are useful for:\n",
        "\n",
        "* Program analysis: By setting breakpoints at critical points in the code, developers can observe the program's behavior, check if the expected conditions are met, and validate the values of variables to identify any errors or unexpected behavior.\n",
        "\n",
        "* Variable inspection: When the program is paused at a breakpoint, developers can inspect the values of variables, view their current state, and track how they change as the program progresses. This helps in understanding the flow of data and identifying any incorrect or unexpected values.\n",
        "\n",
        "* Debugging complex logic: Breakpoints provide a way to step through the code line by line, allowing developers to trace the execution path and identify any issues or logical errors in the code. By examining variables and their values at each step, developers can pinpoint the cause of problems and make necessary corrections.\n",
        "\n",
        "* Testing and verification: Breakpoints are valuable during testing and verification processes, as they allow developers to halt the program's execution at specific points to verify the correctness of intermediate results, check program state, and ensure that the program behaves as expected."
      ],
      "metadata": {
        "id": "qGXq_D_bturC"
      }
    },
    {
      "cell_type": "code",
      "source": [],
      "metadata": {
        "id": "q-ntQ4JAt4u7"
      },
      "execution_count": null,
      "outputs": []
    }
  ]
}