{
  "nbformat": 4,
  "nbformat_minor": 0,
  "metadata": {
    "colab": {
      "provenance": [],
      "authorship_tag": "ABX9TyN7n/zlvues8Gzv29a0Sb6h",
      "include_colab_link": true
    },
    "kernelspec": {
      "name": "python3",
      "display_name": "Python 3"
    },
    "language_info": {
      "name": "python"
    }
  },
  "cells": [
    {
      "cell_type": "markdown",
      "metadata": {
        "id": "view-in-github",
        "colab_type": "text"
      },
      "source": [
        "<a href=\"https://colab.research.google.com/github/Deathwingml/ineuron_assignments/blob/main/PA_8.ipynb\" target=\"_parent\"><img src=\"https://colab.research.google.com/assets/colab-badge.svg\" alt=\"Open In Colab\"/></a>"
      ]
    },
    {
      "cell_type": "code",
      "execution_count": 1,
      "metadata": {
        "colab": {
          "base_uri": "https://localhost:8080/"
        },
        "id": "5TqDM8YNkidV",
        "outputId": "de323491-2aeb-491b-e1f9-ea6a6c5a81e9"
      },
      "outputs": [
        {
          "output_type": "stream",
          "name": "stdout",
          "text": [
            "[10, 10, 10]\n",
            "[10, 10, 10]\n",
            "[10, 10, 10]\n"
          ]
        }
      ],
      "source": [
        "#1. Write a Python Program to Add Two Matrices?\n",
        "\n",
        "def add_matrices(matrix1, matrix2):\n",
        "    rows = len(matrix1)\n",
        "    columns = len(matrix1[0])\n",
        "\n",
        "    result = [[0 for _ in range(columns)] for _ in range(rows)]\n",
        "\n",
        "    for i in range(rows):\n",
        "        for j in range(columns):\n",
        "            result[i][j] = matrix1[i][j] + matrix2[i][j]\n",
        "\n",
        "    return result\n",
        "\n",
        "# Example usage\n",
        "matrix1 = [[1, 2, 3], [4, 5, 6], [7, 8, 9]]\n",
        "matrix2 = [[9, 8, 7], [6, 5, 4], [3, 2, 1]]\n",
        "\n",
        "result = add_matrices(matrix1, matrix2)\n",
        "\n",
        "# Print the result\n",
        "for row in result:\n",
        "    print(row)\n"
      ]
    },
    {
      "cell_type": "code",
      "source": [
        "#2. Write a Python Program to Multiply Two Matrices?\n",
        "\n",
        "def multiply_matrices(matrix1, matrix2):\n",
        "    rows1 = len(matrix1)\n",
        "    columns1 = len(matrix1[0])\n",
        "    rows2 = len(matrix2)\n",
        "    columns2 = len(matrix2[0])\n",
        "\n",
        "    if columns1 != rows2:\n",
        "        print(\"Error: Number of columns in the first matrix must be equal to the number of rows in the second matrix.\")\n",
        "        return None\n",
        "\n",
        "    result = [[0 for _ in range(columns2)] for _ in range(rows1)]\n",
        "\n",
        "    for i in range(rows1):\n",
        "        for j in range(columns2):\n",
        "            for k in range(columns1):\n",
        "                result[i][j] += matrix1[i][k] * matrix2[k][j]\n",
        "\n",
        "    return result\n",
        "\n",
        "# Example usage\n",
        "matrix1 = [[1, 2, 3], [4, 5, 6]]\n",
        "matrix2 = [[7, 8], [9, 10], [11, 12]]\n",
        "\n",
        "result = multiply_matrices(matrix1, matrix2)\n",
        "\n",
        "# Print the result\n",
        "for row in result:\n",
        "    print(row)\n"
      ],
      "metadata": {
        "colab": {
          "base_uri": "https://localhost:8080/"
        },
        "id": "aWClXmb2k4On",
        "outputId": "cd58a7bf-9342-449c-e11e-f9058ddd5b8f"
      },
      "execution_count": 2,
      "outputs": [
        {
          "output_type": "stream",
          "name": "stdout",
          "text": [
            "[58, 64]\n",
            "[139, 154]\n"
          ]
        }
      ]
    },
    {
      "cell_type": "code",
      "source": [
        "#3. Write a Python Program to Transpose a Matrix?\n",
        "\n",
        "def transpose_matrix(matrix):\n",
        "    rows = len(matrix)\n",
        "    columns = len(matrix[0])\n",
        "\n",
        "    # Create a new matrix with dimensions swapped\n",
        "    transposed_matrix = [[0 for _ in range(rows)] for _ in range(columns)]\n",
        "\n",
        "    # Transpose the elements\n",
        "    for i in range(rows):\n",
        "        for j in range(columns):\n",
        "            transposed_matrix[j][i] = matrix[i][j]\n",
        "\n",
        "    return transposed_matrix\n",
        "\n",
        "# Example usage\n",
        "matrix = [[1, 2, 3], [4, 5, 6], [7, 8, 9]]\n",
        "\n",
        "transposed = transpose_matrix(matrix)\n",
        "\n",
        "# Print the transposed matrix\n",
        "for row in transposed:\n",
        "    print(row)\n"
      ],
      "metadata": {
        "colab": {
          "base_uri": "https://localhost:8080/"
        },
        "id": "4YYT9QXHlZfI",
        "outputId": "757668b3-9751-4f1b-8855-1c00df517463"
      },
      "execution_count": 3,
      "outputs": [
        {
          "output_type": "stream",
          "name": "stdout",
          "text": [
            "[1, 4, 7]\n",
            "[2, 5, 8]\n",
            "[3, 6, 9]\n"
          ]
        }
      ]
    },
    {
      "cell_type": "code",
      "source": [
        "#4. Write a Python Program to Sort Words in Alphabetic Order?\n",
        "\n",
        "def sort_words(words):\n",
        "    sorted_words = sorted(words)\n",
        "    return sorted_words\n",
        "\n",
        "# Example usage\n",
        "words = ['banana', 'apple', 'orange', 'grape']\n",
        "\n",
        "sorted_words = sort_words(words)\n",
        "\n",
        "# Print the sorted words\n",
        "for word in sorted_words:\n",
        "    print(word)\n"
      ],
      "metadata": {
        "colab": {
          "base_uri": "https://localhost:8080/"
        },
        "id": "l-3tbP6pliAa",
        "outputId": "02d55914-70dc-41e5-e036-750f8c7c82c4"
      },
      "execution_count": 4,
      "outputs": [
        {
          "output_type": "stream",
          "name": "stdout",
          "text": [
            "apple\n",
            "banana\n",
            "grape\n",
            "orange\n"
          ]
        }
      ]
    },
    {
      "cell_type": "code",
      "source": [
        "#5. Write a Python Program to Remove Punctuation From a String?\n",
        "\n",
        "import string\n",
        "\n",
        "def remove_punctuation(text):\n",
        "    # Create a translation table using the string module\n",
        "    translator = str.maketrans('', '', string.punctuation)\n",
        "    # Use the translation table to remove punctuation from the text\n",
        "    text_without_punctuation = text.translate(translator)\n",
        "    return text_without_punctuation\n",
        "\n",
        "# Example usage\n",
        "text = \"Hello, iNeuron! How are you?\"\n",
        "\n",
        "text_without_punctuation = remove_punctuation(text)\n",
        "\n",
        "print(text_without_punctuation)\n"
      ],
      "metadata": {
        "colab": {
          "base_uri": "https://localhost:8080/"
        },
        "id": "oJWj9F_0luLW",
        "outputId": "de9fda0a-09f1-4242-9b73-4883694fcbe5"
      },
      "execution_count": 6,
      "outputs": [
        {
          "output_type": "stream",
          "name": "stdout",
          "text": [
            "Hello iNeuron How are you\n"
          ]
        }
      ]
    },
    {
      "cell_type": "code",
      "source": [],
      "metadata": {
        "id": "G0jn9ef2l-x-"
      },
      "execution_count": null,
      "outputs": []
    }
  ]
}