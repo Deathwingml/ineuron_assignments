{
  "nbformat": 4,
  "nbformat_minor": 0,
  "metadata": {
    "colab": {
      "provenance": [],
      "authorship_tag": "ABX9TyMKUTiG8DOBFvKahRJvV5N9",
      "include_colab_link": true
    },
    "kernelspec": {
      "name": "python3",
      "display_name": "Python 3"
    },
    "language_info": {
      "name": "python"
    }
  },
  "cells": [
    {
      "cell_type": "markdown",
      "metadata": {
        "id": "view-in-github",
        "colab_type": "text"
      },
      "source": [
        "<a href=\"https://colab.research.google.com/github/Deathwingml/ineuron_assignments/blob/main/Assignment_12.ipynb\" target=\"_parent\"><img src=\"https://colab.research.google.com/assets/colab-badge.svg\" alt=\"Open In Colab\"/></a>"
      ]
    },
    {
      "cell_type": "code",
      "execution_count": 2,
      "metadata": {
        "colab": {
          "base_uri": "https://localhost:8080/"
        },
        "id": "EbSnnzJkvae_",
        "outputId": "df9656e1-271a-4b16-821e-6afa78e50609"
      },
      "outputs": [
        {
          "output_type": "stream",
          "name": "stdout",
          "text": [
            "Looking in indexes: https://pypi.org/simple, https://us-python.pkg.dev/colab-wheels/public/simple/\n",
            "Collecting PyPDF2\n",
            "  Downloading pypdf2-3.0.1-py3-none-any.whl (232 kB)\n",
            "\u001b[2K     \u001b[90m━━━━━━━━━━━━━━━━━━━━━━━━━━━━━━━━━━━━━━━\u001b[0m \u001b[32m232.6/232.6 kB\u001b[0m \u001b[31m4.9 MB/s\u001b[0m eta \u001b[36m0:00:00\u001b[0m\n",
            "\u001b[?25hInstalling collected packages: PyPDF2\n",
            "Successfully installed PyPDF2-3.0.1\n"
          ]
        }
      ],
      "source": [
        "pip install PyPDF2"
      ]
    },
    {
      "cell_type": "markdown",
      "source": [
        "#1. In what modes should the PdfFileReader() and PdfFileWriter() File objects will be opened?\n",
        "\n",
        "The PdfFileReader() function from the PyPDF2 library and the PdfFileWriter() function require the PDF file to be opened in different modes.\n",
        "\n",
        "PdfFileReader(): The PdfFileReader() function is used for reading an existing PDF file. It requires the file to be opened in \"rb\" mode, which stands for \"read binary\". This mode allows the function to read the PDF file's binary content accurately. The \"rb\" mode ensures that the file is treated as binary data and not text. \n",
        "\n",
        "PdfFileWriter(): The PdfFileWriter() function is used for creating a new PDF file or modifying an existing one. It requires the file to be opened in \"wb\" mode, which stands for \"write binary\". This mode allows the function to write binary content to the file accurately. The \"wb\" mode ensures that the file is treated as binary data and not text."
      ],
      "metadata": {
        "id": "K5WD6glrvh_f"
      }
    },
    {
      "cell_type": "code",
      "source": [],
      "metadata": {
        "id": "SgXzqeowvmt7"
      },
      "execution_count": null,
      "outputs": []
    },
    {
      "cell_type": "markdown",
      "source": [
        "#2. From a PdfFileReader object, how do you get a Page object for page 5?\n",
        "\n",
        "To obtain a Page object for page 5 from a PdfFileReader object, you can use the getPage() method with the page index parameter."
      ],
      "metadata": {
        "id": "-y3JOJ8m4_kp"
      }
    },
    {
      "cell_type": "code",
      "source": [
        "from PyPDF2 import PdfFileReader\n",
        "\n",
        "with open('input.pdf', 'rb') as file:\n",
        "    pdf_reader = PdfFileReader(file)\n",
        "    page_5 = pdf_reader.getPage(4)  # Page index is 0-based, so page 5 corresponds to index 4\n",
        "    # Perform operations using the Page object\n",
        "    # ...\n"
      ],
      "metadata": {
        "id": "DK6TN8hH5D6N"
      },
      "execution_count": null,
      "outputs": []
    },
    {
      "cell_type": "markdown",
      "source": [
        "#3. What PdfFileReader variable stores the number of pages in the PDF document?\n",
        "\n",
        "The PdfFileReader class from the PyPDF2 library has a variable called numPages that stores the number of pages in the PDF document."
      ],
      "metadata": {
        "id": "e7L3EPEJ5LaT"
      }
    },
    {
      "cell_type": "code",
      "source": [
        "from PyPDF2 import PdfFileReader\n",
        "\n",
        "with open('input.pdf', 'rb') as file:\n",
        "    pdf_reader = PdfFileReader(file)\n",
        "    num_pages = pdf_reader.numPages\n",
        "    print(\"Number of pages:\", num_pages)\n"
      ],
      "metadata": {
        "id": "p7-9es6w5Vwa"
      },
      "execution_count": null,
      "outputs": []
    },
    {
      "cell_type": "markdown",
      "source": [
        "#4. If a PdfFileReader object’s PDF is encrypted with the password swordfish, what must you do before you can obtain Page objects from it?\n",
        "\n",
        "If a PdfFileReader object's PDF is encrypted with the password \"swordfish,\" you need to decrypt the PDF by calling the decrypt() method with the password as the argument before you can obtain Page objects from it."
      ],
      "metadata": {
        "id": "rw4tMj6W5Xmz"
      }
    },
    {
      "cell_type": "code",
      "source": [
        "from PyPDF2 import PdfFileReader\n",
        "\n",
        "with open('encrypted.pdf', 'rb') as file:\n",
        "    pdf_reader = PdfFileReader(file)\n",
        "    \n",
        "    if pdf_reader.isEncrypted:\n",
        "        pdf_reader.decrypt('swordfish')\n",
        "    \n",
        "    num_pages = pdf_reader.numPages\n",
        "    print(\"Number of pages:\", num_pages)\n",
        "    # Perform operations with Page objects\n",
        "    # ...\n"
      ],
      "metadata": {
        "id": "kQZzMZ_R5xJg"
      },
      "execution_count": null,
      "outputs": []
    },
    {
      "cell_type": "markdown",
      "source": [
        "#5. What methods do you use to rotate a page?\n",
        "\n",
        "To rotate a page in a PDF using the PyPDF2 library, you can use the rotateClockwise() and rotateCounterClockwise() methods of the Page object."
      ],
      "metadata": {
        "id": "10llHsJP54pG"
      }
    },
    {
      "cell_type": "code",
      "source": [
        "from PyPDF2 import PdfFileReader, PdfFileWriter\n",
        "\n",
        "with open('input.pdf', 'rb') as file:\n",
        "    pdf_reader = PdfFileReader(file)\n",
        "    page = pdf_reader.getPage(0)  # Get the first page (index 0)\n",
        "    page.rotateClockwise(90)  # Rotate the page clockwise by 90 degrees\n",
        "    \n",
        "    # Create a new PDF file and add the rotated page to it\n",
        "    pdf_writer = PdfFileWriter()\n",
        "    pdf_writer.addPage(page)\n",
        "    \n",
        "    # Save the modified PDF to a new file\n",
        "    with open('output.pdf', 'wb') as output_file:\n",
        "        pdf_writer.write(output_file)\n"
      ],
      "metadata": {
        "id": "LfPHTjb85-iK"
      },
      "execution_count": null,
      "outputs": []
    },
    {
      "cell_type": "markdown",
      "source": [
        "#6. What is the difference between a Run object and a Paragraph object?\n",
        "\n",
        "In the context of working with the python-docx library for manipulating Word documents, a Paragraph object represents a paragraph of text within the document, while a Run object represents a contiguous run of text within a paragraph that has the same formatting.\n",
        "\n",
        "Here are the key differences between Paragraph and Run objects:\n",
        "\n",
        "Paragraph Object: A Paragraph object represents a complete paragraph of text. It contains one or more Run objects and may include other elements such as styling, formatting, indentation, and alignment. A paragraph typically represents a logical unit of text, such as a single line or a block of text separated by line breaks.\n",
        "\n",
        "Run Object: A Run object represents a contiguous run of text within a paragraph. It is a sequence of characters with the same formatting properties, such as font style, font size, boldness, or italicization. A paragraph can contain multiple runs when there are changes in formatting within the text, such as different font styles or sizes."
      ],
      "metadata": {
        "id": "tRjinyYM6gs3"
      }
    },
    {
      "cell_type": "code",
      "source": [],
      "metadata": {
        "id": "ZRmaW5Au6xTt"
      },
      "execution_count": null,
      "outputs": []
    },
    {
      "cell_type": "markdown",
      "source": [
        "##7. How do you obtain a list of Paragraph objects for a Document object that’s stored in a variable named doc?\n",
        "\n",
        "To obtain a list of Paragraph objects for a Document object stored in a variable named doc, you can use the paragraphs property of the Document object."
      ],
      "metadata": {
        "id": "Pb882XfN63yQ"
      }
    },
    {
      "cell_type": "code",
      "source": [
        "from docx import Document\n",
        "\n",
        "# Open the document\n",
        "doc = Document(\"example.docx\")\n",
        "\n",
        "# Get a list of Paragraph objects\n",
        "paragraphs = doc.paragraphs\n",
        "\n",
        "# Iterate over the paragraphs\n",
        "for paragraph in paragraphs:\n",
        "    print(paragraph.text)\n",
        "\n",
        "# Close the document\n",
        "doc.close()\n"
      ],
      "metadata": {
        "id": "kgSFYCKy7Dy5"
      },
      "execution_count": null,
      "outputs": []
    },
    {
      "cell_type": "markdown",
      "source": [
        "#8. What type of object has bold, underline, italic, strike, and outline variables?\n",
        "\n",
        "The Font object in the python-docx library has the following variables: bold, underline, italic, strike, and outline. These variables represent the formatting properties of the font in a Run object within a Paragraph object.\n",
        "\n",
        "To access and modify these formatting properties, you can use the font property of a Run object"
      ],
      "metadata": {
        "id": "LzRNmuRb7amH"
      }
    },
    {
      "cell_type": "code",
      "source": [],
      "metadata": {
        "id": "NUQIHQrn7jaV"
      },
      "execution_count": null,
      "outputs": []
    },
    {
      "cell_type": "markdown",
      "source": [
        "#9. What is the difference between False, True, and None for the bold variable?\n",
        "\n",
        "In the context of the Font object in the python-docx library, the bold variable can have three possible values: False, True, and None. Here's what each value represents:\n",
        "\n",
        "False: When bold is set to False, it means that the font should not be displayed in bold. This is the default value if the bold property is not explicitly set or modified.\n",
        "\n",
        "True: Setting bold to True means that the font should be displayed in bold. When bold is set to True, the text associated with the Run object will be rendered in bold in the resulting document.\n",
        "\n",
        "None: If bold is set to None, it means that the bold formatting should be inherited from the underlying style. This allows the font to inherit the bold property from a paragraph style or a document style, for example."
      ],
      "metadata": {
        "id": "B6v2d9p07l6y"
      }
    },
    {
      "cell_type": "code",
      "source": [],
      "metadata": {
        "id": "YIVfCFX475GV"
      },
      "execution_count": null,
      "outputs": []
    },
    {
      "cell_type": "markdown",
      "source": [
        "#10. How do you create a Document object for a new Word document?\n",
        "\n",
        "To create a Document object for a new Word document using the python-docx library, you can simply call the Document() constructor without any arguments."
      ],
      "metadata": {
        "id": "ozGrRNpI78E9"
      }
    },
    {
      "cell_type": "code",
      "source": [
        "from docx import Document\n",
        "\n",
        "# Create a new document\n",
        "doc = Document()\n",
        "\n",
        "# Add content to the document\n",
        "doc.add_paragraph(\"This is the first paragraph.\")\n",
        "doc.add_paragraph(\"This is the second paragraph.\")\n",
        "\n",
        "# Save the document\n",
        "doc.save(\"new_document.docx\")\n",
        "\n",
        "# Close the document\n",
        "doc.close()\n"
      ],
      "metadata": {
        "id": "jDnzgIeg8ApL"
      },
      "execution_count": null,
      "outputs": []
    },
    {
      "cell_type": "markdown",
      "source": [
        "#11. How do you add a paragraph with the text &#39;Hello, there!&#39; to a Document object stored in a variable named doc?\n",
        "\n",
        "\n",
        "To add a paragraph with the text 'Hello, there!' to a Document object stored in a variable named doc using the python-docx library, you can use the add_paragraph() method. "
      ],
      "metadata": {
        "id": "RpeuXOC28BRm"
      }
    },
    {
      "cell_type": "code",
      "source": [
        "from docx import Document\n",
        "\n",
        "# Create a new document\n",
        "doc = Document()\n",
        "\n",
        "# Add a paragraph to the document\n",
        "doc.add_paragraph('Hello, there!')\n",
        "\n",
        "# Save the document\n",
        "doc.save('my_document.docx')\n",
        "\n",
        "# Close the document\n",
        "doc.close()\n"
      ],
      "metadata": {
        "id": "zxvB_eRj8N83"
      },
      "execution_count": null,
      "outputs": []
    },
    {
      "cell_type": "markdown",
      "source": [
        "#12. What integers represent the levels of headings available in Word documents?\n",
        "\n",
        "In Word documents, the integer values representing the levels of headings are as follows:\n",
        "\n",
        "Level 1 Heading: 0\n",
        "Level 2 Heading: 1\n",
        "Level 3 Heading: 2\n",
        "Level 4 Heading: 3\n",
        "Level 5 Heading: 4\n",
        "Level 6 Heading: 5\n",
        "The heading levels start from 0, with Level 1 being the highest level and Level 6 being the lowest level. These heading levels can be applied to paragraphs in a Word document using the appropriate methods provided by the python-docx library."
      ],
      "metadata": {
        "id": "laU7lJ818PSu"
      }
    },
    {
      "cell_type": "code",
      "source": [],
      "metadata": {
        "id": "kFLWJ5yQ8W4n"
      },
      "execution_count": null,
      "outputs": []
    }
  ]
}