{
  "nbformat": 4,
  "nbformat_minor": 0,
  "metadata": {
    "colab": {
      "provenance": [],
      "authorship_tag": "ABX9TyMvau1ibxPt0uW0xc2fTClK",
      "include_colab_link": true
    },
    "kernelspec": {
      "name": "python3",
      "display_name": "Python 3"
    },
    "language_info": {
      "name": "python"
    }
  },
  "cells": [
    {
      "cell_type": "markdown",
      "metadata": {
        "id": "view-in-github",
        "colab_type": "text"
      },
      "source": [
        "<a href=\"https://colab.research.google.com/github/Deathwingml/ineuron_assignments/blob/main/Assignment_6.ipynb\" target=\"_parent\"><img src=\"https://colab.research.google.com/assets/colab-badge.svg\" alt=\"Open In Colab\"/></a>"
      ]
    },
    {
      "cell_type": "markdown",
      "source": [
        "# 1. What are escape characters, and how do you use them?\n",
        "\n",
        "**Answer:** \n",
        "* Escape characters in python are special charters that are used for representing non-printable characters in a string. \n",
        "* These escape characters indicates to the interpreter that the following charters are special and needs to be interpreted in a special way. \n",
        "* Some of the most common special characters are:\n",
        "```\n",
        "\\n : Newline\n",
        "\\t : tab\n",
        "\\r : Chrrage return\n",
        "```\n",
        "\n",
        "* To use an escape chracter, you'd need to use a backslash followed by the character\n",
        "\n",
        "* Example: \n",
        "```\n",
        "my_string = \"Hello\\nWorld!\"\n",
        "print(my_string)\n",
        "```\n",
        "\n",
        "* List of escape chracters: https://www.w3schools.com/python/gloss_python_escape_characters.asp"
      ],
      "metadata": {
        "id": "FGow_VHAwaFC"
      }
    },
    {
      "cell_type": "code",
      "source": [],
      "metadata": {
        "id": "aSFsG9OywPQi"
      },
      "execution_count": null,
      "outputs": []
    },
    {
      "cell_type": "markdown",
      "source": [
        "# 2. What do the escape characters n and t stand for?\n",
        "**Answer**\n",
        "\n",
        "* The escape character \\n is used to represent a newline character.\n",
        "* The escape character \\t is used to represent a tab character."
      ],
      "metadata": {
        "id": "G9dvlEI8yQXU"
      }
    },
    {
      "cell_type": "markdown",
      "source": [
        "# 3. What is the way to include backslash characters in a string?\n",
        "\n",
        "**Answer**\n",
        "\n",
        "* To include a single backslash character in a string, you would use \\\\.\n",
        "* Example:\n",
        "```\n",
        "print(\"Including a single backslash \\\\ in the string\")\n",
        "```"
      ],
      "metadata": {
        "id": "Z0-p8f3vymHv"
      }
    },
    {
      "cell_type": "code",
      "source": [],
      "metadata": {
        "id": "9vpxQUB2y5Vo"
      },
      "execution_count": null,
      "outputs": []
    },
    {
      "cell_type": "markdown",
      "source": [
        "# 4. The string Howl's Moving Castle\" is a correct value. Why isn't the single quote character in the word Howl's not escaped a problem?\n",
        "\n",
        "**Answer**\n",
        "\n",
        "* The string \"Howl's Moving Castle\" did not escape a problem because the entire string is enclosed in double quotes.\n",
        "* In python a string can be represented using single quotes or double quotes and the quotes at the begining and the end of the string should match.\n",
        "* So if you want to include a single quote character within a string that is enclosed in double quotes, you don't need to escape the single quote character.\n",
        "* Another valid way for this string is\n",
        "```\n",
        "my_str = 'Howl\\'s Moving Castle'\n",
        "print(my_str)\n",
        "```"
      ],
      "metadata": {
        "id": "U8B7Xfu50FlN"
      }
    },
    {
      "cell_type": "code",
      "source": [],
      "metadata": {
        "id": "NBE69D8v0uUt"
      },
      "execution_count": null,
      "outputs": []
    },
    {
      "cell_type": "markdown",
      "source": [
        "# 5. How do you write a string of newlines if you don't want to use the n character?\n",
        "\n",
        "**Answer**\n",
        "\n",
        "* You can use triple quotes to write a string of newlines without using the n character\n",
        "* Example:\n",
        "```\n",
        "my_str = \"\"\" \n",
        "This \n",
        "is\n",
        "a\n",
        "multi-line\n",
        "string\n",
        "\"\"\"\n",
        "print(my_str)\n",
        "\n",
        "```\n",
        "\n",
        "* You can use single quotes instead of double quotes as shown above"
      ],
      "metadata": {
        "id": "_eo5j1261yv3"
      }
    },
    {
      "cell_type": "code",
      "source": [],
      "metadata": {
        "id": "lqZ_d0qj2fMS"
      },
      "execution_count": null,
      "outputs": []
    },
    {
      "cell_type": "markdown",
      "source": [
        "# 6. What are the values of the given expressions?\n",
        "&#39;Hello, world!&#39;[1]\n",
        "\n",
        "&#39;Hello, world!&#39;[0:5]\n",
        "\n",
        "&#39;Hello, world!&#39;[:5]\n",
        "\n",
        "&#39;Hello, world!&#39;[3:]"
      ],
      "metadata": {
        "id": "WuCVcv4_22Xv"
      }
    },
    {
      "cell_type": "code",
      "source": [
        "# Answer\n",
        "\n",
        "a = 'Hello, world!'[1]\n",
        "b = 'Hello, world!'[0:5]\n",
        "c = 'Hello, world!'[:5]\n",
        "d = 'Hello, world!'[3:]\n",
        "\n",
        "print(f\" a = {a} \\n b = {b} \\n c = {c} \\n d = {d}\")"
      ],
      "metadata": {
        "colab": {
          "base_uri": "https://localhost:8080/"
        },
        "id": "ZvMJ1CoW249Q",
        "outputId": "d083f79e-a403-4988-c093-7531a1d80a33"
      },
      "execution_count": 32,
      "outputs": [
        {
          "output_type": "stream",
          "name": "stdout",
          "text": [
            " a = e \n",
            " b = Hello \n",
            " c = Hello \n",
            " d = lo, world!\n"
          ]
        }
      ]
    },
    {
      "cell_type": "markdown",
      "source": [
        "# 7. What are the values of the following expressions?\n",
        "&#39;Hello&#39;.upper()\n",
        "\n",
        "&#39;Hello&#39;.upper().isupper()\n",
        "\n",
        "&#39;Hello&#39;.upper().lower()"
      ],
      "metadata": {
        "id": "MbX2D5t53w7R"
      }
    },
    {
      "cell_type": "code",
      "source": [
        "#Answer:\n",
        "\n",
        "a = 'Hello'.upper()\n",
        "b = 'Hello'.upper().isupper()\n",
        "c = 'Hello'.upper().lower()\n",
        "\n",
        "\n",
        "print(f\" a = {a} \\n b = {b} \\n c = {c}\")"
      ],
      "metadata": {
        "colab": {
          "base_uri": "https://localhost:8080/"
        },
        "id": "yiUpS_Rj3Mxm",
        "outputId": "ec61dbc4-cd42-4cb9-a5ad-cd9c783331a2"
      },
      "execution_count": 33,
      "outputs": [
        {
          "output_type": "stream",
          "name": "stdout",
          "text": [
            " a = HELLO \n",
            " b = True \n",
            " c = hello\n"
          ]
        }
      ]
    },
    {
      "cell_type": "code",
      "source": [],
      "metadata": {
        "id": "CcS1Ij_y3-BI"
      },
      "execution_count": null,
      "outputs": []
    },
    {
      "cell_type": "markdown",
      "source": [
        "# 8. What are the values of the following expressions?\n",
        "&#39;Remember, remember, the fifth of July.&#39;.split()\n",
        "\n",
        "&#39;-&#39;.join(&#39;There can only one.&#39;.split())\n"
      ],
      "metadata": {
        "id": "c71WEPYQ4OsC"
      }
    },
    {
      "cell_type": "code",
      "source": [
        "# Answer\n",
        "\n",
        "a = 'Remember, remember, the fifth of July.'.split()\n",
        "b = '-'.join('There can only one.'.split())\n",
        "\n",
        "print(f\" a = {a} \\n b = {b}\")"
      ],
      "metadata": {
        "colab": {
          "base_uri": "https://localhost:8080/"
        },
        "id": "W_AOkh9R4kTZ",
        "outputId": "ff5f4e24-e33a-4f3b-c497-dc0e72746424"
      },
      "execution_count": 34,
      "outputs": [
        {
          "output_type": "stream",
          "name": "stdout",
          "text": [
            " a = ['Remember,', 'remember,', 'the', 'fifth', 'of', 'July.'] \n",
            " b = There-can-only-one.\n"
          ]
        }
      ]
    },
    {
      "cell_type": "code",
      "source": [],
      "metadata": {
        "id": "iBf-H-JQ4sCP"
      },
      "execution_count": null,
      "outputs": []
    },
    {
      "cell_type": "markdown",
      "source": [
        "# 9. What are the methods for right-justifying, left-justifying, and centering a string?\n",
        "\n",
        "**Answer**\n",
        "\n",
        "* ljust(): This method left-justifies a string by adding spaces to the right of the string until it reaches the specified width. Here's an example:\n",
        "```\n",
        "my_string = \"Hello\"\n",
        "justified_string = my_string.ljust(10)\n",
        "print(justified_string)\n",
        "```\n",
        "\n",
        "* rjust(): This method right-justifies a string by adding spaces to the left of the string until it reaches the specified width. Here's an example:\n",
        "```\n",
        "my_string = \"Hello\"\n",
        "justified_string = my_string.rjust(10)\n",
        "print(justified_string)\n",
        "```\n",
        "\n",
        "* center(): This method centers a string by adding spaces to both the left and right of the string until it reaches the specified width. Here's an example:\n",
        "```\n",
        "my_string = \"Hello\"\n",
        "justified_string = my_string.center(10)\n",
        "print(justified_string)\n",
        "```\n",
        "\n",
        "* ** Each of these methods takes a single argument, which is the width of the resulting string after justification or centering. You can optionally provide a second argument, which is the character to use for filling instead of a space character. For example:*\n",
        "```\n",
        "my_string = \"Hello\"\n",
        "justified_string = my_string.center(10, '-')\n",
        "print(justified_string)\n",
        "```\n",
        " "
      ],
      "metadata": {
        "id": "PO3p0NGf4y-a"
      }
    },
    {
      "cell_type": "code",
      "source": [],
      "metadata": {
        "id": "DiCGEIhn520E"
      },
      "execution_count": null,
      "outputs": []
    },
    {
      "cell_type": "markdown",
      "source": [
        "# 10. What is the best way to remove whitespace characters from the start or end?\n",
        "\n",
        "**Answer**\n",
        "\n",
        "* You can use lstrip(), rstrip(), or strip() methods to remove spaces from a string\n",
        "* Note that strip(), lstrip(), and rstrip() do not modify the original string; they return a new string with the whitespace removed. If you want to modify the original string, you can assign the result back to the original variable:\n",
        "```\n",
        "my_string = \"  hello world  \\n\"\n",
        "my_string = my_string.strip()\n",
        "print(my_string)\n",
        "\n",
        "```"
      ],
      "metadata": {
        "id": "nky0haC2577n"
      }
    },
    {
      "cell_type": "code",
      "source": [],
      "metadata": {
        "id": "Dx6o-Y0Z6aJm"
      },
      "execution_count": null,
      "outputs": []
    }
  ]
}