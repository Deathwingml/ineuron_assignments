{
  "nbformat": 4,
  "nbformat_minor": 0,
  "metadata": {
    "colab": {
      "provenance": [],
      "authorship_tag": "ABX9TyOfvuUv8UkL2U0d71Jdn/X5",
      "include_colab_link": true
    },
    "kernelspec": {
      "name": "python3",
      "display_name": "Python 3"
    },
    "language_info": {
      "name": "python"
    }
  },
  "cells": [
    {
      "cell_type": "markdown",
      "metadata": {
        "id": "view-in-github",
        "colab_type": "text"
      },
      "source": [
        "<a href=\"https://colab.research.google.com/github/Deathwingml/ineuron_assignments/blob/main/Assignment_14.ipynb\" target=\"_parent\"><img src=\"https://colab.research.google.com/assets/colab-badge.svg\" alt=\"Open In Colab\"/></a>"
      ]
    },
    {
      "cell_type": "code",
      "source": [
        "from google.colab import drive\n",
        "\n",
        "# Mount Google Drive to load the image\n",
        "drive.mount('/content/drive')\n"
      ],
      "metadata": {
        "colab": {
          "base_uri": "https://localhost:8080/"
        },
        "id": "Q_WsMh56AZKu",
        "outputId": "382590b2-1427-4ed3-dfbd-5c6622bb4ee3"
      },
      "execution_count": 26,
      "outputs": [
        {
          "output_type": "stream",
          "name": "stdout",
          "text": [
            "Drive already mounted at /content/drive; to attempt to forcibly remount, call drive.mount(\"/content/drive\", force_remount=True).\n"
          ]
        }
      ]
    },
    {
      "cell_type": "markdown",
      "source": [
        "#1. What does RGBA stand for?\n",
        "\n",
        "RGBA stands for Red Green Blue Alpha. It is a color model that represents colors using combinations of red, green, and blue channels, along with an alpha channel for transparency. The values of each channel range from 0 to 255, where 0 represents no intensity and 255 represents maximum intensity. The alpha channel determines the transparency or opacity of the color, with 0 being fully transparent and 255 being fully opaque."
      ],
      "metadata": {
        "id": "XZI8zJ4o_p4o"
      }
    },
    {
      "cell_type": "code",
      "source": [],
      "metadata": {
        "id": "bhyQ3B7y_xJ9"
      },
      "execution_count": null,
      "outputs": []
    },
    {
      "cell_type": "markdown",
      "source": [
        "#2. From the Pillow module, how do you get the RGBA value of any images?\n",
        "\n",
        "You can use the getpixel() method"
      ],
      "metadata": {
        "id": "MPjQObcR_xeu"
      }
    },
    {
      "cell_type": "code",
      "source": [
        "from PIL import Image\n",
        "\n",
        "# Open the image\n",
        "image = Image.open(\"/content/drive/MyDrive/Image.jpg\")\n",
        "\n",
        "# Get the width and height of the image\n",
        "width, height = image.size\n",
        "\n",
        "# Verify the coordinates are within the image boundaries\n",
        "x = 100\n",
        "y = 200\n",
        "if 0 <= x < width and 0 <= y < height:\n",
        "    rgba = image.getpixel((x, y))\n",
        "    # Access individual channels\n",
        "    red = rgba_value[0]\n",
        "    green = rgba_value[1]\n",
        "    blue = rgba_value[2]\n",
        "    #alpha = rgba_value[3]  -- The image doesn't have an alpha channel\n",
        "    print(red,green,blue)\n",
        "else:\n",
        "    print(\"Coordinates are out of bounds\")\n"
      ],
      "metadata": {
        "colab": {
          "base_uri": "https://localhost:8080/"
        },
        "id": "vuZXU0c__74C",
        "outputId": "61cdc3c4-cc38-44b9-a0da-f7b27a870a45"
      },
      "execution_count": 19,
      "outputs": [
        {
          "output_type": "stream",
          "name": "stdout",
          "text": [
            "0 11 13\n"
          ]
        }
      ]
    },
    {
      "cell_type": "markdown",
      "source": [
        "#3. What is a box tuple, and how does it work?\n",
        "\n",
        "In the context of the Pillow module in Python, a box tuple is a tuple that represents a rectangular region or bounding box within an image. It is typically represented as a tuple of four values (left, upper, right, lower).\n",
        "\n",
        "Here's a breakdown of each value in the box tuple:\n",
        "\n",
        "* left: The x-coordinate of the leftmost pixel in the box.\n",
        "* upper: The y-coordinate of the uppermost pixel in the box.\n",
        "* right: The x-coordinate of the rightmost pixel in the box (not inclusive).\n",
        "* lower: The y-coordinate of the lowermost pixel in the box (not inclusive).\n",
        "\n",
        "\n",
        "\n"
      ],
      "metadata": {
        "id": "zJp6fAkiAcUE"
      }
    },
    {
      "cell_type": "markdown",
      "source": [
        "#4. Use your image and load in notebook then, How can you find out the width and height of an Image object?\n",
        "\n"
      ],
      "metadata": {
        "id": "SpRfNXM9AyjE"
      }
    },
    {
      "cell_type": "code",
      "source": [
        "\n",
        "\n",
        "from PIL import Image\n",
        "\n",
        "# Open the image\n",
        "image = Image.open(\"/content/drive/MyDrive/Image.jpg\")  # Replace \"image.jpg\" with the path to your image file\n",
        "\n",
        "# Get the width and height of the image\n",
        "width, height = image.size\n",
        "\n",
        "# Print the width and height\n",
        "print(\"Width:\", width)\n",
        "print(\"Height:\", height)\n"
      ],
      "metadata": {
        "colab": {
          "base_uri": "https://localhost:8080/"
        },
        "id": "rv_jXKs-CGLX",
        "outputId": "af2b109e-9994-4cea-ee1b-c6ab209f95c0"
      },
      "execution_count": 10,
      "outputs": [
        {
          "output_type": "stream",
          "name": "stdout",
          "text": [
            "Width: 1080\n",
            "Height: 1080\n"
          ]
        }
      ]
    },
    {
      "cell_type": "code",
      "source": [],
      "metadata": {
        "id": "W5z14VhkCeKb"
      },
      "execution_count": null,
      "outputs": []
    },
    {
      "cell_type": "markdown",
      "source": [
        "#5. What method would you call to get Image object for a 100×100 image, excluding the lower-left quarter of it?\n",
        "\n",
        "To get an Image object for a 100x100 image, excluding the lower-left quarter of it, you can use the crop() method from the Pillow module."
      ],
      "metadata": {
        "id": "paJS0WdSFd43"
      }
    },
    {
      "cell_type": "code",
      "source": [
        "from PIL import Image\n",
        "\n",
        "# Open the image\n",
        "image = Image.open(\"/content/drive/MyDrive/Image.jpg\")\n",
        "\n",
        "# Crop the image to exclude the lower-left quarter\n",
        "cropped_image = image.crop((0, 50, 50, 100))\n",
        "\n",
        "# Display the cropped image\n",
        "cropped_image.show()\n"
      ],
      "metadata": {
        "colab": {
          "base_uri": "https://localhost:8080/",
          "height": 67
        },
        "id": "l-vAwbt_FoV2",
        "outputId": "8074d978-b046-4921-b278-52578ab589cc"
      },
      "execution_count": 25,
      "outputs": [
        {
          "output_type": "display_data",
          "data": {
            "text/plain": [
              "<PIL.Image.Image image mode=RGB size=50x50 at 0x7F685EEDF1F0>"
            ],
            "image/png": "[encoded data removed]"
          },
          "metadata": {}
        }
      ]
    },
    {
      "cell_type": "markdown",
      "source": [
        "#6. After making changes to an Image object, how could you save it as an image file?\n",
        "\n",
        "You can use the save() method from the Pillow module."
      ],
      "metadata": {
        "id": "ad_8M7_WGDAO"
      }
    },
    {
      "cell_type": "code",
      "source": [
        "from PIL import Image\n",
        "\n",
        "# Open the image\n",
        "image = Image.open('/content/drive/MyDrive/Image.jpg')\n",
        "\n",
        "# Perform some modifications on the image\n",
        "# ...\n",
        "\n",
        "# Save the modified image as a new file\n",
        "image.save('/content/drive/MyDrive/new_image.jpg')\n"
      ],
      "metadata": {
        "id": "_4_HHWmuFryK"
      },
      "execution_count": 27,
      "outputs": []
    },
    {
      "cell_type": "markdown",
      "source": [
        "#7. What module contains Pillow’s shape-drawing code?\n",
        "\n",
        "\n"
      ],
      "metadata": {
        "id": "f418r7oJgAyz"
      }
    },
    {
      "cell_type": "code",
      "source": [
        "from PIL import Image, ImageDraw\n",
        "\n",
        "# Create a new image\n",
        "image = Image.new('RGB', (500, 500), (255, 255, 255))\n",
        "\n",
        "# Create an ImageDraw object\n",
        "draw = ImageDraw.Draw(image)\n",
        "\n",
        "# Draw a rectangle\n",
        "draw.rectangle([(100, 100), (400, 400)], outline=(0, 0, 0), width=2)\n",
        "\n",
        "# Save the image\n",
        "image.save('/content/drive/MyDrive/new_image.jpg')"
      ],
      "metadata": {
        "id": "GGF5IrD6foUj"
      },
      "execution_count": 28,
      "outputs": []
    },
    {
      "cell_type": "markdown",
      "source": [
        "#8. Image objects do not have drawing methods. What kind of object does? How do you get this kind of object?\n",
        "\n",
        "To perform drawing operations on an image, you need to create an ImageDraw object from the Image object. The ImageDraw object provides various drawing methods to draw shapes, lines, text, and more on the image."
      ],
      "metadata": {
        "id": "MFF-MICqg7py"
      }
    },
    {
      "cell_type": "code",
      "source": [],
      "metadata": {
        "id": "nAg0BjDGgO-2"
      },
      "execution_count": null,
      "outputs": []
    }
  ]
}