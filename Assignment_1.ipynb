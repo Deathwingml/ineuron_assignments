{
  "nbformat": 4,
  "nbformat_minor": 0,
  "metadata": {
    "colab": {
      "name": "Assignment_1.ipynb",
      "provenance": []
    },
    "kernelspec": {
      "name": "python3",
      "display_name": "Python 3"
    },
    "language_info": {
      "name": "python"
    }
  },
  "cells": [
    {
      "cell_type": "markdown",
      "source": [
        "**1. In the below elements which of them are values or an expression? eg:- values can be\n",
        "integer or string and expressions will be mathematical operators.**\n",
        "*\n",
        "hello\n",
        "-87.8\n",
        "-\n",
        "/\n",
        "+\n",
        "6\n",
        "\n",
        "*Answer:*\n",
        "\n",
        "Values: hello, -87.8, 6\n",
        "\n",
        "Expresssions: -,*,/,+"
      ],
      "metadata": {
        "id": "tBRgKTR4rrNW"
      }
    },
    {
      "cell_type": "code",
      "source": [],
      "metadata": {
        "id": "y2FaEozBttvI"
      },
      "execution_count": null,
      "outputs": []
    },
    {
      "cell_type": "markdown",
      "source": [
        "**2. What is the difference between string and variable?**\n",
        "\n",
        "*Answer:*\n",
        "\n",
        "**String**: String (str) is basically a **text** data type which is a set or sequence of 1 or more alphabets, alpha-neumeric characters, special-characters that are iterable using loops\n",
        "\n",
        "**Variable:** Variables are alphabetical symbols used for representing data types, data structers or other type of objects. Variables are used for naming an object in the program. Once a name or variable is assigned to an object, it can then be called using the name."
      ],
      "metadata": {
        "id": "da2oPyQvr7Yi"
      }
    },
    {
      "cell_type": "code",
      "source": [],
      "metadata": {
        "id": "PTIXGdBDrByK"
      },
      "execution_count": null,
      "outputs": []
    },
    {
      "cell_type": "markdown",
      "source": [
        "**3. Describe three different data types.**\n",
        "\n",
        "*Answer*\n",
        "\n",
        "int: Int is a neumeric data type in Python. It is the data type for numbers without decimals. It is not iterable\n",
        "\n",
        "float: Float is another neumeric data type. Numbers with a decimal point are Float data types. It is not iterable\n",
        "\n",
        "bool: Boolean has 2 values only, True or False. The value of True is 1 and False is 0. This is mainly used for verifying conditions"
      ],
      "metadata": {
        "id": "i8VWRbO9t0of"
      }
    },
    {
      "cell_type": "code",
      "source": [],
      "metadata": {
        "id": "u6vaSbrLvxI2"
      },
      "execution_count": null,
      "outputs": []
    },
    {
      "cell_type": "markdown",
      "source": [
        "**4. What is an expression made up of? What do all expressions do?**\n",
        "\n",
        "*Answer*\n",
        "\n",
        "An expression is a combination of operators and operands. An expression is used for producing answers to calculations and some other value. This is done by interpretting the operators and operands as per the order of precedence"
      ],
      "metadata": {
        "id": "bjChQsR5vwPM"
      }
    },
    {
      "cell_type": "code",
      "source": [],
      "metadata": {
        "id": "-XDSsyilw5HG"
      },
      "execution_count": null,
      "outputs": []
    },
    {
      "cell_type": "markdown",
      "source": [
        "**5. This assignment statements, like spam = 10. What is the difference between an\n",
        "expression and a statement?**\n",
        "\n",
        "*Answer*\n",
        "\n",
        "An “expression” is a combination of values and functions that are combined and interpreted by the compiler to create a new value.\n",
        "\n",
        "A \"statement\" is a command that can be executed by python. "
      ],
      "metadata": {
        "id": "lERmyqvew5Td"
      }
    },
    {
      "cell_type": "code",
      "source": [
        "bacon = 22\n",
        "#bacon+1\n",
        "print(bacon)\n",
        "print(bacon+1) # adding 1 to bacon\n",
        "bacon = bacon + 1 # assigning value of bacon to bacon + 1 \n",
        "print(bacon) # printing new bacon\n"
      ],
      "metadata": {
        "colab": {
          "base_uri": "https://localhost:8080/"
        },
        "id": "viFk0BC_xEcK",
        "outputId": "3c6b82be-ac8a-4984-ce68-2af3cd11d5a6"
      },
      "execution_count": 13,
      "outputs": [
        {
          "output_type": "stream",
          "name": "stdout",
          "text": [
            "22\n",
            "23\n",
            "23\n"
          ]
        }
      ]
    },
    {
      "cell_type": "markdown",
      "source": [
        "**After running the following code, what does the variable bacon contain?\n",
        "bacon = 22\n",
        "\n",
        "bacon + 1**\n",
        "\n",
        "*Answer*\n",
        "\n",
        "after executing bacon = 22 and bacon + 1, the variable bacon will contain 22.\n",
        "\n",
        "bacon = bacon + 1, will contain 23\n",
        "\n",
        "```\n",
        "bacon = 22\n",
        "print(bacon)\n",
        "print(bacon+1) # adding 1 to bacon\n",
        "bacon = bacon + 1 # assigning value of bacon to bacon + 1 \n",
        "print(bacon) # printing new bacon\n",
        "```\n",
        "\n"
      ],
      "metadata": {
        "id": "qSs_ikZNxfxc"
      }
    },
    {
      "cell_type": "code",
      "source": [
        "\n"
      ],
      "metadata": {
        "id": "owPOpSQGx-fp"
      },
      "execution_count": 13,
      "outputs": []
    },
    {
      "cell_type": "markdown",
      "source": [
        "**7. What should the values of the following two terms be?\n",
        "&#39;spam&#39; + &#39;spamspam&#39;\n",
        "\n",
        "&#39;spam&#39; * 3**\n",
        "\n",
        "*Answer*\n",
        "\n",
        "\"spam\" + \"spamspam\" =  spamspamspam\n",
        "\n",
        "\"spam\" * 3 = spamspamspam"
      ],
      "metadata": {
        "id": "KtxokGa5zLdg"
      }
    },
    {
      "cell_type": "code",
      "source": [],
      "metadata": {
        "id": "qIyn7ASCyS4J"
      },
      "execution_count": 15,
      "outputs": []
    },
    {
      "cell_type": "markdown",
      "source": [
        "**8. Why is eggs a valid variable name while 100 is invalid?**\n",
        "\n",
        "*Answer*\n",
        "\n",
        "eggs is a string type where as 100 is an integer. Interger cannot be variables."
      ],
      "metadata": {
        "id": "R1aVv8lj2KcU"
      }
    },
    {
      "cell_type": "code",
      "source": [],
      "metadata": {
        "id": "eNCjuN_c16Y-"
      },
      "execution_count": null,
      "outputs": []
    },
    {
      "cell_type": "markdown",
      "source": [
        "**9. What three functions can be used to get the integer, floating-point number, or string\n",
        "version of a value?**\n",
        "\n",
        "*Answer*\n",
        "\n",
        "```\n",
        "integer - int()\n",
        "float - float()\n",
        "string - str()\n",
        "\n",
        "```\n"
      ],
      "metadata": {
        "id": "mp6ToOIp7CTE"
      }
    },
    {
      "cell_type": "code",
      "source": [],
      "metadata": {
        "id": "jAmv-Ky57c-S"
      },
      "execution_count": 20,
      "outputs": []
    },
    {
      "cell_type": "markdown",
      "source": [
        "**10. Why does this expression cause an error? How can you fix it?\n",
        "\"I have eaten\" +99+ \"burritos\"**\n",
        "\n",
        "*Answer*\n",
        "\"I have eaten\" +99+ \"burritos\" - doesn't work because what we are doing here is concatenation. Concatenation would only work for string data type and. Here, 99 is not str type\n",
        "\n",
        "We can fix it by converting \"99\" to str. Example:\n",
        "\n",
        "\"I have eaten\" +str(99)+ \"burritos\"\n",
        "\n",
        "or\n",
        "\n",
        "\"I have eaten\" +\"99\"+ \"burritos\""
      ],
      "metadata": {
        "id": "LMjV6SZY7dbz"
      }
    },
    {
      "cell_type": "code",
      "source": [],
      "metadata": {
        "id": "LYMXlXEU8W0A"
      },
      "execution_count": null,
      "outputs": []
    }
  ]
}