{
  "nbformat": 4,
  "nbformat_minor": 0,
  "metadata": {
    "colab": {
      "provenance": [],
      "authorship_tag": "ABX9TyP25WAXxRggsTUOQkWAiZMS",
      "include_colab_link": true
    },
    "kernelspec": {
      "name": "python3",
      "display_name": "Python 3"
    },
    "language_info": {
      "name": "python"
    }
  },
  "cells": [
    {
      "cell_type": "markdown",
      "metadata": {
        "id": "view-in-github",
        "colab_type": "text"
      },
      "source": [
        "<a href=\"https://colab.research.google.com/github/Deathwingml/ineuron_assignments/blob/main/PA_5.ipynb\" target=\"_parent\"><img src=\"https://colab.research.google.com/assets/colab-badge.svg\" alt=\"Open In Colab\"/></a>"
      ]
    },
    {
      "cell_type": "code",
      "execution_count": 1,
      "metadata": {
        "colab": {
          "base_uri": "https://localhost:8080/"
        },
        "id": "KPr6D9r5VJts",
        "outputId": "2c31077d-3879-4fc1-b5d6-72e73fc3fe18"
      },
      "outputs": [
        {
          "output_type": "stream",
          "name": "stdout",
          "text": [
            "The LCM of 55 and 66 is: 330\n"
          ]
        }
      ],
      "source": [
        "#1. Write a Python Program to Find LCM?\n",
        "\n",
        "def find_gcd(a, b):\n",
        "    while b:\n",
        "        a, b = b, a % b\n",
        "    return a\n",
        "\n",
        "def find_lcm(a, b):\n",
        "    gcd = find_gcd(a, b)\n",
        "    lcm = (a * b) // gcd\n",
        "    return lcm\n",
        "\n",
        "# Take input from the user for the numbers\n",
        "num1 = 55\n",
        "num2 = 66\n",
        "\n",
        "# Find the LCM of the numbers\n",
        "lcm = find_lcm(num1, num2)\n",
        "\n",
        "# Print the LCM\n",
        "print(\"The LCM of\", num1, \"and\", num2, \"is:\", lcm)\n"
      ]
    },
    {
      "cell_type": "code",
      "source": [
        "#2. Write a Python Program to Find HCF?\n",
        "\n",
        "def find_hcf(a, b):\n",
        "    while b:\n",
        "        a, b = b, a % b\n",
        "    return a\n",
        "\n",
        "# Take input from the user for the numbers\n",
        "num1 = 55\n",
        "num2 = 66\n",
        "\n",
        "# Find the HCF of the numbers\n",
        "hcf = find_hcf(num1, num2)\n",
        "\n",
        "# Print the HCF\n",
        "print(\"The HCF of\", num1, \"and\", num2, \"is:\", hcf)\n"
      ],
      "metadata": {
        "colab": {
          "base_uri": "https://localhost:8080/"
        },
        "id": "-tYnT_bYVprO",
        "outputId": "849f3b38-6fce-4780-b009-521b74ce2616"
      },
      "execution_count": 4,
      "outputs": [
        {
          "output_type": "stream",
          "name": "stdout",
          "text": [
            "The HCF of 55 and 66 is: 11\n"
          ]
        }
      ]
    },
    {
      "cell_type": "code",
      "source": [
        "#3. Write a Python Program to Convert Decimal to Binary, Octal and Hexadecimal?\n",
        "\n",
        "decimal = 55\n",
        "\n",
        "binary = bin(decimal)[2:]  # Convert to binary\n",
        "octal = oct(decimal)[2:]  # Convert to octal\n",
        "hexadecimal = hex(decimal)[2:]  # Convert to hexadecimal\n",
        "\n",
        "print(\"Binary:\", binary)\n",
        "print(\"Octal:\", octal)\n",
        "print(\"Hexadecimal:\", hexadecimal)\n"
      ],
      "metadata": {
        "colab": {
          "base_uri": "https://localhost:8080/"
        },
        "id": "TjWyXHpwWHHK",
        "outputId": "1741af46-924c-4584-b67c-ece5f361d242"
      },
      "execution_count": 9,
      "outputs": [
        {
          "output_type": "stream",
          "name": "stdout",
          "text": [
            "Binary: 110111\n",
            "Octal: 67\n",
            "Hexadecimal: 37\n"
          ]
        }
      ]
    },
    {
      "cell_type": "code",
      "source": [
        "#4. Write a Python Program To Find ASCII value of a character?\n",
        "\n",
        "character = \"Y\"\n",
        "\n",
        "ascii_value = ord(character)\n",
        "\n",
        "print(\"ASCII value of\", character, \"is\", ascii_value)\n"
      ],
      "metadata": {
        "colab": {
          "base_uri": "https://localhost:8080/"
        },
        "id": "UxHCRMfWWfZg",
        "outputId": "73d18273-5e13-4b1e-d799-20fda6f775a5"
      },
      "execution_count": 12,
      "outputs": [
        {
          "output_type": "stream",
          "name": "stdout",
          "text": [
            "ASCII value of Y is 89\n"
          ]
        }
      ]
    },
    {
      "cell_type": "code",
      "source": [
        "#5. Write a Python Program to Make a Simple Calculator with 4 basic mathematical operations?\n",
        "\n",
        "def add(x, y):\n",
        "    return x + y\n",
        "\n",
        "def subtract(x, y):\n",
        "    return x - y\n",
        "\n",
        "def multiply(x, y):\n",
        "    return x * y\n",
        "\n",
        "def divide(x, y):\n",
        "    if y != 0:\n",
        "        return x / y\n",
        "    else:\n",
        "        return \"Cannot divide by zero\"\n",
        "\n",
        "print(\"Select operation:\")\n",
        "print(\"1. Addition\")\n",
        "print(\"2. Subtraction\")\n",
        "print(\"3. Multiplication\")\n",
        "print(\"4. Division\")\n",
        "\n",
        "choice = int(input(\"Enter your choice (1-4): \"))\n",
        "\n",
        "num1 = float(input(\"Enter the first number: \"))\n",
        "num2 = float(input(\"Enter the second number: \"))\n",
        "\n",
        "result = 0\n",
        "\n",
        "if choice == 1:\n",
        "    result = add(num1, num2)\n",
        "elif choice == 2:\n",
        "    result = subtract(num1, num2)\n",
        "elif choice == 3:\n",
        "    result = multiply(num1, num2)\n",
        "elif choice == 4:\n",
        "    result = divide(num1, num2)\n",
        "else:\n",
        "    print(\"Invalid choice\")\n",
        "\n",
        "print(\"Result:\", result)\n"
      ],
      "metadata": {
        "colab": {
          "base_uri": "https://localhost:8080/"
        },
        "id": "hmD3AwA8XCMt",
        "outputId": "c45e4156-4882-4dff-9bc3-e995924fd96c"
      },
      "execution_count": 14,
      "outputs": [
        {
          "output_type": "stream",
          "name": "stdout",
          "text": [
            "Select operation:\n",
            "1. Addition\n",
            "2. Subtraction\n",
            "3. Multiplication\n",
            "4. Division\n",
            "Enter your choice (1-4): 3\n",
            "Enter the first number: 55\n",
            "Enter the second number: 66\n",
            "Result: 3630.0\n"
          ]
        }
      ]
    },
    {
      "cell_type": "code",
      "source": [
        "\n"
      ],
      "metadata": {
        "id": "vtWTsCPUXZc_"
      },
      "execution_count": null,
      "outputs": []
    }
  ]
}