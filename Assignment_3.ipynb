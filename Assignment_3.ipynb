{
  "nbformat": 4,
  "nbformat_minor": 0,
  "metadata": {
    "colab": {
      "provenance": []
    },
    "kernelspec": {
      "name": "python3",
      "display_name": "Python 3"
    },
    "language_info": {
      "name": "python"
    }
  },
  "cells": [
    {
      "cell_type": "code",
      "execution_count": null,
      "metadata": {
        "id": "GB0vZZwGtd7z"
      },
      "outputs": [],
      "source": [
        "# 1. Why are functions advantageous to have in your programs?\n",
        "# Answer:\n",
        "\n",
        "\"\"\"\n",
        "By using functions, we can avoid rewriting same logic/code repeatedly in a program. \n",
        "We can call the functions any number of times in a program and from any place in a program. \n",
        "We can track a large python program easily when it is divided into multiple functions. Reusability is the main achievement of a Python function. \"\"\""
      ]
    },
    {
      "cell_type": "code",
      "source": [
        "# 2. When does the code in a function run: when it's specified or when it's called?\n",
        "# Answer: The code in the function runs when it's called. Not when it's specified"
      ],
      "metadata": {
        "id": "6zs-tGtfyUrH"
      },
      "execution_count": null,
      "outputs": []
    },
    {
      "cell_type": "code",
      "source": [
        "# 3. What statement creates a function?\n",
        "# Answer: def function_name():"
      ],
      "metadata": {
        "id": "7_c5na1Z1qQ9"
      },
      "execution_count": 1,
      "outputs": []
    },
    {
      "cell_type": "code",
      "source": [
        "# 4. What is the difference between a function and a function call?\n",
        "# Answer: \n",
        "\"\"\"\n",
        "Fucntion Creation: is bascially creating or defining a fucntion.\n",
        "A function is a block of code that does a particular operation and returns a result. \n",
        "It usually accepts inputs as parameters and returns a result. The parameters are not mandatory.\n",
        "\n",
        "Function Call: A function call is the code used to pass control to a function. The function won't run until it is called. \n",
        "\"\"\""
      ],
      "metadata": {
        "id": "j9zUNb9B166t"
      },
      "execution_count": null,
      "outputs": []
    },
    {
      "cell_type": "code",
      "source": [
        "# 5. How many global scopes are there in a Python program? How many local scopes?\n",
        "# Answer: Global scopes: 1, Local Scopes: as many as needed"
      ],
      "metadata": {
        "id": "6Ddy7O1LKcFQ"
      },
      "execution_count": null,
      "outputs": []
    },
    {
      "cell_type": "code",
      "source": [
        "# What happens to variables in a local scope when the function call returns?\n",
        "# Answer: The local variables are destroyed"
      ],
      "metadata": {
        "id": "Ey0IFzKmNzHv"
      },
      "execution_count": null,
      "outputs": []
    },
    {
      "cell_type": "code",
      "source": [
        "# 7. What is the concept of a return value? Is it possible to have a return value in an expression?\n",
        "# Answer: \n",
        "\"\"\"\n",
        "A function takes arguments (if any), performs some operations, and returns a value (or object). \n",
        "The value that a function returns to the caller is generally known as the function's return value. \n",
        "Yes, it is possible to have a return value in an expression as everything in python is an object.\n",
        "\"\"\""
      ],
      "metadata": {
        "id": "hizT5sJMO3Rg"
      },
      "execution_count": null,
      "outputs": []
    },
    {
      "cell_type": "code",
      "source": [
        "# 8. If a function does not have a return statement, what is the return value of a call to that function?\n",
        "# Answer: Python will implicitly return a default value which will always be None"
      ],
      "metadata": {
        "id": "W0aekLyaQe13"
      },
      "execution_count": null,
      "outputs": []
    },
    {
      "cell_type": "code",
      "source": [
        "# 9. How do you make a function variable refer to the global variable?\n",
        "# Answer: Making a function variable refer to the global variable can bd done by using the keyword \"global\""
      ],
      "metadata": {
        "id": "r9MCe6qiRVjL"
      },
      "execution_count": null,
      "outputs": []
    },
    {
      "cell_type": "code",
      "source": [
        "# 10. What is the data type of None?\n",
        "# Answer: the data type of None is: NoneType"
      ],
      "metadata": {
        "id": "TdiR2yHaSzZ1"
      },
      "execution_count": null,
      "outputs": []
    },
    {
      "cell_type": "code",
      "source": [
        "# 11. What does the sentence import areallyourpetsnamederic do?\n",
        "# Answer: It imports a module named areallyourpetsnamederic for us to use in a program"
      ],
      "metadata": {
        "id": "t9J_MhvSTAH_"
      },
      "execution_count": null,
      "outputs": []
    },
    {
      "cell_type": "code",
      "source": [
        "# 12. If you had a bacon() feature in a spam module, what would you call it after importing spam?\n",
        "# Answer: spam.bacon()"
      ],
      "metadata": {
        "id": "qMHF16K3TX6D"
      },
      "execution_count": null,
      "outputs": []
    },
    {
      "cell_type": "code",
      "source": [
        "# 13. What can you do to save a programme from crashing if it encounters an error?\n",
        "# Answer: We can use Exception handling to ensure a program doesn't crash if it enouters any errors"
      ],
      "metadata": {
        "id": "CJRuXIbiTwOs"
      },
      "execution_count": null,
      "outputs": []
    },
    {
      "cell_type": "code",
      "source": [
        "# 14. What is the purpose of the try clause? What is the purpose of the except clause?\n",
        "# Answer: \n",
        "\"\"\"\n",
        "Try: let's you test a block of code for errors \n",
        "Except: except block let's you handle the errors\n",
        "\"\"\""
      ],
      "metadata": {
        "id": "1kInp8LWZgKm"
      },
      "execution_count": null,
      "outputs": []
    }
  ]
}