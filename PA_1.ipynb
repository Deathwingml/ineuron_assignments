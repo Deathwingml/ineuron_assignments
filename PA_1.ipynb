{
  "nbformat": 4,
  "nbformat_minor": 0,
  "metadata": {
    "colab": {
      "provenance": [],
      "authorship_tag": "ABX9TyNHRZgTReDXXo+o9gzd2+UB",
      "include_colab_link": true
    },
    "kernelspec": {
      "name": "python3",
      "display_name": "Python 3"
    },
    "language_info": {
      "name": "python"
    }
  },
  "cells": [
    {
      "cell_type": "markdown",
      "metadata": {
        "id": "view-in-github",
        "colab_type": "text"
      },
      "source": [
        "<a href=\"https://colab.research.google.com/github/Deathwingml/ineuron_assignments/blob/main/PA_1.ipynb\" target=\"_parent\"><img src=\"https://colab.research.google.com/assets/colab-badge.svg\" alt=\"Open In Colab\"/></a>"
      ]
    },
    {
      "cell_type": "code",
      "execution_count": null,
      "metadata": {
        "id": "EwG0TWXk-Ufp"
      },
      "outputs": [],
      "source": []
    },
    {
      "cell_type": "code",
      "source": [
        "#1. Write a Python program to print 'Hello Python'?\n",
        "print(\"Hello Python\")"
      ],
      "metadata": {
        "colab": {
          "base_uri": "https://localhost:8080/"
        },
        "id": "KXyKGDPU-YR8",
        "outputId": "5bd7a85b-65f8-45ed-b986-4abf460152fa"
      },
      "execution_count": 1,
      "outputs": [
        {
          "output_type": "stream",
          "name": "stdout",
          "text": [
            "Hello Python\n"
          ]
        }
      ]
    },
    {
      "cell_type": "code",
      "source": [
        "#2. Write a Python program to do arithmetical operations addition and division.?\n",
        "\n",
        "def add_numbers(a, b):\n",
        "    return a + b\n",
        "\n",
        "def divide_numbers(a, b):\n",
        "    return a / b\n",
        "\n",
        "# Example usage\n",
        "num1 = 10\n",
        "num2 = 5\n",
        "\n",
        "result_addition = add_numbers(num1, num2)\n",
        "result_division = divide_numbers(num1, num2)\n",
        "\n",
        "print(\"Addition:\", result_addition)\n",
        "print(\"Division:\", result_division)\n"
      ],
      "metadata": {
        "colab": {
          "base_uri": "https://localhost:8080/"
        },
        "id": "geZP-doe-bL9",
        "outputId": "a2c9ffa2-5f14-4a65-92bf-519d6e195cfe"
      },
      "execution_count": 2,
      "outputs": [
        {
          "output_type": "stream",
          "name": "stdout",
          "text": [
            "Addition: 15\n",
            "Division: 2.0\n"
          ]
        }
      ]
    },
    {
      "cell_type": "code",
      "source": [
        "#3. Write a Python program to find the area of a triangle?\n",
        "\n",
        "def calculate_triangle_area(base, height):\n",
        "    area = 0.5 * base * height\n",
        "    return area\n",
        "\n",
        "# Example usage\n",
        "base = 10\n",
        "height = 5\n",
        "\n",
        "triangle_area = calculate_triangle_area(base, height)\n",
        "\n",
        "print(\"The area of the triangle is:\", triangle_area)\n"
      ],
      "metadata": {
        "colab": {
          "base_uri": "https://localhost:8080/"
        },
        "id": "6B1RtqaD-9ld",
        "outputId": "2de5a885-2810-4c57-e1b4-30d7588a4368"
      },
      "execution_count": 3,
      "outputs": [
        {
          "output_type": "stream",
          "name": "stdout",
          "text": [
            "The area of the triangle is: 25.0\n"
          ]
        }
      ]
    },
    {
      "cell_type": "code",
      "source": [
        "#4. Write a Python program to swap two variables?\n",
        "\n",
        "def swap_variables(a, b):\n",
        "    temp = a\n",
        "    a = b\n",
        "    b = temp\n",
        "    return a, b\n",
        "\n",
        "# Example usage\n",
        "x = 10\n",
        "y = 5\n",
        "\n",
        "print(\"Before swapping: x =\", x, \"and y =\", y)\n",
        "\n",
        "x, y = swap_variables(x, y)\n",
        "\n",
        "print(\"After swapping: x =\", x, \"and y =\", y)\n"
      ],
      "metadata": {
        "colab": {
          "base_uri": "https://localhost:8080/"
        },
        "id": "_Db3Rhq8_JcC",
        "outputId": "583a6241-2911-4af6-f1a5-b1dd63d013c5"
      },
      "execution_count": 4,
      "outputs": [
        {
          "output_type": "stream",
          "name": "stdout",
          "text": [
            "Before swapping: x = 10 and y = 5\n",
            "After swapping: x = 5 and y = 10\n"
          ]
        }
      ]
    },
    {
      "cell_type": "code",
      "source": [
        "#5. Write a Python program to generate a random number?\n",
        "\n",
        "import random\n",
        "\n",
        "# Generate a random number between 0 and 1\n",
        "random_number = random.random()\n",
        "\n",
        "# Generate a random integer between a specified range\n",
        "random_integer = random.randint(1, 10)\n",
        "\n",
        "# Generate a random floating-point number between a specified range\n",
        "random_float = random.uniform(1.0, 5.0)\n",
        "\n",
        "print(\"Random number between 0 and 1:\", random_number)\n",
        "print(\"Random integer between 1 and 10:\", random_integer)\n",
        "print(\"Random float between 1.0 and 5.0:\", random_float)\n"
      ],
      "metadata": {
        "colab": {
          "base_uri": "https://localhost:8080/"
        },
        "id": "EgN28Sfw_TRh",
        "outputId": "a9c347a9-e34c-4a18-c375-892b126c5562"
      },
      "execution_count": 5,
      "outputs": [
        {
          "output_type": "stream",
          "name": "stdout",
          "text": [
            "Random number between 0 and 1: 0.27052947682690576\n",
            "Random integer between 1 and 10: 7\n",
            "Random float between 1.0 and 5.0: 1.7235382472503833\n"
          ]
        }
      ]
    },
    {
      "cell_type": "code",
      "source": [],
      "metadata": {
        "id": "Kez6Sc91_eg5"
      },
      "execution_count": null,
      "outputs": []
    }
  ]
}